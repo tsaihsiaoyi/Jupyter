{
 "cells": [
  {
   "cell_type": "code",
   "execution_count": null,
   "metadata": {},
   "outputs": [],
   "source": [
    "from requests import post\n",
    "from base64 import b64encode\n",
    "from Crypto.Cipher import PKCS1_v1_5\n",
    "from Crypto.PublicKey import RSA\n",
    "baseurl='https://bhpan.buaa.edu.cn:443/api/v1/'"
   ]
  },
  {
   "cell_type": "code",
   "execution_count": null,
   "metadata": {},
   "outputs": [],
   "source": [
    "ping=post(url=baseurl+'ping',verify=False)\n",
    "ping.__dict__"
   ]
  },
  {
   "cell_type": "code",
   "execution_count": null,
   "metadata": {},
   "outputs": [],
   "source": [
    "cipher=PKCS1_v1_5.new(RSA.importKey(open('anyshare_pub.key').read()))\n",
    "ciphertext=cipher.encrypt(b'')\n",
    "password=b64encode(ciphertext).decode()\n",
    "auth={\n",
    "  \"account\": \"\",\n",
    "  \"password\": password\n",
    "}\n",
    "headers = {'Content-Type':'application/json'}\n",
    "test=post(url=baseurl+'auth1/getnew',json=auth,headers=headers)\n",
    "print(test)\n",
    "dic=test.json()\n",
    "test.__dict__"
   ]
  },
  {
   "cell_type": "code",
   "execution_count": null,
   "metadata": {},
   "outputs": [],
   "source": [
    "params = 'tokenid='+dic['tokenid']\n",
    "get1=post(url=baseurl+'user/get',params=params,verify=False)\n",
    "get1.json()"
   ]
  },
  {
   "cell_type": "code",
   "execution_count": null,
   "metadata": {},
   "outputs": [],
   "source": [
    "payload={\n",
    "    'doctype':1\n",
    "}\n",
    "files=post(url=baseurl+'/entrydoc2/get',json=payload,params=params,verify=False)\n",
    "files.json()"
   ]
  },
  {
   "cell_type": "code",
   "execution_count": null,
   "metadata": {},
   "outputs": [],
   "source": [
    "getuserquota=post(url=baseurl+'/entrydoc2/getuserquota',params=params,verify=False)\n",
    "getuserquota.json()"
   ]
  },
  {
   "cell_type": "code",
   "execution_count": null,
   "metadata": {},
   "outputs": [],
   "source": [
    "gethostinfo=post(url=baseurl+'/redirect/gethostinfo',params=params,verify=False)\n",
    "gethostinfo.json()"
   ]
  },
  {
   "cell_type": "code",
   "execution_count": null,
   "metadata": {},
   "outputs": [],
   "source": [
    "getgroups=post(url=baseurl+'/contactor/getgroups',params=params,verify=False)\n",
    "getgroups.json()"
   ]
  }
 ],
 "metadata": {
  "language_info": {
   "codemirror_mode": {
    "name": "ipython",
    "version": 3
   },
   "file_extension": ".py",
   "mimetype": "text/x-python",
   "name": "python",
   "nbconvert_exporter": "python",
   "pygments_lexer": "ipython3",
   "version": "3.7.6-final"
  },
  "orig_nbformat": 2,
  "kernelspec": {
   "name": "python3",
   "display_name": "Python 3"
  }
 },
 "nbformat": 4,
 "nbformat_minor": 2
}