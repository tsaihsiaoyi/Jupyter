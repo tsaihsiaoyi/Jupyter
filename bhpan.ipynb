{
 "cells": [
  {
   "cell_type": "code",
   "execution_count": 12,
   "metadata": {},
   "outputs": [],
   "source": [
    "from requests import post\n",
    "from base64 import b64encode\n",
    "from Crypto.Cipher import PKCS1_v1_5\n",
    "from Crypto.PublicKey import RSA\n",
    "baseurl='https://bhpan.buaa.edu.cn:443/api/v1/'"
   ]
  },
  {
   "cell_type": "code",
   "execution_count": 2,
   "metadata": {},
   "outputs": [
    {
     "output_type": "execute_result",
     "data": {
      "text/plain": "{'_content': b'ok',\n '_content_consumed': True,\n '_next': None,\n 'status_code': 200,\n 'headers': {'Server': 'nginx', 'Date': 'Tue, 26 May 2020 03:04:22 GMT', 'Content-Type': 'application/json; charset=UTF-8', 'Content-Length': '2', 'Connection': 'keep-alive', 'Access-Control-Allow-Origin': '*', 'Access-Control-Allow-Methods': 'GET,POST,PUT,DELETE,HEAD,OPTIONS', 'Access-Control-Allow-Headers': 'DNT,Keep-Alive,User-Agent,X-Requested-With,If-Modified-Since,Cache-Control,Content-Type,Authorization,X-Eoss-Date', 'Expires': 'Tue, 26 May 2020 03:04:21 GMT', 'Cache-Control': 'no-cache', 'p3p': 'cp='},\n 'raw': <urllib3.response.HTTPResponse at 0x1dae652bbc8>,\n 'url': 'https://106.39.41.86:443/api/v1/ping',\n 'encoding': 'UTF-8',\n 'history': [],\n 'reason': 'OK',\n 'cookies': <RequestsCookieJar[]>,\n 'elapsed': datetime.timedelta(microseconds=197698),\n 'request': <PreparedRequest [POST]>,\n 'connection': <requests.adapters.HTTPAdapter at 0x1dae6bcf308>}"
     },
     "metadata": {},
     "execution_count": 2
    }
   ],
   "source": [
    "ping=post(url=baseurl+'ping',verify=False)\n",
    "ping.__dict__"
   ]
  },
  {
   "cell_type": "code",
   "execution_count": 15,
   "metadata": {},
   "outputs": [
    {
     "output_type": "stream",
     "name": "stdout",
     "text": "<Response [200]>\n"
    },
    {
     "output_type": "execute_result",
     "data": {
      "text/plain": "{'_content': b'{\"expires\":3600,\"needmodifypassword\":false,\"tokenid\":\"0aa55a4c-c49e-4f6b-a7bc-a2bf64212f37\",\"userid\":\"b66518a4-b1b2-11e9-b28d-04d7a545415f\"}',\n '_content_consumed': True,\n '_next': None,\n 'status_code': 200,\n 'headers': {'Server': 'nginx', 'Date': 'Tue, 26 May 2020 06:02:25 GMT', 'Content-Type': 'application/json; charset=UTF-8', 'Content-Length': '140', 'Connection': 'keep-alive', 'Access-Control-Allow-Origin': '*', 'Access-Control-Allow-Methods': 'GET,POST,PUT,DELETE,HEAD,OPTIONS', 'Access-Control-Allow-Headers': 'DNT,Keep-Alive,User-Agent,X-Requested-With,If-Modified-Since,Cache-Control,Content-Type,Authorization,X-Eoss-Date', 'Expires': 'Tue, 26 May 2020 06:02:24 GMT', 'Cache-Control': 'no-cache', 'p3p': 'cp='},\n 'raw': <urllib3.response.HTTPResponse at 0x1dae8c14e08>,\n 'url': 'https://bhpan.buaa.edu.cn:443/api/v1/auth1/getnew',\n 'encoding': 'UTF-8',\n 'history': [],\n 'reason': 'OK',\n 'cookies': <RequestsCookieJar[]>,\n 'elapsed': datetime.timedelta(microseconds=440721),\n 'request': <PreparedRequest [POST]>,\n 'connection': <requests.adapters.HTTPAdapter at 0x1dae8c008c8>}"
     },
     "metadata": {},
     "execution_count": 15
    }
   ],
   "source": [
    "cipher=PKCS1_v1_5.new(RSA.importKey(open('anyshare_pub.key').read()))\n",
    "ciphertext=cipher.encrypt(b'caixiaoyi0228')\n",
    "password=b64encode(ciphertext).decode()\n",
    "auth={\n",
    "  \"account\": \"18377087\",\n",
    "  \"password\": password\n",
    "}\n",
    "headers = {'Content-Type':'application/json'}\n",
    "test=post(url=baseurl+'auth1/getnew',json=auth,headers=headers)\n",
    "print(test)\n",
    "dic=test.json()\n",
    "test.__dict__"
   ]
  },
  {
   "cell_type": "code",
   "execution_count": 16,
   "metadata": {},
   "outputs": [
    {
     "output_type": "execute_result",
     "data": {
      "text/plain": "{'account': '18377087',\n 'agreedtotermsofuse': False,\n 'csflevel': 5,\n 'directdepinfos': [{'depid': '09f2f2a4-d470-11e9-9870-7485c4bd662a',\n   'name': '物理学院_学生'}],\n 'freezestatus': False,\n 'ismanager': False,\n 'leakproofvalue': 3,\n 'mail': '',\n 'name': '蔡晓亿_18377087',\n 'needrealnameauth': False,\n 'needsecondauth': False,\n 'pwdcontrol': 0,\n 'roleinfos': [],\n 'roletypes': [],\n 'telnumber': '15355172578',\n 'userid': 'b66518a4-b1b2-11e9-b28d-04d7a545415f',\n 'usertype': 3}"
     },
     "metadata": {},
     "execution_count": 16
    }
   ],
   "source": [
    "params = 'tokenid='+dic['tokenid']\n",
    "get1=post(url=baseurl+'user/get',params=params,verify=False)\n",
    "get1.json()"
   ]
  },
  {
   "cell_type": "code",
   "execution_count": 5,
   "metadata": {},
   "outputs": [
    {
     "output_type": "execute_result",
     "data": {
      "text/plain": "{'docinfos': [{'attr': 83907924,\n   'create_time': 1564371673558026,\n   'creator': '蔡晓亿_18377087',\n   'displayorder': -1,\n   'docid': 'gns://CC0AE8E5A1C7419AB23DF00614C74C72',\n   'doctype': 1,\n   'downloadwatermark': False,\n   'duedate': -1,\n   'editor': '蔡晓亿_18377087',\n   'modified': 1590396914366831,\n   'name': '蔡晓亿_18377087',\n   'rev': 'DF78AAAD89FE48EC9520FA3E53E35BD4',\n   'siteinfo': {'id': '', 'name': ''},\n   'size': -1,\n   'typename': '个人文档'}]}"
     },
     "metadata": {},
     "execution_count": 5
    }
   ],
   "source": [
    "payload={\n",
    "    'doctype':1\n",
    "}\n",
    "files=post(url=baseurl+'/entrydoc2/get',json=payload,params=params,verify=False)\n",
    "files.json()"
   ]
  },
  {
   "cell_type": "code",
   "execution_count": 6,
   "metadata": {},
   "outputs": [
    {
     "output_type": "execute_result",
     "data": {
      "text/plain": "{'quotainfos': [{'docid': 'gns://CC0AE8E5A1C7419AB23DF00614C74C72',\n   'doctype': 1,\n   'name': '蔡晓亿_18377087',\n   'quota': 193273528320,\n   'typename': '个人文档',\n   'used': 77673100252},\n  {'docid': 'gns://EF152E18F89345698E4990EF2B155CAC',\n   'doctype': 2,\n   'name': '校会活动部资料',\n   'quota': 21474836480,\n   'typename': '群组文档',\n   'used': 10019393513}]}"
     },
     "metadata": {},
     "execution_count": 6
    }
   ],
   "source": [
    "getuserquota=post(url=baseurl+'/entrydoc2/getuserquota',params=params,verify=False)\n",
    "getuserquota.json()"
   ]
  },
  {
   "cell_type": "code",
   "execution_count": 7,
   "metadata": {},
   "outputs": [
    {
     "output_type": "execute_result",
     "data": {
      "text/plain": "{'host': 'bhpan.buaa.edu.cn',\n 'https_port': 443,\n 'name': 'bhpan.buaa.edu.cn',\n 'port': 80}"
     },
     "metadata": {},
     "execution_count": 7
    }
   ],
   "source": [
    "gethostinfo=post(url=baseurl+'/redirect/gethostinfo',params=params,verify=False)\n",
    "gethostinfo.json()"
   ]
  },
  {
   "cell_type": "code",
   "execution_count": 8,
   "metadata": {},
   "outputs": [
    {
     "output_type": "execute_result",
     "data": {
      "text/plain": "{'groups': [{'count': 0,\n   'groupname': '临时联系人',\n   'id': 'b680c658-b1b2-11e9-b28d-04d7a545415f'},\n  {'count': 5,\n   'groupname': '创意库负责人',\n   'id': '5552e58c-45c3-11ea-a610-a0369f2112f0'},\n  {'count': 9,\n   'groupname': '活动小团',\n   'id': '33f0e79a-45c3-11ea-aa10-a0369f2112f0'},\n  {'count': 10,\n   'groupname': '女生节负责人',\n   'id': 'b29954da-5c5f-11ea-a7bb-a0369f51ecf0'},\n  {'count': 34,\n   'groupname': '校学生会活动部',\n   'id': 'f837a258-fc92-11e9-b561-04d7a545415f'}]}"
     },
     "metadata": {},
     "execution_count": 8
    }
   ],
   "source": [
    "getgroups=post(url=baseurl+'/contactor/getgroups',params=params,verify=False)\n",
    "getgroups.json()"
   ]
  }
 ],
 "metadata": {
  "language_info": {
   "codemirror_mode": {
    "name": "ipython",
    "version": 3
   },
   "file_extension": ".py",
   "mimetype": "text/x-python",
   "name": "python",
   "nbconvert_exporter": "python",
   "pygments_lexer": "ipython3",
   "version": "3.7.6-final"
  },
  "orig_nbformat": 2,
  "kernelspec": {
   "name": "python3",
   "display_name": "Python 3"
  }
 },
 "nbformat": 4,
 "nbformat_minor": 2
}