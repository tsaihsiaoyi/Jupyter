{
 "cells": [
  {
   "cell_type": "code",
   "execution_count": 3,
   "metadata": {},
   "outputs": [],
   "source": [
    "import pandas as pd\n",
    "from scipy.constants import *"
   ]
  },
  {
   "cell_type": "code",
   "execution_count": 5,
   "metadata": {},
   "outputs": [],
   "source": [
    "delta_mu_F=4E+9\n",
    "data1='''387.6Hz\t1.4085kHz\n",
    "383.14Hz\t1.2821kHz\n",
    "378.79Hz\t1.3889kHz\n",
    "381.68Hz\t1.3889kHz\n",
    "380.23Hz\t1.3699kHz'''\n",
    "df1=pd.DataFrame(columns=['delta_miu','delta_miu_m'])\n",
    "for i in data1.split('\\n'):\n",
    "    a,b=i.split()\n",
    "    a=float(a.replace('Hz',''))\n",
    "    b=float(b.replace('kHz',''))*1e3\n",
    "    "
   ]
  },
  {
   "cell_type": "code",
   "execution_count": 6,
   "metadata": {},
   "outputs": [],
   "source": [
    "data2='''频率较小的模的半高宽\t较大的模的半高宽\tdelta miu\n",
    "12.285kHz\t12.594kHz\t384.62Hz\n",
    "12.953kHz\t11.655kHz\t383.14Hz\n",
    "12.821kHz\t12.821kHz\t384.62Hz\n",
    "13.158kHz\t12.821kHz\t381.68Hz\n",
    "12.195kHz\t12.048kHz\t383.14Hz'''"
   ]
  },
  {
   "cell_type": "code",
   "execution_count": 7,
   "metadata": {},
   "outputs": [],
   "source": [
    "data3='''增益线宽\tdelta miu\n",
    "793.65Hz\t384.62Hz\n",
    "757.58Hz\t387.60Hz\n",
    "781.25Hz\t387.60Hz\n",
    "746.27Hz\t384.62Hz\n",
    "769.23Hz\t384.62Hz'''"
   ]
  }
 ],
 "metadata": {
  "kernelspec": {
   "display_name": "Python 3",
   "language": "python",
   "name": "python3"
  },
  "language_info": {
   "codemirror_mode": {
    "name": "ipython",
    "version": 3
   },
   "file_extension": ".py",
   "mimetype": "text/x-python",
   "name": "python",
   "nbconvert_exporter": "python",
   "pygments_lexer": "ipython3",
   "version": "3.6.6+"
  }
 },
 "nbformat": 4,
 "nbformat_minor": 2
}
