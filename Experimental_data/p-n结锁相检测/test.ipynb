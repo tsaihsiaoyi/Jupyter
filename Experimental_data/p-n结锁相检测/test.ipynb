{
 "metadata": {
  "language_info": {
   "codemirror_mode": {
    "name": "ipython",
    "version": 3
   },
   "file_extension": ".py",
   "mimetype": "text/x-python",
   "name": "python",
   "nbconvert_exporter": "python",
   "pygments_lexer": "ipython3",
   "version": "3.8.3-final"
  },
  "orig_nbformat": 2,
  "kernelspec": {
   "name": "python3",
   "display_name": "Python 3"
  }
 },
 "nbformat": 4,
 "nbformat_minor": 2,
 "cells": [
  {
   "cell_type": "code",
   "execution_count": 1,
   "metadata": {},
   "outputs": [],
   "source": [
    "import pandas as pd\n",
    "import matplotlib.pyplot as plt\n",
    "import numpy as np\n",
    "from scipy import constants\n",
    "plt.rcParams['font.sans-serif'] = ['SimHei']\n",
    "plt.rcParams['axes.unicode_minus'] = False"
   ]
  },
  {
   "cell_type": "code",
   "execution_count": 2,
   "metadata": {},
   "outputs": [
    {
     "output_type": "execute_result",
     "data": {
      "text/plain": [
       "    f   vt    vr_0  vr_0.2  vr_0.4  vr_0.6  vr_0.8    vr_1    vr_3    vr_5  \\\n",
       "0  30  100  0.0728  0.0612  0.0588  0.0554  0.0531  0.0508  0.0398  0.0352   \n",
       "1  30  150  0.1119  0.0960  0.0888  0.0840  0.0792  0.0760  0.0594  0.0538   \n",
       "2  30  200  0.1581  0.1334  0.1235  0.1169  0.1101  0.1056  0.0825  0.0730   \n",
       "3  20  200  0.1617  0.1361  0.1260  0.1191  0.1120  0.1074  0.0838  0.0741   \n",
       "4  10  200  0.1688  0.1407  0.1299  0.1225  0.1153  0.1104  0.0861  0.0761   \n",
       "\n",
       "     vr_7    vr_9  \n",
       "0  0.0329  0.0310  \n",
       "1  0.0494  0.0452  \n",
       "2  0.0675  0.0638  \n",
       "3  0.0684  0.0646  \n",
       "4  0.0700  0.0661  "
      ],
      "text/html": "<div>\n<style scoped>\n    .dataframe tbody tr th:only-of-type {\n        vertical-align: middle;\n    }\n\n    .dataframe tbody tr th {\n        vertical-align: top;\n    }\n\n    .dataframe thead th {\n        text-align: right;\n    }\n</style>\n<table border=\"1\" class=\"dataframe\">\n  <thead>\n    <tr style=\"text-align: right;\">\n      <th></th>\n      <th>f</th>\n      <th>vt</th>\n      <th>vr_0</th>\n      <th>vr_0.2</th>\n      <th>vr_0.4</th>\n      <th>vr_0.6</th>\n      <th>vr_0.8</th>\n      <th>vr_1</th>\n      <th>vr_3</th>\n      <th>vr_5</th>\n      <th>vr_7</th>\n      <th>vr_9</th>\n    </tr>\n  </thead>\n  <tbody>\n    <tr>\n      <th>0</th>\n      <td>30</td>\n      <td>100</td>\n      <td>0.0728</td>\n      <td>0.0612</td>\n      <td>0.0588</td>\n      <td>0.0554</td>\n      <td>0.0531</td>\n      <td>0.0508</td>\n      <td>0.0398</td>\n      <td>0.0352</td>\n      <td>0.0329</td>\n      <td>0.0310</td>\n    </tr>\n    <tr>\n      <th>1</th>\n      <td>30</td>\n      <td>150</td>\n      <td>0.1119</td>\n      <td>0.0960</td>\n      <td>0.0888</td>\n      <td>0.0840</td>\n      <td>0.0792</td>\n      <td>0.0760</td>\n      <td>0.0594</td>\n      <td>0.0538</td>\n      <td>0.0494</td>\n      <td>0.0452</td>\n    </tr>\n    <tr>\n      <th>2</th>\n      <td>30</td>\n      <td>200</td>\n      <td>0.1581</td>\n      <td>0.1334</td>\n      <td>0.1235</td>\n      <td>0.1169</td>\n      <td>0.1101</td>\n      <td>0.1056</td>\n      <td>0.0825</td>\n      <td>0.0730</td>\n      <td>0.0675</td>\n      <td>0.0638</td>\n    </tr>\n    <tr>\n      <th>3</th>\n      <td>20</td>\n      <td>200</td>\n      <td>0.1617</td>\n      <td>0.1361</td>\n      <td>0.1260</td>\n      <td>0.1191</td>\n      <td>0.1120</td>\n      <td>0.1074</td>\n      <td>0.0838</td>\n      <td>0.0741</td>\n      <td>0.0684</td>\n      <td>0.0646</td>\n    </tr>\n    <tr>\n      <th>4</th>\n      <td>10</td>\n      <td>200</td>\n      <td>0.1688</td>\n      <td>0.1407</td>\n      <td>0.1299</td>\n      <td>0.1225</td>\n      <td>0.1153</td>\n      <td>0.1104</td>\n      <td>0.0861</td>\n      <td>0.0761</td>\n      <td>0.0700</td>\n      <td>0.0661</td>\n    </tr>\n  </tbody>\n</table>\n</div>"
     },
     "metadata": {},
     "execution_count": 2
    }
   ],
   "source": [
    "data=pd.read_csv('test_data.csv')\n",
    "data"
   ]
  }
 ]
}