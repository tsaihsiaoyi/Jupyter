{
 "nbformat": 4,
 "nbformat_minor": 2,
 "metadata": {
  "language_info": {
   "name": "python",
   "codemirror_mode": {
    "name": "ipython",
    "version": 3
   },
   "version": "3.8.3-final"
  },
  "orig_nbformat": 2,
  "file_extension": ".py",
  "mimetype": "text/x-python",
  "name": "python",
  "npconvert_exporter": "python",
  "pygments_lexer": "ipython3",
  "version": 3,
  "kernelspec": {
   "name": "python3",
   "display_name": "Python 3"
  }
 },
 "cells": [
  {
   "source": [
    "## 实验数据记录\n",
    "### 不加磁场时\n",
    "$$\n",
    "D_{k-1}=\\frac{7.792-0.272}{\\sqrt{2}}\\\\\n",
    "D_k=\\frac{5.618-2.322}{\\sqrt{2}}\n",
    "$$\n",
    "### 加入磁场时\n",
    "$$\n",
    "D_b=\\frac{6.092-2.440}{\\sqrt{2}}\\\\\n",
    "D_a=\\frac{5.350-3.134}{\\sqrt{2}}\n",
    "$$"
   ],
   "cell_type": "markdown",
   "metadata": {}
  },
  {
   "cell_type": "code",
   "execution_count": 12,
   "metadata": {},
   "outputs": [
    {
     "output_type": "stream",
     "name": "stdout",
     "text": "D_k_1 = 5.3174e-03 m\nD_k = 2.3306e-03 m\nD_b = 2.5824e-03 m\nD_a = 1.5669e-03 m\n"
    }
   ],
   "source": [
    "dic={}\n",
    "dic['D_k_1']=(7.792-0.272)/2**0.5/1000\n",
    "dic['D_k']=(5.618-2.322)/2**0.5/1000\n",
    "dic['D_b']=(6.092-2.440)/2**0.5/1000\n",
    "dic['D_a']=(5.350-3.134)/2**0.5/1000\n",
    "for i in dic:\n",
    "    print(i,'=','%.4e'%dic[i],'m')"
   ]
  },
  {
   "source": [
    "$$\n",
    "标准具间隔圈厚度d=2mm\\\\\n",
    "当U=30V时,B=920mT\n",
    "$$\n",
    "根据公式\n",
    "$$\n",
    "\\frac{e}{m}=\\frac{2\\pi c(D_b^2-D_a^2)}{(M_2g_2-M_1g_1)dB(D_{k-1}^2-D_{k}^2)}\n",
    "$$"
   ],
   "cell_type": "markdown",
   "metadata": {}
  },
  {
   "cell_type": "code",
   "execution_count": 15,
   "metadata": {},
   "outputs": [
    {
     "output_type": "stream",
     "name": "stdout",
     "text": "d = 0.002 m\nB = 0.92 T\ne/m = 1.888e+11 C/kg\n"
    }
   ],
   "source": [
    "from scipy.constants import pi,c\n",
    "d=2/1000\n",
    "B=920/1000\n",
    "print('d','=','%.4g'%d,'m')\n",
    "print('B','=','%.4g'%B,'T')\n",
    "em=2*pi*c*(dic['D_b']**2-dic['D_a']**2)/\\\n",
    "(d*B*(dic['D_k_1']**2-dic['D_k']**2))\n",
    "print('e/m','=','%.4g'%em,'C/kg')"
   ]
  },
  {
   "source": [
    "### 计算得出\n",
    "$$\n",
    "\\frac{e}{m}=1.888\\times10^{11}\\ C/kg\n",
    "$$"
   ],
   "cell_type": "markdown",
   "metadata": {}
  },
  {
   "cell_type": "code",
   "execution_count": null,
   "metadata": {},
   "outputs": [],
   "source": []
  }
 ]
}