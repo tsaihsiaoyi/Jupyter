{
 "cells": [
  {
   "cell_type": "markdown",
   "metadata": {},
   "source": [
    "## Vectorization"
   ]
  },
  {
   "cell_type": "code",
   "execution_count": 1,
   "metadata": {
    "collapsed": true
   },
   "outputs": [],
   "source": [
    "#Import library\n",
    "import numpy\n",
    "import time"
   ]
  },
  {
   "cell_type": "code",
   "execution_count": 2,
   "metadata": {
    "collapsed": true
   },
   "outputs": [],
   "source": [
    "x = numpy.random.rand(100000000)\n",
    "y = numpy.random.rand(100000000)"
   ]
  },
  {
   "cell_type": "markdown",
   "metadata": {},
   "source": [
    "We want to perform dot product between x and y. dot product refered by x.y.\n",
    "x = [x1,x2,x3]\n",
    "y = [y1,y2,y3]\n",
    "dot product can be calculated as\n",
    "x.y = x1*y1 + x2*y2 + x3*y3"
   ]
  },
  {
   "cell_type": "markdown",
   "metadata": {},
   "source": [
    "Now first check non vectorized scaler version of the task."
   ]
  },
  {
   "cell_type": "code",
   "execution_count": 3,
   "metadata": {},
   "outputs": [
    {
     "name": "stdout",
     "output_type": "stream",
     "text": [
      "Time taken by scaler program : 68.59447741508484\n",
      "Sum value : 24999772.4968\n"
     ]
    }
   ],
   "source": [
    "time1 = time.time()\n",
    "sum = 0\n",
    "for i in range(len(y)):\n",
    "    sum = sum+x[i]*y[i]\n",
    "time2 = time.time()\n",
    "print('Time taken by scaler program :',str(time2-time1))\n",
    "print('Sum value :', str(sum))\n"
   ]
  },
  {
   "cell_type": "markdown",
   "metadata": {},
   "source": [
    "Now we check vectorized version available in numpy library"
   ]
  },
  {
   "cell_type": "code",
   "execution_count": 4,
   "metadata": {},
   "outputs": [
    {
     "name": "stdout",
     "output_type": "stream",
     "text": [
      "Time taken by scaler program : 0.4517829418182373\n",
      "Sum value : 24999772.4968\n"
     ]
    }
   ],
   "source": [
    "time1 = time.time()\n",
    "sum = 0\n",
    "sum = numpy.dot(x,y)\n",
    "time2 = time.time()\n",
    "print('Time taken by scaler program :',str(time2-time1))\n",
    "print('Sum value :', str(sum))"
   ]
  },
  {
   "cell_type": "code",
   "execution_count": 5,
   "metadata": {
    "collapsed": true
   },
   "outputs": [],
   "source": [
    "#Creating ndarray\n",
    "#Create one dimensional  array\n",
    "arrlist = [1,2,3,4]\n",
    "arrNumpy = numpy.array(arrlist)"
   ]
  },
  {
   "cell_type": "code",
   "execution_count": 6,
   "metadata": {
    "collapsed": true
   },
   "outputs": [],
   "source": [
    "#Multi dimension array\n",
    "arrlist2 = [[1,2,3,4],[5,6,7,8]]\n",
    "arrNumpy2 = numpy.array(arrlist2)"
   ]
  },
  {
   "cell_type": "code",
   "execution_count": 7,
   "metadata": {},
   "outputs": [
    {
     "name": "stdout",
     "output_type": "stream",
     "text": [
      "2\n",
      "(2, 4)\n"
     ]
    }
   ],
   "source": [
    "#Print dimention of array\n",
    "print(arrNumpy2.ndim)\n",
    "\n",
    "#Print shape of array\n",
    "print(arrNumpy2.shape)"
   ]
  },
  {
   "cell_type": "code",
   "execution_count": 8,
   "metadata": {},
   "outputs": [
    {
     "name": "stdout",
     "output_type": "stream",
     "text": [
      "Zero Array  [ 0.  0.  0.  0.  0.  0.  0.  0.  0.  0.]\n",
      "Ones Array [ 1.  1.  1.  1.  1.  1.  1.  1.  1.  1.]\n",
      "Empty Array [ 1.  1.  1.  1.  1.  1.  1.  1.  1.  1.]\n"
     ]
    }
   ],
   "source": [
    "#Create array of zeros \n",
    "zero_array = numpy.zeros(10)\n",
    "print('Zero Array ',zero_array)\n",
    "\n",
    "#Create array of ones\n",
    "ones_array = numpy.ones(10)\n",
    "print('Ones Array', ones_array)\n",
    "\n",
    "#Create empty array\n",
    "empty_array = numpy.empty(10)\n",
    "print('Empty Array', empty_array)"
   ]
  },
  {
   "cell_type": "code",
   "execution_count": 9,
   "metadata": {},
   "outputs": [
    {
     "data": {
      "text/plain": [
       "array([ 3. ,  3.2,  3.4,  3.6,  3.8,  4. ,  4.2,  4.4,  4.6,  4.8,  5. ,\n",
       "        5.2,  5.4,  5.6,  5.8])"
      ]
     },
     "execution_count": 9,
     "metadata": {},
     "output_type": "execute_result"
    }
   ],
   "source": [
    "#Create array of numbers\n",
    "#Generate numbers from 0 upto length 10\n",
    "numpy.arange(10)\n",
    "\n",
    "#Generate numbers between a range\n",
    "numpy.arange(-5,14)\n",
    "\n",
    "#Generate numbers with a fixed distance between them\n",
    "numpy.arange(3,6,0.2)"
   ]
  },
  {
   "cell_type": "markdown",
   "metadata": {},
   "source": [
    "Indexing and Slicing "
   ]
  },
  {
   "cell_type": "code",
   "execution_count": 10,
   "metadata": {},
   "outputs": [
    {
     "name": "stdout",
     "output_type": "stream",
     "text": [
      "[ 0  1  2  3  4  5  6  7  8  9 10 11 12 13 14]\n",
      "2\n",
      "[2 3 4]\n",
      "[ 0  1  2 34 34 34 34 34 34  9 10 11 12 13 14]\n"
     ]
    }
   ],
   "source": [
    "#Indexing and slicing on 1D array\n",
    "array = numpy.arange(15)\n",
    "print(array)\n",
    "print(array[2])\n",
    "print(array[2:5])\n",
    "array[3:9] = 34\n",
    "print(array)"
   ]
  },
  {
   "cell_type": "code",
   "execution_count": 11,
   "metadata": {},
   "outputs": [
    {
     "name": "stdout",
     "output_type": "stream",
     "text": [
      "[[1 2 3]\n",
      " [7 8 9]]\n",
      "[7 8 9]\n",
      "8\n",
      "8\n"
     ]
    }
   ],
   "source": [
    "array2 = numpy.array([[1,2,3],[7,8,9]])\n",
    "print(array2)\n",
    "print(array2[1])\n",
    "print(array2[1][1])\n",
    "print(array2[1,1])"
   ]
  },
  {
   "cell_type": "code",
   "execution_count": 12,
   "metadata": {},
   "outputs": [
    {
     "name": "stdout",
     "output_type": "stream",
     "text": [
      "[3 4 5 6 7 8 9]\n",
      "[[ 7  8  9]\n",
      " [13 14 15]]\n",
      "[[ 8  9]\n",
      " [14 15]]\n"
     ]
    }
   ],
   "source": [
    "#More example on slicing\n",
    "array = numpy.arange(10)\n",
    "array2 = array2 = numpy.array([[1,2,3],[7,8,9],[13,14,15]])\n",
    "print(array[3:])\n",
    "print(array2[1:])\n",
    "print(array2[1:,1:])"
   ]
  },
  {
   "cell_type": "markdown",
   "metadata": {},
   "source": [
    "Boolean Indexing"
   ]
  },
  {
   "cell_type": "code",
   "execution_count": 13,
   "metadata": {},
   "outputs": [
    {
     "name": "stdout",
     "output_type": "stream",
     "text": [
      "[False False  True False False False]\n",
      "['Ankita' 'Ankita']\n",
      "[11 12 13 14]\n"
     ]
    }
   ],
   "source": [
    "names = ['Abhishek','Ankita','Vijay','Aditya','John','Ankita']\n",
    "names_array = numpy.array(names)\n",
    "\n",
    "#Check where the condition is true\n",
    "print(names_array=='Vijay')\n",
    "\n",
    "#Include names which satisfy the condition\n",
    "namelist = names_array[names_array=='Ankita']\n",
    "print(namelist)\n",
    "\n",
    "array = numpy.arange(15)\n",
    "large10  = array[array>10]\n",
    "print(large10)"
   ]
  },
  {
   "cell_type": "markdown",
   "metadata": {},
   "source": [
    "Fast Element wise functions on array"
   ]
  },
  {
   "cell_type": "code",
   "execution_count": 14,
   "metadata": {},
   "outputs": [
    {
     "name": "stderr",
     "output_type": "stream",
     "text": [
      "C:\\Software\\Anaconda3\\lib\\site-packages\\ipykernel_launcher.py:16: RuntimeWarning: divide by zero encountered in log\n",
      "  app.launch_new_instance()\n",
      "C:\\Software\\Anaconda3\\lib\\site-packages\\ipykernel_launcher.py:17: RuntimeWarning: divide by zero encountered in log10\n",
      "C:\\Software\\Anaconda3\\lib\\site-packages\\ipykernel_launcher.py:27: RuntimeWarning: divide by zero encountered in log\n"
     ]
    },
    {
     "data": {
      "text/plain": [
       "array([ 0.,  1.,  1.,  1.,  1.,  1.])"
      ]
     },
     "execution_count": 14,
     "metadata": {},
     "output_type": "execute_result"
    }
   ],
   "source": [
    "array = numpy.arange(-5,5)\n",
    "\n",
    "#Absolute values of element\n",
    "numpy.abs(array)\n",
    "\n",
    "#Square root of each element\n",
    "numpy.sqrt(numpy.abs(array))\n",
    "\n",
    "#Square\n",
    "numpy.square(array)\n",
    "\n",
    "#Exponent\n",
    "numpy.exp(array)\n",
    "\n",
    "#Logrithm\n",
    "numpy.log(numpy.abs(array))\n",
    "numpy.log10(numpy.abs(array))\n",
    "\n",
    "#Sign\n",
    "numpy.sign(array)\n",
    "\n",
    "#Ceil and Floor\n",
    "numpy.ceil(array)\n",
    "numpy.floor(array)\n",
    "\n",
    "#Checking for infinite\n",
    "numpy.isinf(numpy.log(numpy.abs(array)))\n",
    "\n",
    "arrayTrig = numpy.array([0,45,90,180,270,370])\n",
    "\n",
    "#trigonometric  functions\n",
    "numpy.sin(arrayTrig)\n",
    "numpy.cos(arrayTrig)\n",
    "numpy.tan(arrayTrig)\n",
    "numpy.sinh(arrayTrig)\n",
    "numpy.cosh(arrayTrig)\n",
    "numpy.tanh(arrayTrig)\n"
   ]
  },
  {
   "cell_type": "code",
   "execution_count": 15,
   "metadata": {},
   "outputs": [
    {
     "data": {
      "text/plain": [
       "array([ 1,  4,  7, 10, 13, 16, 19, 22, 25, 28, 31, 34, 37, 40, 43, 46, 49,\n",
       "       52, 55, 58])"
      ]
     },
     "execution_count": 15,
     "metadata": {},
     "output_type": "execute_result"
    }
   ],
   "source": [
    "array1 = numpy.arange(1,60,3)\n",
    "array2 = numpy.arange(1,80,4)\n",
    "\n",
    "#Add two array (element wise)\n",
    "numpy.add(array1,array2)\n",
    "\n",
    "#Substract two array\n",
    "numpy.subtract(array2,array1)\n",
    "\n",
    "#Multiply two array\n",
    "numpy.multiply(array1,array2)\n",
    "\n",
    "#Divide\n",
    "numpy.divide(array2,array1)\n",
    "\n",
    "#Power\n",
    "numpy.power(array2,array1)\n",
    "\n",
    "#return element wise maximum\n",
    "numpy.maximum(array2,array1)\n",
    "\n",
    "#return element wise minimum\n",
    "numpy.minimum(array2,array1)\n",
    "\n",
    "#Logical operations\n",
    "numpy.logical_and(array1,array2)\n",
    "numpy.logical_not(array1)\n",
    "numpy.logical_or(array1,array2)\n",
    "numpy.logical_xor(array1,array2)\n",
    "\n",
    "#Sort array\n",
    "numpy.sort(array1)"
   ]
  },
  {
   "cell_type": "markdown",
   "metadata": {},
   "source": [
    "Statistical Functions"
   ]
  },
  {
   "cell_type": "code",
   "execution_count": 16,
   "metadata": {},
   "outputs": [
    {
     "data": {
      "text/plain": [
       "array([  1,   5,  12,  22,  35,  51,  70,  92, 117, 145, 176, 210, 247,\n",
       "       287, 330, 376, 425, 477, 532, 590], dtype=int32)"
      ]
     },
     "execution_count": 16,
     "metadata": {},
     "output_type": "execute_result"
    }
   ],
   "source": [
    "#Sum of all elements\n",
    "numpy.sum(array1)\n",
    "\n",
    "#Mean\n",
    "numpy.mean(array1)\n",
    "\n",
    "#Standard Deviation\n",
    "numpy.std(array1)\n",
    "\n",
    "#Variance\n",
    "numpy.var(array1)\n",
    "\n",
    "#Maximum element\n",
    "numpy.max(array1)\n",
    "\n",
    "#Minimum element\n",
    "numpy.min(array1)\n",
    "\n",
    "#Index of max element\n",
    "numpy.argmax(array1)\n",
    "\n",
    "#Index of max element\n",
    "numpy.argmin(array1)\n",
    "\n",
    "#Cumulative product of elements\n",
    "numpy.cumprod(array1)\n",
    "\n",
    "#Cumulative sum of elements\n",
    "numpy.cumsum(array1)\n"
   ]
  },
  {
   "cell_type": "markdown",
   "metadata": {},
   "source": [
    "Set operations"
   ]
  },
  {
   "cell_type": "code",
   "execution_count": 17,
   "metadata": {},
   "outputs": [
    {
     "data": {
      "text/plain": [
       "array([ 4,  7, 10, 16, 19, 22, 28, 31, 34, 40, 43, 46, 52, 55, 58])"
      ]
     },
     "execution_count": 17,
     "metadata": {},
     "output_type": "execute_result"
    }
   ],
   "source": [
    "#Union of two array\n",
    "numpy.union1d(array1,array2)\n",
    "\n",
    "#Intersection of two array\n",
    "numpy.intersect1d(array1,array2)\n",
    "\n",
    "#Set different\n",
    "numpy.setdiff1d(array1,array2)"
   ]
  },
  {
   "cell_type": "markdown",
   "metadata": {},
   "source": [
    "Linear Algebra Functions"
   ]
  },
  {
   "cell_type": "code",
   "execution_count": 18,
   "metadata": {
    "collapsed": true
   },
   "outputs": [],
   "source": [
    "#Dot product sum\n",
    "array1.dot(array2)\n",
    "\n",
    "array2d1 = numpy.array([[1,2,3],[4,5,6],[7,8,9]])\n",
    "array2d2 = numpy.array([[1,1,1],[2,2,2],[3,3,3]])\n",
    "\n",
    "#Inverse of matrix\n",
    "numpy.linalg.inv(array2d1)\n",
    "\n",
    "#Transposne\n",
    "array2d1.T\n",
    "\n",
    "#Get diagonal of matrix\n",
    "numpy.diag(array2d1)\n",
    "\n",
    "#Compute determinant\n",
    "numpy.linalg.det(array2d1)\n",
    "\n",
    "#QR Decomposition of matrix\n",
    "q,r = numpy.linalg.qr(array2d1)\n",
    "\n",
    "#Compute trace (sum of all diagonal element)\n",
    "numpy.trace(array2d1)\n",
    "\n",
    "#SVD decomposition\n",
    "a,b,c = numpy.linalg.svd(array2d1)"
   ]
  },
  {
   "cell_type": "markdown",
   "metadata": {
    "collapsed": true
   },
   "source": [
    "### Activation Functions"
   ]
  },
  {
   "cell_type": "code",
   "execution_count": 19,
   "metadata": {
    "collapsed": true
   },
   "outputs": [],
   "source": [
    "def sigmoid_array(x):                                        \n",
    "    return 1 / (1 + numpy.exp(-x))"
   ]
  },
  {
   "cell_type": "code",
   "execution_count": 20,
   "metadata": {
    "collapsed": true
   },
   "outputs": [],
   "source": [
    "numbers = numpy.arange(-10,10)\n",
    "sigmoids = sigmoid_array(numbers)"
   ]
  },
  {
   "cell_type": "code",
   "execution_count": 21,
   "metadata": {},
   "outputs": [
    {
     "data": {
      "image/png": "[encoded data removed]",
      "text/plain": [
       "<matplotlib.figure.Figure at 0x26287dbd160>"
      ]
     },
     "metadata": {},
     "output_type": "display_data"
    }
   ],
   "source": [
    "import matplotlib.pyplot as plt\n",
    "fig, ax = plt.subplots()\n",
    "ax.plot(numbers, sigmoids)\n",
    "ax.grid(True)\n",
    "plt.show()"
   ]
  },
  {
   "cell_type": "code",
   "execution_count": 22,
   "metadata": {
    "collapsed": true
   },
   "outputs": [],
   "source": [
    "def tanh_array(x):                                        \n",
    "    return numpy.tanh(x)"
   ]
  },
  {
   "cell_type": "code",
   "execution_count": 23,
   "metadata": {
    "collapsed": true
   },
   "outputs": [],
   "source": [
    "numbers = numpy.arange(-10,10)\n",
    "tanh = tanh_array(numbers)"
   ]
  },
  {
   "cell_type": "code",
   "execution_count": 24,
   "metadata": {},
   "outputs": [
    {
     "data": {
      "image/png": "[encoded data removed]",
      "text/plain": [
       "<matplotlib.figure.Figure at 0x262e8286828>"
      ]
     },
     "metadata": {},
     "output_type": "display_data"
    }
   ],
   "source": [
    "fig, ax = plt.subplots()\n",
    "ax.plot(numbers, tanh)\n",
    "ax.grid(True)\n",
    "plt.show()"
   ]
  },
  {
   "cell_type": "code",
   "execution_count": 25,
   "metadata": {
    "collapsed": true
   },
   "outputs": [],
   "source": [
    "def relu_array(x):                                        \n",
    "    return numpy.maximum(0,x)"
   ]
  },
  {
   "cell_type": "code",
   "execution_count": 26,
   "metadata": {},
   "outputs": [
    {
     "data": {
      "image/png": "[encoded data removed]",
      "text/plain": [
       "<matplotlib.figure.Figure at 0x262e8348fd0>"
      ]
     },
     "metadata": {},
     "output_type": "display_data"
    }
   ],
   "source": [
    "### relu = relu_array(numbers)\n",
    "relu = relu_array(numbers)\n",
    "fig, ax = plt.subplots()\n",
    "ax.plot(numbers, relu)\n",
    "ax.grid(True)\n",
    "plt.show()"
   ]
  },
  {
   "cell_type": "markdown",
   "metadata": {
    "collapsed": true
   },
   "source": [
    "### Neural Network Classifier using Keras"
   ]
  },
  {
   "cell_type": "markdown",
   "metadata": {},
   "source": [
    "We will build our first simple neural network classifier using keras library. For this experiment we will use iris dataset. This is a public dataset downloaded from UCI https://archive.ics.uci.edu/ml/datasets/iris"
   ]
  },
  {
   "cell_type": "markdown",
   "metadata": {},
   "source": [
    "For this task we need to install two additional libraries Keras and Tensorflow.\n",
    "\n",
    "use following command to install keras and tensorflow\n"
   ]
  },
  {
   "cell_type": "code",
   "execution_count": 31,
   "metadata": {},
   "outputs": [
    {
     "name": "stdout",
     "output_type": "stream",
     "text": [
      "Requirement already satisfied: keras in c:\\software\\anaconda3\\lib\\site-packages\n",
      "Requirement already satisfied: pyyaml in c:\\software\\anaconda3\\lib\\site-packages (from keras)\n",
      "Requirement already satisfied: six>=1.9.0 in c:\\software\\anaconda3\\lib\\site-packages (from keras)\n",
      "Requirement already satisfied: numpy>=1.9.1 in c:\\software\\anaconda3\\lib\\site-packages (from keras)\n",
      "Requirement already satisfied: scipy>=0.14 in c:\\software\\anaconda3\\lib\\site-packages (from keras)\n",
      "Requirement already satisfied: tensorflow in c:\\software\\anaconda3\\lib\\site-packages\n",
      "Requirement already satisfied: six>=1.10.0 in c:\\software\\anaconda3\\lib\\site-packages (from tensorflow)\n",
      "Requirement already satisfied: protobuf>=3.3.0 in c:\\software\\anaconda3\\lib\\site-packages (from tensorflow)\n",
      "Requirement already satisfied: wheel>=0.26 in c:\\software\\anaconda3\\lib\\site-packages (from tensorflow)\n",
      "Requirement already satisfied: tensorflow-tensorboard<0.2.0,>=0.1.0 in c:\\software\\anaconda3\\lib\\site-packages (from tensorflow)\n",
      "Requirement already satisfied: numpy>=1.11.0 in c:\\software\\anaconda3\\lib\\site-packages (from tensorflow)\n",
      "Requirement already satisfied: setuptools in c:\\software\\anaconda3\\lib\\site-packages\\setuptools-27.2.0-py3.6.egg (from protobuf>=3.3.0->tensorflow)\n",
      "Requirement already satisfied: markdown>=2.6.8 in c:\\software\\anaconda3\\lib\\site-packages (from tensorflow-tensorboard<0.2.0,>=0.1.0->tensorflow)\n",
      "Requirement already satisfied: html5lib==0.9999999 in c:\\software\\anaconda3\\lib\\site-packages (from tensorflow-tensorboard<0.2.0,>=0.1.0->tensorflow)\n",
      "Requirement already satisfied: bleach==1.5.0 in c:\\software\\anaconda3\\lib\\site-packages (from tensorflow-tensorboard<0.2.0,>=0.1.0->tensorflow)\n",
      "Requirement already satisfied: werkzeug>=0.11.10 in c:\\software\\anaconda3\\lib\\site-packages (from tensorflow-tensorboard<0.2.0,>=0.1.0->tensorflow)\n"
     ]
    }
   ],
   "source": [
    "! pip install keras\n",
    "! pip install tensorflow"
   ]
  },
  {
   "cell_type": "code",
   "execution_count": 27,
   "metadata": {},
   "outputs": [
    {
     "name": "stderr",
     "output_type": "stream",
     "text": [
      "C:\\Software\\Anaconda3\\lib\\site-packages\\sklearn\\cross_validation.py:41: DeprecationWarning: This module was deprecated in version 0.18 in favor of the model_selection module into which all the refactored classes and functions are moved. Also note that the interface of the new CV iterators are different from that of this module. This module will be removed in 0.20.\n",
      "  \"This module will be removed in 0.20.\", DeprecationWarning)\n",
      "Using TensorFlow backend.\n"
     ]
    }
   ],
   "source": [
    "#Import libraries\n",
    "import seaborn\n",
    "import numpy\n",
    "import pandas \n",
    "\n",
    "from sklearn.cross_validation import train_test_split\n",
    "from sklearn.preprocessing import LabelEncoder\n",
    "from sklearn.preprocessing import OneHotEncoder\n",
    "\n",
    "from keras.models import Sequential\n",
    "from keras.layers.core import Dense, Activation\n",
    "from keras.utils import np_utils"
   ]
  },
  {
   "cell_type": "code",
   "execution_count": 28,
   "metadata": {
    "collapsed": true
   },
   "outputs": [],
   "source": [
    "#Read iris dataset stored in data folder\n",
    "data = pandas.read_csv('D:/book/data/iris.csv')"
   ]
  },
  {
   "cell_type": "code",
   "execution_count": 29,
   "metadata": {},
   "outputs": [
    {
     "data": {
      "text/html": [
       "<div>\n",
       "<style>\n",
       "    .dataframe thead tr:only-child th {\n",
       "        text-align: right;\n",
       "    }\n",
       "\n",
       "    .dataframe thead th {\n",
       "        text-align: left;\n",
       "    }\n",
       "\n",
       "    .dataframe tbody tr th {\n",
       "        vertical-align: top;\n",
       "    }\n",
       "</style>\n",
       "<table border=\"1\" class=\"dataframe\">\n",
       "  <thead>\n",
       "    <tr style=\"text-align: right;\">\n",
       "      <th></th>\n",
       "      <th>sepal_length</th>\n",
       "      <th>sepal_width</th>\n",
       "      <th>petal_length</th>\n",
       "      <th>petal_width</th>\n",
       "      <th>class</th>\n",
       "    </tr>\n",
       "  </thead>\n",
       "  <tbody>\n",
       "    <tr>\n",
       "      <th>0</th>\n",
       "      <td>5.1</td>\n",
       "      <td>3.5</td>\n",
       "      <td>1.4</td>\n",
       "      <td>0.2</td>\n",
       "      <td>Iris-setosa</td>\n",
       "    </tr>\n",
       "    <tr>\n",
       "      <th>1</th>\n",
       "      <td>4.9</td>\n",
       "      <td>3.0</td>\n",
       "      <td>1.4</td>\n",
       "      <td>0.2</td>\n",
       "      <td>Iris-setosa</td>\n",
       "    </tr>\n",
       "    <tr>\n",
       "      <th>2</th>\n",
       "      <td>4.7</td>\n",
       "      <td>3.2</td>\n",
       "      <td>1.3</td>\n",
       "      <td>0.2</td>\n",
       "      <td>Iris-setosa</td>\n",
       "    </tr>\n",
       "    <tr>\n",
       "      <th>3</th>\n",
       "      <td>4.6</td>\n",
       "      <td>3.1</td>\n",
       "      <td>1.5</td>\n",
       "      <td>0.2</td>\n",
       "      <td>Iris-setosa</td>\n",
       "    </tr>\n",
       "    <tr>\n",
       "      <th>4</th>\n",
       "      <td>5.0</td>\n",
       "      <td>3.6</td>\n",
       "      <td>1.4</td>\n",
       "      <td>0.2</td>\n",
       "      <td>Iris-setosa</td>\n",
       "    </tr>\n",
       "  </tbody>\n",
       "</table>\n",
       "</div>"
      ],
      "text/plain": [
       "   sepal_length  sepal_width  petal_length  petal_width        class\n",
       "0           5.1          3.5           1.4          0.2  Iris-setosa\n",
       "1           4.9          3.0           1.4          0.2  Iris-setosa\n",
       "2           4.7          3.2           1.3          0.2  Iris-setosa\n",
       "3           4.6          3.1           1.5          0.2  Iris-setosa\n",
       "4           5.0          3.6           1.4          0.2  Iris-setosa"
      ]
     },
     "execution_count": 29,
     "metadata": {},
     "output_type": "execute_result"
    }
   ],
   "source": [
    "#Check initial five rows of the data\n",
    "data.head()"
   ]
  },
  {
   "cell_type": "markdown",
   "metadata": {},
   "source": [
    "Above data has three classes in text form. To give input to our neural network model, we first need to convert them to one hot encoding. We use pandas get_dummies() function to create one hot encoded class.\n"
   ]
  },
  {
   "cell_type": "code",
   "execution_count": 30,
   "metadata": {
    "collapsed": true
   },
   "outputs": [],
   "source": [
    "class_as_one_hot_encoding = pandas.get_dummies(data['class'])"
   ]
  },
  {
   "cell_type": "code",
   "execution_count": 31,
   "metadata": {
    "collapsed": true
   },
   "outputs": [],
   "source": [
    "#Remove class and concat one hot encoding values\n",
    "del data['class']\n",
    "data = pandas.concat([data, class_as_one_hot_encoding], axis=1)"
   ]
  },
  {
   "cell_type": "code",
   "execution_count": 32,
   "metadata": {
    "collapsed": true
   },
   "outputs": [],
   "source": [
    "#Separate independent and dependent attributes\n",
    "x = data.values[:,:4]\n",
    "y = data.values[:,4:]"
   ]
  },
  {
   "cell_type": "code",
   "execution_count": 33,
   "metadata": {
    "collapsed": true
   },
   "outputs": [],
   "source": [
    "#Training and test split\n",
    "train_x, test_x, train_y, test_y = train_test_split(x, y, train_size=0.7)"
   ]
  },
  {
   "cell_type": "markdown",
   "metadata": {},
   "source": [
    "Keras is a library of neural network. It has a lot of hyper parameters to tune for better model creation. In the dataset which we have choose contains 4 features and one output with three possible classes. So our input layer must have four units and output layer must have three units. We have a choice of number of hidden layers and hidden units within. \n",
    "\n",
    "In this example we will use only one hidden layer. We will take 10 hidden units in it."
   ]
  },
  {
   "cell_type": "markdown",
   "metadata": {},
   "source": [
    "We will use sequential model in keras. This model is used to stacking up layers."
   ]
  },
  {
   "cell_type": "code",
   "execution_count": 34,
   "metadata": {
    "collapsed": true
   },
   "outputs": [],
   "source": [
    "model = Sequential()"
   ]
  },
  {
   "cell_type": "markdown",
   "metadata": {},
   "source": [
    "Now we define our first hidden layer. This layer is connected with four attribute input layer. In Keras we have different type of layers\n",
    "\n",
    "1. Dense Layer  - Nodes are fully connected with the output layer nodes.\n",
    "2. Activation Layer - Contains activation functions like sigmoid, ReLu, tanh\n",
    "3. Dropout Layer- Used for regularization\n",
    "4. Flatten Layer - Flatten the input.\n",
    "5. Reshape Layer - Reshape the output.\n",
    "6. Permute Layer - Permute the dimension of input as per pattern\n",
    "7. Repeat vector - repeat the input n times."
   ]
  },
  {
   "cell_type": "markdown",
   "metadata": {},
   "source": [
    "In our example we will use Dense layer followed by activation layer. In our first simple neural network we want to connect each input layer node to output layer node. We will use 10 hidden units in hidden layer."
   ]
  },
  {
   "cell_type": "code",
   "execution_count": 35,
   "metadata": {
    "collapsed": true
   },
   "outputs": [],
   "source": [
    "model.add(Dense(10, input_shape=(4,)))"
   ]
  },
  {
   "cell_type": "markdown",
   "metadata": {},
   "source": [
    "We will use sigmoid activation for this layer."
   ]
  },
  {
   "cell_type": "code",
   "execution_count": 36,
   "metadata": {
    "collapsed": true
   },
   "outputs": [],
   "source": [
    "model.add(Activation('sigmoid'))"
   ]
  },
  {
   "cell_type": "markdown",
   "metadata": {},
   "source": [
    "Now we define output layer. As we have 3 output classes, we use three units in output layer"
   ]
  },
  {
   "cell_type": "code",
   "execution_count": 37,
   "metadata": {
    "collapsed": true
   },
   "outputs": [],
   "source": [
    "model.add(Dense(3))"
   ]
  },
  {
   "cell_type": "markdown",
   "metadata": {},
   "source": [
    "We use softmax activation function for output layer."
   ]
  },
  {
   "cell_type": "code",
   "execution_count": 38,
   "metadata": {
    "collapsed": true
   },
   "outputs": [],
   "source": [
    "model.add(Activation('softmax'))"
   ]
  },
  {
   "cell_type": "markdown",
   "metadata": {},
   "source": [
    "**Configure Learning Process**\n",
    "\n",
    "Now we configure neural network training process. We have following choices.\n",
    "\n",
    "1. Optimizer\n",
    "    * Stochastic Gradient Descent\n",
    "    * Adamax\n",
    "    * Adam\n",
    "    * Nadam\n",
    "    * TFOptimizer\n",
    "    * RMSprop\n",
    "\n",
    "2. Loss function : Loss function is used to create the model for prediction. Different type of matrices are defined for different type of data. Some of the popular loss functions are\n",
    "\n",
    "    * mean_squared_error\n",
    "    * mean_absolute_error\n",
    "    * binary-cross-entropy\n",
    "    * categorical_crossentropy\n",
    "    * poisson\n",
    "    \n"
   ]
  },
  {
   "cell_type": "markdown",
   "metadata": {},
   "source": [
    "Now we compile our model using compile() function. Compiling the model uses efficient library (Tensorflow in this case) to do the processing"
   ]
  },
  {
   "cell_type": "code",
   "execution_count": 39,
   "metadata": {
    "collapsed": true
   },
   "outputs": [],
   "source": [
    "model.compile(optimizer='adam', loss='categorical_crossentropy', metrics=[\"accuracy\"])"
   ]
  },
  {
   "cell_type": "markdown",
   "metadata": {},
   "source": [
    "Now we fit the model. We can choose different set of hyper parameters which affects our training. Here we have chosen number of iteration = 100 (epochs) and batch size =1. Batch size = 1 means at one time we are exposing only one training example to our model. If we don't want to see the processing and loss calculation, we can add parameter verbose=0 in the fit function."
   ]
  },
  {
   "cell_type": "code",
   "execution_count": 40,
   "metadata": {},
   "outputs": [
    {
     "name": "stdout",
     "output_type": "stream",
     "text": [
      "Epoch 1/100\n",
      "105/105 [==============================] - 0s - loss: 1.1276 - acc: 0.4286         \n",
      "Epoch 2/100\n",
      "105/105 [==============================] - 0s - loss: 1.0631 - acc: 0.3524        \n",
      "Epoch 3/100\n",
      "105/105 [==============================] - 0s - loss: 1.0190 - acc: 0.4381        \n",
      "Epoch 4/100\n",
      "105/105 [==============================] - 0s - loss: 0.9865 - acc: 0.5238     \n",
      "Epoch 5/100\n",
      "105/105 [==============================] - 0s - loss: 0.9491 - acc: 0.4571     \n",
      "Epoch 6/100\n",
      "105/105 [==============================] - 0s - loss: 0.9135 - acc: 0.5905        \n",
      "Epoch 7/100\n",
      "105/105 [==============================] - 0s - loss: 0.8679 - acc: 0.7714     \n",
      "Epoch 8/100\n",
      "105/105 [==============================] - 0s - loss: 0.8219 - acc: 0.9333     \n",
      "Epoch 9/100\n",
      "105/105 [==============================] - 0s - loss: 0.7761 - acc: 0.9143     \n",
      "Epoch 10/100\n",
      "105/105 [==============================] - 0s - loss: 0.7360 - acc: 0.8857     \n",
      "Epoch 11/100\n",
      "105/105 [==============================] - 0s - loss: 0.6995 - acc: 0.9143     \n",
      "Epoch 12/100\n",
      "105/105 [==============================] - 0s - loss: 0.6683 - acc: 0.9048     \n",
      "Epoch 13/100\n",
      "105/105 [==============================] - 0s - loss: 0.6412 - acc: 0.8762     \n",
      "Epoch 14/100\n",
      "105/105 [==============================] - 0s - loss: 0.6151 - acc: 0.9429     \n",
      "Epoch 15/100\n",
      "105/105 [==============================] - 0s - loss: 0.5901 - acc: 0.9238     \n",
      "Epoch 16/100\n",
      "105/105 [==============================] - 0s - loss: 0.5721 - acc: 0.8857     \n",
      "Epoch 17/100\n",
      "105/105 [==============================] - 0s - loss: 0.5545 - acc: 0.9238     \n",
      "Epoch 18/100\n",
      "105/105 [==============================] - 0s - loss: 0.5366 - acc: 0.9714     \n",
      "Epoch 19/100\n",
      "105/105 [==============================] - 0s - loss: 0.5203 - acc: 0.9619     \n",
      "Epoch 20/100\n",
      "105/105 [==============================] - 0s - loss: 0.5068 - acc: 0.9524     \n",
      "Epoch 21/100\n",
      "105/105 [==============================] - 0s - loss: 0.4934 - acc: 0.9429     \n",
      "Epoch 22/100\n",
      "105/105 [==============================] - 0s - loss: 0.4832 - acc: 0.9619     \n",
      "Epoch 23/100\n",
      "105/105 [==============================] - 0s - loss: 0.4722 - acc: 0.9619     \n",
      "Epoch 24/100\n",
      "105/105 [==============================] - 0s - loss: 0.4633 - acc: 0.9619     \n",
      "Epoch 25/100\n",
      "105/105 [==============================] - 0s - loss: 0.4517 - acc: 0.9429     \n",
      "Epoch 26/100\n",
      "105/105 [==============================] - 0s - loss: 0.4423 - acc: 0.9714     \n",
      "Epoch 27/100\n",
      "105/105 [==============================] - 0s - loss: 0.4325 - acc: 0.9238     \n",
      "Epoch 28/100\n",
      "105/105 [==============================] - 0s - loss: 0.4260 - acc: 0.9619     \n",
      "Epoch 29/100\n",
      "105/105 [==============================] - 0s - loss: 0.4173 - acc: 0.9619     \n",
      "Epoch 30/100\n",
      "105/105 [==============================] - 0s - loss: 0.4123 - acc: 0.9619     \n",
      "Epoch 31/100\n",
      "105/105 [==============================] - 0s - loss: 0.4048 - acc: 0.9714     \n",
      "Epoch 32/100\n",
      "105/105 [==============================] - 0s - loss: 0.3953 - acc: 0.9714     \n",
      "Epoch 33/100\n",
      "105/105 [==============================] - 0s - loss: 0.3895 - acc: 0.9714     \n",
      "Epoch 34/100\n",
      "105/105 [==============================] - 0s - loss: 0.3813 - acc: 0.9714     \n",
      "Epoch 35/100\n",
      "105/105 [==============================] - 0s - loss: 0.3742 - acc: 0.9810     \n",
      "Epoch 36/100\n",
      "105/105 [==============================] - 0s - loss: 0.3690 - acc: 0.9714     \n",
      "Epoch 37/100\n",
      "105/105 [==============================] - 0s - loss: 0.3616 - acc: 0.9714     \n",
      "Epoch 38/100\n",
      "105/105 [==============================] - 0s - loss: 0.3534 - acc: 0.9810       \n",
      "Epoch 39/100\n",
      "105/105 [==============================] - 0s - loss: 0.3524 - acc: 0.9714     \n",
      "Epoch 40/100\n",
      "105/105 [==============================] - 0s - loss: 0.3444 - acc: 0.9810     \n",
      "Epoch 41/100\n",
      "105/105 [==============================] - 0s - loss: 0.3378 - acc: 0.9810     \n",
      "Epoch 42/100\n",
      "105/105 [==============================] - 0s - loss: 0.3322 - acc: 0.9619     \n",
      "Epoch 43/100\n",
      "105/105 [==============================] - 0s - loss: 0.3249 - acc: 0.9714     \n",
      "Epoch 44/100\n",
      "105/105 [==============================] - 0s - loss: 0.3218 - acc: 0.9810     \n",
      "Epoch 45/100\n",
      "105/105 [==============================] - 0s - loss: 0.3119 - acc: 0.9810     \n",
      "Epoch 46/100\n",
      "105/105 [==============================] - 0s - loss: 0.3054 - acc: 0.9714     \n",
      "Epoch 47/100\n",
      "105/105 [==============================] - 0s - loss: 0.2989 - acc: 0.9810     \n",
      "Epoch 48/100\n",
      "105/105 [==============================] - 0s - loss: 0.2913 - acc: 0.9619     \n",
      "Epoch 49/100\n",
      "105/105 [==============================] - 0s - loss: 0.2909 - acc: 0.9524     \n",
      "Epoch 50/100\n",
      "105/105 [==============================] - 0s - loss: 0.2847 - acc: 0.9619     \n",
      "Epoch 51/100\n",
      "105/105 [==============================] - 0s - loss: 0.2758 - acc: 0.9810     \n",
      "Epoch 52/100\n",
      "105/105 [==============================] - 0s - loss: 0.2696 - acc: 0.9810     \n",
      "Epoch 53/100\n",
      "105/105 [==============================] - 0s - loss: 0.2659 - acc: 0.9810     \n",
      "Epoch 54/100\n",
      "105/105 [==============================] - 0s - loss: 0.2608 - acc: 0.9714     \n",
      "Epoch 55/100\n",
      "105/105 [==============================] - 0s - loss: 0.2553 - acc: 0.9810     \n",
      "Epoch 56/100\n",
      "105/105 [==============================] - 0s - loss: 0.2504 - acc: 0.9810     \n",
      "Epoch 57/100\n",
      "105/105 [==============================] - 0s - loss: 0.2475 - acc: 0.9714     \n",
      "Epoch 58/100\n",
      "105/105 [==============================] - 0s - loss: 0.2407 - acc: 0.9810     \n",
      "Epoch 59/100\n",
      "105/105 [==============================] - 0s - loss: 0.2373 - acc: 0.9905     \n",
      "Epoch 60/100\n",
      "105/105 [==============================] - 0s - loss: 0.2301 - acc: 0.9810     \n",
      "Epoch 61/100\n",
      "105/105 [==============================] - 0s - loss: 0.2281 - acc: 0.9714     \n",
      "Epoch 62/100\n",
      "105/105 [==============================] - 0s - loss: 0.2223 - acc: 0.9714     \n",
      "Epoch 63/100\n",
      "105/105 [==============================] - 0s - loss: 0.2204 - acc: 0.9905     \n",
      "Epoch 64/100\n",
      "105/105 [==============================] - 0s - loss: 0.2157 - acc: 0.9714       \n",
      "Epoch 65/100\n",
      "105/105 [==============================] - 0s - loss: 0.2141 - acc: 0.9810     \n",
      "Epoch 66/100\n",
      "105/105 [==============================] - 0s - loss: 0.2073 - acc: 0.9714     \n",
      "Epoch 67/100\n",
      "105/105 [==============================] - 0s - loss: 0.2044 - acc: 0.9619     \n",
      "Epoch 68/100\n",
      "105/105 [==============================] - 0s - loss: 0.2030 - acc: 0.9810     \n",
      "Epoch 69/100\n",
      "105/105 [==============================] - 0s - loss: 0.1991 - acc: 0.9714     \n",
      "Epoch 70/100\n",
      "105/105 [==============================] - 0s - loss: 0.1933 - acc: 0.9714     \n",
      "Epoch 71/100\n",
      "105/105 [==============================] - 0s - loss: 0.1921 - acc: 0.9714       \n",
      "Epoch 72/100\n",
      "105/105 [==============================] - 0s - loss: 0.1876 - acc: 0.9714     \n",
      "Epoch 73/100\n",
      "105/105 [==============================] - 0s - loss: 0.1835 - acc: 0.9714     \n",
      "Epoch 74/100\n",
      "105/105 [==============================] - 0s - loss: 0.1818 - acc: 0.9714     \n",
      "Epoch 75/100\n",
      "105/105 [==============================] - 0s - loss: 0.1792 - acc: 0.9810     \n",
      "Epoch 76/100\n",
      "105/105 [==============================] - 0s - loss: 0.1769 - acc: 0.9714     \n",
      "Epoch 77/100\n",
      "105/105 [==============================] - 0s - loss: 0.1748 - acc: 0.9714     \n",
      "Epoch 78/100\n",
      "105/105 [==============================] - 0s - loss: 0.1740 - acc: 0.9619     \n",
      "Epoch 79/100\n",
      "105/105 [==============================] - 0s - loss: 0.1688 - acc: 0.9714     \n",
      "Epoch 80/100\n",
      "105/105 [==============================] - 0s - loss: 0.1703 - acc: 0.9714     \n",
      "Epoch 81/100\n",
      "105/105 [==============================] - 0s - loss: 0.1624 - acc: 0.9714     \n",
      "Epoch 82/100\n",
      "105/105 [==============================] - 0s - loss: 0.1641 - acc: 0.9810     \n",
      "Epoch 83/100\n",
      "105/105 [==============================] - 0s - loss: 0.1597 - acc: 0.9714     \n",
      "Epoch 84/100\n",
      "105/105 [==============================] - 0s - loss: 0.1597 - acc: 0.9619     \n",
      "Epoch 85/100\n",
      "105/105 [==============================] - 0s - loss: 0.1558 - acc: 0.9714     \n",
      "Epoch 86/100\n",
      "105/105 [==============================] - 0s - loss: 0.1537 - acc: 0.9714     \n",
      "Epoch 87/100\n",
      "105/105 [==============================] - 0s - loss: 0.1507 - acc: 0.9810     \n",
      "Epoch 88/100\n"
     ]
    },
    {
     "name": "stdout",
     "output_type": "stream",
     "text": [
      "105/105 [==============================] - 0s - loss: 0.1495 - acc: 0.9714     \n",
      "Epoch 89/100\n",
      "105/105 [==============================] - 0s - loss: 0.1503 - acc: 0.9714     \n",
      "Epoch 90/100\n",
      "105/105 [==============================] - 0s - loss: 0.1460 - acc: 0.9810     \n",
      "Epoch 91/100\n",
      "105/105 [==============================] - 0s - loss: 0.1444 - acc: 0.9714     \n",
      "Epoch 92/100\n",
      "105/105 [==============================] - 0s - loss: 0.1425 - acc: 0.9810     \n",
      "Epoch 93/100\n",
      "105/105 [==============================] - 0s - loss: 0.1407 - acc: 0.9714     \n",
      "Epoch 94/100\n",
      "105/105 [==============================] - 0s - loss: 0.1383 - acc: 0.9810     \n",
      "Epoch 95/100\n",
      "105/105 [==============================] - 0s - loss: 0.1410 - acc: 0.9714     \n",
      "Epoch 96/100\n",
      "105/105 [==============================] - 0s - loss: 0.1389 - acc: 0.9714     \n",
      "Epoch 97/100\n",
      "105/105 [==============================] - 0s - loss: 0.1354 - acc: 0.9714     \n",
      "Epoch 98/100\n",
      "105/105 [==============================] - 0s - loss: 0.1335 - acc: 0.9714     \n",
      "Epoch 99/100\n",
      "105/105 [==============================] - 0s - loss: 0.1324 - acc: 0.9714     \n",
      "Epoch 100/100\n",
      "105/105 [==============================] - 0s - loss: 0.1301 - acc: 0.9810     \n"
     ]
    }
   ],
   "source": [
    "model_info = model.fit(train_x, train_y, epochs=100, batch_size=1 )"
   ]
  },
  {
   "cell_type": "markdown",
   "metadata": {},
   "source": [
    "We use keras evaluate() function which returns loss and accuracy"
   ]
  },
  {
   "cell_type": "code",
   "execution_count": 41,
   "metadata": {},
   "outputs": [
    {
     "name": "stdout",
     "output_type": "stream",
     "text": [
      "Model Accuracy = 0.9778\n"
     ]
    }
   ],
   "source": [
    "loss, accuracy = model.evaluate(test_x, test_y, verbose=0)\n",
    "print(\"Model Accuracy = {:.4f}\".format(accuracy))\n"
   ]
  },
  {
   "cell_type": "markdown",
   "metadata": {},
   "source": [
    "### Convolutional Neural Networks using Keras"
   ]
  },
  {
   "cell_type": "markdown",
   "metadata": {},
   "source": [
    "Now we will see some complex problem where deep learning can be used to improve performance. \n",
    "\n",
    "Object recognition is the process to identify predefined objects in the images. In the following example, we will use Keras to create CNN for object recognition.\n",
    "\n",
    "We will use CIFAR-10 dataset in this task. CIFAR stands for Canadian Institute for Advanced Research (CIFAR). This dataset has 60000 images of different objects.\n",
    "\n",
    "This dataset can easily be loaded using keras library. When we execute the code, it download the images. It may take some time depending on your bandwidth. "
   ]
  },
  {
   "cell_type": "code",
   "execution_count": 4,
   "metadata": {
    "collapsed": true
   },
   "outputs": [
    {
     "output_type": "error",
     "ename": "AttributeError",
     "evalue": "module 'keras.backend' has no attribute 'set_image_dim_ordering'",
     "traceback": [
      "\u001b[1;31m---------------------------------------------------------------------------\u001b[0m",
      "\u001b[1;31mAttributeError\u001b[0m                            Traceback (most recent call last)",
      "\u001b[1;32m<ipython-input-4-4bb88d36ea7e>\u001b[0m in \u001b[0;36m<module>\u001b[1;34m\u001b[0m\n\u001b[0;32m     15\u001b[0m \u001b[1;33m\u001b[0m\u001b[0m\n\u001b[0;32m     16\u001b[0m \u001b[1;32mfrom\u001b[0m \u001b[0mkeras\u001b[0m \u001b[1;32mimport\u001b[0m \u001b[0mbackend\u001b[0m \u001b[1;32mas\u001b[0m \u001b[0mK\u001b[0m\u001b[1;33m\u001b[0m\u001b[1;33m\u001b[0m\u001b[0m\n\u001b[1;32m---> 17\u001b[1;33m \u001b[0mK\u001b[0m\u001b[1;33m.\u001b[0m\u001b[0mset_image_dim_ordering\u001b[0m\u001b[1;33m(\u001b[0m\u001b[1;34m'th'\u001b[0m\u001b[1;33m)\u001b[0m\u001b[1;33m\u001b[0m\u001b[1;33m\u001b[0m\u001b[0m\n\u001b[0m",
      "\u001b[1;31mAttributeError\u001b[0m: module 'keras.backend' has no attribute 'set_image_dim_ordering'"
     ]
    }
   ],
   "source": [
    "# import library\n",
    "from keras.datasets import cifar10\n",
    "from keras.layers import Dropout\n",
    "from keras.layers.convolutional import MaxPooling2D\n",
    "from keras.layers import Flatten\n",
    "from keras.constraints import maxnorm\n",
    "from scipy.misc import toimage\n",
    "import matplotlib.gridspec as gridspec\n",
    "import matplotlib.pyplot as plt\n",
    "from keras.utils import np_utils\n",
    "from keras.models import Sequential\n",
    "from keras.layers import Dense\n",
    "from keras.optimizers import SGD\n",
    "from keras.layers.convolutional import Conv2D\n",
    "\n",
    "from keras import backend as K\n",
    "K.set_image_dim_ordering('th')\n"
   ]
  },
  {
   "cell_type": "code",
   "execution_count": 43,
   "metadata": {
    "collapsed": true
   },
   "outputs": [],
   "source": [
    "#Loading the data\n",
    "(x_train, y_train), (x_test, y_test) = cifar10.load_data()"
   ]
  },
  {
   "cell_type": "code",
   "execution_count": 3,
   "metadata": {},
   "outputs": [
    {
     "output_type": "error",
     "ename": "NameError",
     "evalue": "name 'plt' is not defined",
     "traceback": [
      "\u001b[1;31m---------------------------------------------------------------------------\u001b[0m",
      "\u001b[1;31mNameError\u001b[0m                                 Traceback (most recent call last)",
      "\u001b[1;32m<ipython-input-3-80c2dbc3ab58>\u001b[0m in \u001b[0;36m<module>\u001b[1;34m\u001b[0m\n\u001b[0;32m      1\u001b[0m \u001b[1;31m#Lets see some examples from this data\u001b[0m\u001b[1;33m\u001b[0m\u001b[1;33m\u001b[0m\u001b[1;33m\u001b[0m\u001b[0m\n\u001b[0;32m      2\u001b[0m \u001b[1;33m\u001b[0m\u001b[0m\n\u001b[1;32m----> 3\u001b[1;33m \u001b[0mfig\u001b[0m \u001b[1;33m=\u001b[0m \u001b[0mplt\u001b[0m\u001b[1;33m.\u001b[0m\u001b[0mfigure\u001b[0m\u001b[1;33m(\u001b[0m\u001b[1;33m)\u001b[0m\u001b[1;33m\u001b[0m\u001b[1;33m\u001b[0m\u001b[0m\n\u001b[0m\u001b[0;32m      4\u001b[0m \u001b[0mgs\u001b[0m \u001b[1;33m=\u001b[0m \u001b[0mgridspec\u001b[0m\u001b[1;33m.\u001b[0m\u001b[0mGridSpec\u001b[0m\u001b[1;33m(\u001b[0m\u001b[1;36m4\u001b[0m\u001b[1;33m,\u001b[0m \u001b[1;36m4\u001b[0m\u001b[1;33m,\u001b[0m \u001b[0mwspace\u001b[0m\u001b[1;33m=\u001b[0m\u001b[1;36m0.0\u001b[0m\u001b[1;33m)\u001b[0m\u001b[1;33m\u001b[0m\u001b[1;33m\u001b[0m\u001b[0m\n\u001b[0;32m      5\u001b[0m \u001b[0max\u001b[0m \u001b[1;33m=\u001b[0m \u001b[1;33m[\u001b[0m\u001b[0mplt\u001b[0m\u001b[1;33m.\u001b[0m\u001b[0msubplot\u001b[0m\u001b[1;33m(\u001b[0m\u001b[0mgs\u001b[0m\u001b[1;33m[\u001b[0m\u001b[0mi\u001b[0m\u001b[1;33m]\u001b[0m\u001b[1;33m)\u001b[0m \u001b[1;32mfor\u001b[0m \u001b[0mi\u001b[0m \u001b[1;32min\u001b[0m \u001b[0mrange\u001b[0m\u001b[1;33m(\u001b[0m\u001b[1;36m4\u001b[0m\u001b[1;33m*\u001b[0m\u001b[1;36m4\u001b[0m\u001b[1;33m)\u001b[0m\u001b[1;33m]\u001b[0m\u001b[1;33m\u001b[0m\u001b[1;33m\u001b[0m\u001b[0m\n",
      "\u001b[1;31mNameError\u001b[0m: name 'plt' is not defined"
     ]
    }
   ],
   "source": [
    "#Lets see some examples from this data\n",
    "\n",
    "fig = plt.figure()\n",
    "gs = gridspec.GridSpec(4, 4, wspace=0.0)\n",
    "ax = [plt.subplot(gs[i]) for i in range(4*4)]\n",
    "for i in range(16):\n",
    "    ax[i].imshow(toimage(x_train[i]))\n",
    "plt.show()"
   ]
  },
  {
   "cell_type": "code",
   "execution_count": 45,
   "metadata": {
    "collapsed": true
   },
   "outputs": [],
   "source": [
    "# Now convert the class to one hot encoding matrix\n",
    "y_train_onehot = np_utils.to_categorical(y_train)\n",
    "y_test_onehot = np_utils.to_categorical(y_test)"
   ]
  },
  {
   "cell_type": "markdown",
   "metadata": {},
   "source": [
    "We can use simple CNN architecture to start. In this example we will use two convolutional layers and a max pooling."
   ]
  },
  {
   "cell_type": "code",
   "execution_count": 46,
   "metadata": {},
   "outputs": [
    {
     "name": "stdout",
     "output_type": "stream",
     "text": [
      "_________________________________________________________________\n",
      "Layer (type)                 Output Shape              Param #   \n",
      "=================================================================\n",
      "conv2d_1 (Conv2D)            (None, 32, 32, 32)        896       \n",
      "_________________________________________________________________\n",
      "conv2d_2 (Conv2D)            (None, 32, 32, 32)        9248      \n",
      "_________________________________________________________________\n",
      "max_pooling2d_1 (MaxPooling2 (None, 32, 16, 16)        0         \n",
      "_________________________________________________________________\n",
      "flatten_1 (Flatten)          (None, 8192)              0         \n",
      "_________________________________________________________________\n",
      "dense_3 (Dense)              (None, 512)               4194816   \n",
      "_________________________________________________________________\n",
      "dense_4 (Dense)              (None, 10)                5130      \n",
      "=================================================================\n",
      "Total params: 4,210,090\n",
      "Trainable params: 4,210,090\n",
      "Non-trainable params: 0\n",
      "_________________________________________________________________\n",
      "None\n"
     ]
    }
   ],
   "source": [
    "# Create the model\n",
    "#Sequential model is selected to get a stack of layers.\n",
    "num_classes = 10\n",
    "model = Sequential()\n",
    "\n",
    "#First convolution layer\n",
    "model.add(Conv2D(32, (3, 3), padding='same',input_shape=(3, 32, 32),  activation='relu'))\n",
    "\n",
    "#Second convolution layer\n",
    "model.add(Conv2D(32, (3, 3),padding='same', activation='relu', ))\n",
    "\n",
    "#Pooling\n",
    "model.add(MaxPooling2D(pool_size=(2, 2)))\n",
    "\n",
    "#Flatten the output\n",
    "model.add(Flatten())\n",
    "model.add(Dense(512, activation='relu'))\n",
    "\n",
    "#Output class\n",
    "model.add(Dense(num_classes, activation='softmax'))\n",
    "# Compile model\n",
    "epochs = 50\n",
    "lrate = 0.05\n",
    "\n",
    "sgd = SGD(lr=lrate, momentum=0.8, decay=lrate/epochs, nesterov=False)\n",
    "\n",
    "#Compile the model\n",
    "model.compile(loss='categorical_crossentropy', optimizer=sgd, metrics=['accuracy'])\n",
    "\n",
    "#Print summary of CNN\n",
    "print(model.summary())"
   ]
  },
  {
   "cell_type": "code",
   "execution_count": 47,
   "metadata": {},
   "outputs": [
    {
     "name": "stdout",
     "output_type": "stream",
     "text": [
      "Train on 50000 samples, validate on 10000 samples\n",
      "Epoch 1/250\n",
      "50000/50000 [==============================] - 504s - loss: 14.5052 - acc: 0.0999 - val_loss: 14.5063 - val_acc: 0.1000\n",
      "Epoch 2/250\n",
      "50000/50000 [==============================] - 496s - loss: 14.5063 - acc: 0.1000 - val_loss: 14.5063 - val_acc: 0.1000\n",
      "Epoch 3/250\n",
      "50000/50000 [==============================] - 473s - loss: 14.5063 - acc: 0.1000 - val_loss: 14.5063 - val_acc: 0.1000\n",
      "Epoch 4/250\n",
      "50000/50000 [==============================] - 477s - loss: 14.5063 - acc: 0.1000 - val_loss: 14.5063 - val_acc: 0.1000\n",
      "Epoch 5/250\n",
      "50000/50000 [==============================] - 474s - loss: 14.5063 - acc: 0.1000 - val_loss: 14.5063 - val_acc: 0.1000\n",
      "Epoch 6/250\n",
      "50000/50000 [==============================] - 495s - loss: 14.5063 - acc: 0.1000 - val_loss: 14.5063 - val_acc: 0.1000\n",
      "Epoch 7/250\n",
      "50000/50000 [==============================] - 475s - loss: 14.5063 - acc: 0.1000 - val_loss: 14.5063 - val_acc: 0.1000\n",
      "Epoch 8/250\n",
      "50000/50000 [==============================] - 479s - loss: 14.5063 - acc: 0.1000 - val_loss: 14.5063 - val_acc: 0.1000\n",
      "Epoch 9/250\n",
      "50000/50000 [==============================] - 476s - loss: 14.5063 - acc: 0.1000 - val_loss: 14.5063 - val_acc: 0.1000\n",
      "Epoch 10/250\n",
      "50000/50000 [==============================] - 504s - loss: 14.5063 - acc: 0.1000 - val_loss: 14.5063 - val_acc: 0.1000\n",
      "Epoch 11/250\n",
      "50000/50000 [==============================] - 484s - loss: 14.5063 - acc: 0.1000 - val_loss: 14.5063 - val_acc: 0.1000\n",
      "Epoch 12/250\n",
      "50000/50000 [==============================] - 476s - loss: 14.5063 - acc: 0.1000 - val_loss: 14.5063 - val_acc: 0.1000\n",
      "Epoch 13/250\n",
      "50000/50000 [==============================] - 500s - loss: 14.5063 - acc: 0.1000 - val_loss: 14.5063 - val_acc: 0.1000\n",
      "Epoch 14/250\n",
      "50000/50000 [==============================] - 486s - loss: 14.5063 - acc: 0.1000 - val_loss: 14.5063 - val_acc: 0.1000\n",
      "Epoch 15/250\n",
      "50000/50000 [==============================] - 496s - loss: 14.5063 - acc: 0.1000 - val_loss: 14.5063 - val_acc: 0.1000\n",
      "Epoch 16/250\n",
      "50000/50000 [==============================] - 501s - loss: 14.5063 - acc: 0.1000 - val_loss: 14.5063 - val_acc: 0.1000\n",
      "Epoch 17/250\n",
      "50000/50000 [==============================] - 516s - loss: 14.5063 - acc: 0.1000 - val_loss: 14.5063 - val_acc: 0.1000\n",
      "Epoch 18/250\n",
      "50000/50000 [==============================] - 494s - loss: 14.5063 - acc: 0.1000 - val_loss: 14.5063 - val_acc: 0.1000\n",
      "Epoch 19/250\n",
      "50000/50000 [==============================] - 520s - loss: 14.5063 - acc: 0.1000 - val_loss: 14.5063 - val_acc: 0.1000\n",
      "Epoch 20/250\n",
      "50000/50000 [==============================] - 507s - loss: 14.5063 - acc: 0.1000 - val_loss: 14.5063 - val_acc: 0.1000\n",
      "Epoch 21/250\n",
      "50000/50000 [==============================] - 571s - loss: 14.5063 - acc: 0.1000 - val_loss: 14.5063 - val_acc: 0.1000\n",
      "Epoch 22/250\n",
      "50000/50000 [==============================] - 578s - loss: 14.5063 - acc: 0.1000 - val_loss: 14.5063 - val_acc: 0.1000\n",
      "Epoch 23/250\n",
      "50000/50000 [==============================] - 546s - loss: 14.5063 - acc: 0.1000 - val_loss: 14.5063 - val_acc: 0.1000\n",
      "Epoch 24/250\n",
      "50000/50000 [==============================] - 607s - loss: 14.5063 - acc: 0.1000 - val_loss: 14.5063 - val_acc: 0.1000\n",
      "Epoch 25/250\n",
      "50000/50000 [==============================] - 576s - loss: 14.5063 - acc: 0.1000 - val_loss: 14.5063 - val_acc: 0.1000\n",
      "Epoch 26/250\n",
      "50000/50000 [==============================] - 514s - loss: 14.5063 - acc: 0.1000 - val_loss: 14.5063 - val_acc: 0.1000\n",
      "Epoch 27/250\n",
      "50000/50000 [==============================] - 549s - loss: 14.5063 - acc: 0.1000 - val_loss: 14.5063 - val_acc: 0.1000\n",
      "Epoch 28/250\n",
      "50000/50000 [==============================] - 530s - loss: 14.5063 - acc: 0.1000 - val_loss: 14.5063 - val_acc: 0.1000\n",
      "Epoch 29/250\n",
      "50000/50000 [==============================] - 557s - loss: 14.5063 - acc: 0.1000 - val_loss: 14.5063 - val_acc: 0.1000\n",
      "Epoch 30/250\n",
      "50000/50000 [==============================] - 587s - loss: 14.5063 - acc: 0.1000 - val_loss: 14.5063 - val_acc: 0.1000\n",
      "Epoch 31/250\n",
      "50000/50000 [==============================] - 593s - loss: 14.5063 - acc: 0.1000 - val_loss: 14.5063 - val_acc: 0.1000\n",
      "Epoch 32/250\n",
      "50000/50000 [==============================] - 588s - loss: 14.5063 - acc: 0.1000 - val_loss: 14.5063 - val_acc: 0.1000\n",
      "Epoch 33/250\n",
      "50000/50000 [==============================] - 591s - loss: 14.5063 - acc: 0.1000 - val_loss: 14.5063 - val_acc: 0.1000\n",
      "Epoch 34/250\n",
      "50000/50000 [==============================] - 580s - loss: 14.5063 - acc: 0.1000 - val_loss: 14.5063 - val_acc: 0.1000\n",
      "Epoch 35/250\n",
      "50000/50000 [==============================] - 1002s - loss: 14.5063 - acc: 0.1000 - val_loss: 14.5063 - val_acc: 0.1000\n",
      "Epoch 36/250\n",
      "50000/50000 [==============================] - 1080s - loss: 14.5063 - acc: 0.1000 - val_loss: 14.5063 - val_acc: 0.1000\n",
      "Epoch 37/250\n",
      "50000/50000 [==============================] - 1194s - loss: 14.5063 - acc: 0.1000 - val_loss: 14.5063 - val_acc: 0.1000\n",
      "Epoch 38/250\n",
      "50000/50000 [==============================] - 1139s - loss: 14.5063 - acc: 0.1000 - val_loss: 14.5063 - val_acc: 0.1000\n",
      "Epoch 39/250\n",
      "50000/50000 [==============================] - 537s - loss: 14.5063 - acc: 0.1000 - val_loss: 14.5063 - val_acc: 0.1000\n",
      "Epoch 40/250\n",
      "50000/50000 [==============================] - 510s - loss: 14.5063 - acc: 0.1000 - val_loss: 14.5063 - val_acc: 0.1000\n",
      "Epoch 41/250\n",
      "50000/50000 [==============================] - 528s - loss: 14.5063 - acc: 0.1000 - val_loss: 14.5063 - val_acc: 0.1000\n",
      "Epoch 42/250\n",
      "50000/50000 [==============================] - 510s - loss: 14.5063 - acc: 0.1000 - val_loss: 14.5063 - val_acc: 0.1000\n",
      "Epoch 43/250\n",
      "50000/50000 [==============================] - 510s - loss: 14.5063 - acc: 0.1000 - val_loss: 14.5063 - val_acc: 0.1000\n",
      "Epoch 44/250\n",
      "50000/50000 [==============================] - 525s - loss: 14.5063 - acc: 0.1000 - val_loss: 14.5063 - val_acc: 0.1000\n",
      "Epoch 45/250\n",
      "50000/50000 [==============================] - 508s - loss: 14.5063 - acc: 0.1000 - val_loss: 14.5063 - val_acc: 0.1000\n",
      "Epoch 46/250\n",
      "50000/50000 [==============================] - 508s - loss: 14.5063 - acc: 0.1000 - val_loss: 14.5063 - val_acc: 0.1000\n",
      "Epoch 47/250\n",
      "50000/50000 [==============================] - 509s - loss: 14.5063 - acc: 0.1000 - val_loss: 14.5063 - val_acc: 0.1000\n",
      "Epoch 48/250\n",
      "50000/50000 [==============================] - 525s - loss: 14.5063 - acc: 0.1000 - val_loss: 14.5063 - val_acc: 0.1000\n",
      "Epoch 49/250\n",
      "50000/50000 [==============================] - 508s - loss: 14.5063 - acc: 0.1000 - val_loss: 14.5063 - val_acc: 0.1000\n",
      "Epoch 50/250\n",
      "50000/50000 [==============================] - 513s - loss: 14.5063 - acc: 0.1000 - val_loss: 14.5063 - val_acc: 0.1000\n",
      "Epoch 51/250\n",
      "50000/50000 [==============================] - 528s - loss: 14.5063 - acc: 0.1000 - val_loss: 14.5063 - val_acc: 0.1000\n",
      "Epoch 52/250\n",
      "50000/50000 [==============================] - 510s - loss: 14.5063 - acc: 0.1000 - val_loss: 14.5063 - val_acc: 0.1000\n",
      "Epoch 53/250\n",
      "50000/50000 [==============================] - 509s - loss: 14.5063 - acc: 0.1000 - val_loss: 14.5063 - val_acc: 0.1000\n",
      "Epoch 54/250\n",
      "50000/50000 [==============================] - 511s - loss: 14.5063 - acc: 0.1000 - val_loss: 14.5063 - val_acc: 0.1000\n",
      "Epoch 55/250\n",
      "50000/50000 [==============================] - 526s - loss: 14.5063 - acc: 0.1000 - val_loss: 14.5063 - val_acc: 0.1000\n",
      "Epoch 56/250\n",
      "50000/50000 [==============================] - 503s - loss: 14.5063 - acc: 0.1000 - val_loss: 14.5063 - val_acc: 0.1000\n",
      "Epoch 57/250\n",
      "50000/50000 [==============================] - 506s - loss: 14.5063 - acc: 0.1000 - val_loss: 14.5063 - val_acc: 0.1000\n",
      "Epoch 58/250\n",
      "50000/50000 [==============================] - 523s - loss: 14.5063 - acc: 0.1000 - val_loss: 14.5063 - val_acc: 0.1000\n",
      "Epoch 59/250\n",
      "50000/50000 [==============================] - 504s - loss: 14.5063 - acc: 0.1000 - val_loss: 14.5063 - val_acc: 0.1000\n",
      "Epoch 60/250\n",
      "50000/50000 [==============================] - 506s - loss: 14.5063 - acc: 0.1000 - val_loss: 14.5063 - val_acc: 0.1000\n",
      "Epoch 61/250\n",
      "50000/50000 [==============================] - 506s - loss: 14.5063 - acc: 0.1000 - val_loss: 14.5063 - val_acc: 0.1000\n",
      "Epoch 62/250\n"
     ]
    },
    {
     "name": "stdout",
     "output_type": "stream",
     "text": [
      "50000/50000 [==============================] - 524s - loss: 14.5063 - acc: 0.1000 - val_loss: 14.5063 - val_acc: 0.1000\n",
      "Epoch 63/250\n",
      "50000/50000 [==============================] - 506s - loss: 14.5063 - acc: 0.1000 - val_loss: 14.5063 - val_acc: 0.1000\n",
      "Epoch 64/250\n",
      "50000/50000 [==============================] - 507s - loss: 14.5063 - acc: 0.1000 - val_loss: 14.5063 - val_acc: 0.1000\n",
      "Epoch 65/250\n",
      "50000/50000 [==============================] - 525s - loss: 14.5063 - acc: 0.1000 - val_loss: 14.5063 - val_acc: 0.1000\n",
      "Epoch 66/250\n",
      "50000/50000 [==============================] - 506s - loss: 14.5063 - acc: 0.1000 - val_loss: 14.5063 - val_acc: 0.1000\n",
      "Epoch 67/250\n",
      "50000/50000 [==============================] - 508s - loss: 14.5063 - acc: 0.1000 - val_loss: 14.5063 - val_acc: 0.1000\n",
      "Epoch 68/250\n",
      "50000/50000 [==============================] - 509s - loss: 14.5063 - acc: 0.1000 - val_loss: 14.5063 - val_acc: 0.1000\n",
      "Epoch 69/250\n",
      "50000/50000 [==============================] - 527s - loss: 14.5063 - acc: 0.1000 - val_loss: 14.5063 - val_acc: 0.1000\n",
      "Epoch 70/250\n",
      "50000/50000 [==============================] - 509s - loss: 14.5063 - acc: 0.1000 - val_loss: 14.5063 - val_acc: 0.1000\n",
      "Epoch 71/250\n",
      "50000/50000 [==============================] - 508s - loss: 14.5063 - acc: 0.1000 - val_loss: 14.5063 - val_acc: 0.1000\n",
      "Epoch 72/250\n",
      "50000/50000 [==============================] - 528s - loss: 14.5063 - acc: 0.1000 - val_loss: 14.5063 - val_acc: 0.1000\n",
      "Epoch 73/250\n",
      "50000/50000 [==============================] - 514s - loss: 14.5063 - acc: 0.1000 - val_loss: 14.5063 - val_acc: 0.1000\n",
      "Epoch 74/250\n",
      "50000/50000 [==============================] - 516s - loss: 14.5063 - acc: 0.1000 - val_loss: 14.5063 - val_acc: 0.1000\n",
      "Epoch 75/250\n",
      "50000/50000 [==============================] - 520s - loss: 14.5063 - acc: 0.1000 - val_loss: 14.5063 - val_acc: 0.1000\n",
      "Epoch 76/250\n",
      "50000/50000 [==============================] - 538s - loss: 14.5063 - acc: 0.1000 - val_loss: 14.5063 - val_acc: 0.1000\n",
      "Epoch 77/250\n",
      "50000/50000 [==============================] - 519s - loss: 14.5063 - acc: 0.1000 - val_loss: 14.5063 - val_acc: 0.1000\n",
      "Epoch 78/250\n",
      "50000/50000 [==============================] - 544s - loss: 14.5063 - acc: 0.1000 - val_loss: 14.5063 - val_acc: 0.1000\n",
      "Epoch 79/250\n",
      "50000/50000 [==============================] - 543s - loss: 14.5063 - acc: 0.1000 - val_loss: 14.5063 - val_acc: 0.1000\n",
      "Epoch 80/250\n",
      "50000/50000 [==============================] - 522s - loss: 14.5063 - acc: 0.1000 - val_loss: 14.5063 - val_acc: 0.1000\n",
      "Epoch 81/250\n",
      "50000/50000 [==============================] - 524s - loss: 14.5063 - acc: 0.1000 - val_loss: 14.5063 - val_acc: 0.1000\n",
      "Epoch 82/250\n",
      "50000/50000 [==============================] - 537s - loss: 14.5063 - acc: 0.1000 - val_loss: 14.5063 - val_acc: 0.1000\n",
      "Epoch 83/250\n",
      "50000/50000 [==============================] - 532s - loss: 14.5063 - acc: 0.1000 - val_loss: 14.5063 - val_acc: 0.1000\n",
      "Epoch 84/250\n",
      "50000/50000 [==============================] - 527s - loss: 14.5063 - acc: 0.1000 - val_loss: 14.5063 - val_acc: 0.1000\n",
      "Epoch 85/250\n",
      "50000/50000 [==============================] - 527s - loss: 14.5063 - acc: 0.1000 - val_loss: 14.5063 - val_acc: 0.1000\n",
      "Epoch 86/250\n",
      "50000/50000 [==============================] - 545s - loss: 14.5063 - acc: 0.1000 - val_loss: 14.5063 - val_acc: 0.1000\n",
      "Epoch 87/250\n",
      "50000/50000 [==============================] - 526s - loss: 14.5063 - acc: 0.1000 - val_loss: 14.5063 - val_acc: 0.1000\n",
      "Epoch 88/250\n",
      "50000/50000 [==============================] - 528s - loss: 14.5063 - acc: 0.1000 - val_loss: 14.5063 - val_acc: 0.1000\n",
      "Epoch 89/250\n",
      "50000/50000 [==============================] - 548s - loss: 14.5063 - acc: 0.1000 - val_loss: 14.5063 - val_acc: 0.1000\n",
      "Epoch 90/250\n",
      "50000/50000 [==============================] - 529s - loss: 14.5063 - acc: 0.1000 - val_loss: 14.5063 - val_acc: 0.1000\n",
      "Epoch 91/250\n",
      "50000/50000 [==============================] - 532s - loss: 14.5063 - acc: 0.1000 - val_loss: 14.5063 - val_acc: 0.1000\n",
      "Epoch 92/250\n",
      "50000/50000 [==============================] - 537s - loss: 14.5063 - acc: 0.1000 - val_loss: 14.5063 - val_acc: 0.1000\n",
      "Epoch 93/250\n",
      "50000/50000 [==============================] - 543s - loss: 14.5063 - acc: 0.1000 - val_loss: 14.5063 - val_acc: 0.1000\n",
      "Epoch 94/250\n",
      "50000/50000 [==============================] - 532s - loss: 14.5063 - acc: 0.1000 - val_loss: 14.5063 - val_acc: 0.1000\n",
      "Epoch 95/250\n",
      "50000/50000 [==============================] - 531s - loss: 14.5063 - acc: 0.1000 - val_loss: 14.5063 - val_acc: 0.1000\n",
      "Epoch 96/250\n",
      "50000/50000 [==============================] - 551s - loss: 14.5063 - acc: 0.1000 - val_loss: 14.5063 - val_acc: 0.1000\n",
      "Epoch 97/250\n",
      "50000/50000 [==============================] - 530s - loss: 14.5063 - acc: 0.1000 - val_loss: 14.5063 - val_acc: 0.1000\n",
      "Epoch 98/250\n",
      "50000/50000 [==============================] - 534s - loss: 14.5063 - acc: 0.1000 - val_loss: 14.5063 - val_acc: 0.1000\n",
      "Epoch 99/250\n",
      "50000/50000 [==============================] - 550s - loss: 14.5063 - acc: 0.1000 - val_loss: 14.5063 - val_acc: 0.1000\n",
      "Epoch 100/250\n",
      "50000/50000 [==============================] - 531s - loss: 14.5063 - acc: 0.1000 - val_loss: 14.5063 - val_acc: 0.1000\n",
      "Epoch 101/250\n",
      "50000/50000 [==============================] - 534s - loss: 14.5063 - acc: 0.1000 - val_loss: 14.5063 - val_acc: 0.1000\n",
      "Epoch 102/250\n",
      "50000/50000 [==============================] - 543s - loss: 14.5063 - acc: 0.1000 - val_loss: 14.5063 - val_acc: 0.1000\n",
      "Epoch 103/250\n",
      "50000/50000 [==============================] - 551s - loss: 14.5063 - acc: 0.1000 - val_loss: 14.5063 - val_acc: 0.1000\n",
      "Epoch 104/250\n",
      "50000/50000 [==============================] - 534s - loss: 14.5063 - acc: 0.1000 - val_loss: 14.5063 - val_acc: 0.1000\n",
      "Epoch 105/250\n",
      "50000/50000 [==============================] - 538s - loss: 14.5063 - acc: 0.1000 - val_loss: 14.5063 - val_acc: 0.1000\n",
      "Epoch 106/250\n",
      "50000/50000 [==============================] - 556s - loss: 14.5063 - acc: 0.1000 - val_loss: 14.5063 - val_acc: 0.1000\n",
      "Epoch 107/250\n",
      "50000/50000 [==============================] - 508s - loss: 14.5063 - acc: 0.1000 - val_loss: 14.5063 - val_acc: 0.1000\n",
      "Epoch 108/250\n",
      "50000/50000 [==============================] - 544s - loss: 14.5063 - acc: 0.1000 - val_loss: 14.5063 - val_acc: 0.1000\n",
      "Epoch 109/250\n",
      "50000/50000 [==============================] - 583s - loss: 14.5063 - acc: 0.1000 - val_loss: 14.5063 - val_acc: 0.1000\n",
      "Epoch 110/250\n",
      "50000/50000 [==============================] - 545s - loss: 14.5063 - acc: 0.1000 - val_loss: 14.5063 - val_acc: 0.1000\n",
      "Epoch 111/250\n",
      "50000/50000 [==============================] - 699s - loss: 14.5063 - acc: 0.1000 - val_loss: 14.5063 - val_acc: 0.1000\n",
      "Epoch 112/250\n",
      "50000/50000 [==============================] - 804s - loss: 14.5063 - acc: 0.1000 - val_loss: 14.5063 - val_acc: 0.1000\n",
      "Epoch 113/250\n",
      "50000/50000 [==============================] - 662s - loss: 14.5063 - acc: 0.1000 - val_loss: 14.5063 - val_acc: 0.1000\n",
      "Epoch 114/250\n",
      "50000/50000 [==============================] - 616s - loss: 14.5063 - acc: 0.1000 - val_loss: 14.5063 - val_acc: 0.1000\n",
      "Epoch 115/250\n",
      "50000/50000 [==============================] - 660s - loss: 14.5063 - acc: 0.1000 - val_loss: 14.5063 - val_acc: 0.1000\n",
      "Epoch 116/250\n",
      "50000/50000 [==============================] - 696s - loss: 14.5063 - acc: 0.1000 - val_loss: 14.5063 - val_acc: 0.1000\n",
      "Epoch 117/250\n",
      "50000/50000 [==============================] - 637s - loss: 14.5063 - acc: 0.1000 - val_loss: 14.5063 - val_acc: 0.1000\n",
      "Epoch 118/250\n",
      "50000/50000 [==============================] - 556s - loss: 14.5063 - acc: 0.1000 - val_loss: 14.5063 - val_acc: 0.1000\n",
      "Epoch 119/250\n",
      "50000/50000 [==============================] - 558s - loss: 14.5063 - acc: 0.1000 - val_loss: 14.5063 - val_acc: 0.1000\n",
      "Epoch 120/250\n",
      "50000/50000 [==============================] - 563s - loss: 14.5063 - acc: 0.1000 - val_loss: 14.5063 - val_acc: 0.1000\n",
      "Epoch 121/250\n",
      "50000/50000 [==============================] - 579s - loss: 14.5063 - acc: 0.1000 - val_loss: 14.5063 - val_acc: 0.1000\n",
      "Epoch 122/250\n",
      "50000/50000 [==============================] - 566s - loss: 14.5063 - acc: 0.1000 - val_loss: 14.5063 - val_acc: 0.1000\n",
      "Epoch 123/250\n"
     ]
    },
    {
     "name": "stdout",
     "output_type": "stream",
     "text": [
      "50000/50000 [==============================] - 568s - loss: 14.5063 - acc: 0.1000 - val_loss: 14.5063 - val_acc: 0.1000\n",
      "Epoch 124/250\n",
      "50000/50000 [==============================] - 686s - loss: 14.5063 - acc: 0.1000 - val_loss: 14.5063 - val_acc: 0.1000\n",
      "Epoch 125/250\n",
      "50000/50000 [==============================] - 636s - loss: 14.5063 - acc: 0.1000 - val_loss: 14.5063 - val_acc: 0.1000\n",
      "Epoch 126/250\n",
      "50000/50000 [==============================] - 750s - loss: 14.5063 - acc: 0.1000 - val_loss: 14.5063 - val_acc: 0.1000\n",
      "Epoch 127/250\n",
      "50000/50000 [==============================] - 505s - loss: 14.5063 - acc: 0.1000 - val_loss: 14.5063 - val_acc: 0.1000\n",
      "Epoch 128/250\n",
      "50000/50000 [==============================] - 560s - loss: 14.5063 - acc: 0.1000 - val_loss: 14.5063 - val_acc: 0.1000\n",
      "Epoch 129/250\n",
      "50000/50000 [==============================] - 568s - loss: 14.5063 - acc: 0.1000 - val_loss: 14.5063 - val_acc: 0.1000\n",
      "Epoch 130/250\n",
      "50000/50000 [==============================] - 582s - loss: 14.5063 - acc: 0.1000 - val_loss: 14.5063 - val_acc: 0.1000\n",
      "Epoch 131/250\n",
      "50000/50000 [==============================] - 562s - loss: 14.5063 - acc: 0.1000 - val_loss: 14.5063 - val_acc: 0.1000\n",
      "Epoch 132/250\n",
      "50000/50000 [==============================] - 559s - loss: 14.5063 - acc: 0.1000 - val_loss: 14.5063 - val_acc: 0.1000\n",
      "Epoch 133/250\n",
      "50000/50000 [==============================] - 598s - loss: 14.5063 - acc: 0.1000 - val_loss: 14.5063 - val_acc: 0.1000\n",
      "Epoch 134/250\n",
      "50000/50000 [==============================] - 584s - loss: 14.5063 - acc: 0.1000 - val_loss: 14.5063 - val_acc: 0.1000\n",
      "Epoch 135/250\n",
      "50000/50000 [==============================] - 578s - loss: 14.5063 - acc: 0.1000 - val_loss: 14.5063 - val_acc: 0.1000\n",
      "Epoch 136/250\n",
      "50000/50000 [==============================] - 620s - loss: 14.5063 - acc: 0.1000 - val_loss: 14.5063 - val_acc: 0.1000\n",
      "Epoch 137/250\n",
      "50000/50000 [==============================] - 624s - loss: 14.5063 - acc: 0.1000 - val_loss: 14.5063 - val_acc: 0.1000\n",
      "Epoch 138/250\n",
      "50000/50000 [==============================] - 622s - loss: 14.5063 - acc: 0.1000 - val_loss: 14.5063 - val_acc: 0.1000\n",
      "Epoch 139/250\n",
      "50000/50000 [==============================] - 652s - loss: 14.5063 - acc: 0.1000 - val_loss: 14.5063 - val_acc: 0.1000\n",
      "Epoch 140/250\n",
      "50000/50000 [==============================] - 625s - loss: 14.5063 - acc: 0.1000 - val_loss: 14.5063 - val_acc: 0.1000\n",
      "Epoch 141/250\n",
      "50000/50000 [==============================] - 593s - loss: 14.5063 - acc: 0.1000 - val_loss: 14.5063 - val_acc: 0.1000\n",
      "Epoch 142/250\n",
      "50000/50000 [==============================] - 595s - loss: 14.5063 - acc: 0.1000 - val_loss: 14.5063 - val_acc: 0.1000\n",
      "Epoch 143/250\n",
      "50000/50000 [==============================] - 573s - loss: 14.5063 - acc: 0.1000 - val_loss: 14.5063 - val_acc: 0.1000\n",
      "Epoch 144/250\n",
      "50000/50000 [==============================] - 575s - loss: 14.5063 - acc: 0.1000 - val_loss: 14.5063 - val_acc: 0.1000\n",
      "Epoch 145/250\n",
      "50000/50000 [==============================] - 593s - loss: 14.5063 - acc: 0.1000 - val_loss: 14.5063 - val_acc: 0.1000\n",
      "Epoch 146/250\n",
      "50000/50000 [==============================] - 573s - loss: 14.5063 - acc: 0.1000 - val_loss: 14.5063 - val_acc: 0.1000\n",
      "Epoch 147/250\n",
      "50000/50000 [==============================] - 600s - loss: 14.5063 - acc: 0.1000 - val_loss: 14.5063 - val_acc: 0.1000\n",
      "Epoch 148/250\n",
      "50000/50000 [==============================] - 693s - loss: 14.5063 - acc: 0.1000 - val_loss: 14.5063 - val_acc: 0.1000\n",
      "Epoch 149/250\n",
      "50000/50000 [==============================] - 660s - loss: 14.5063 - acc: 0.1000 - val_loss: 14.5063 - val_acc: 0.1000\n",
      "Epoch 150/250\n",
      "50000/50000 [==============================] - 676s - loss: 14.5063 - acc: 0.1000 - val_loss: 14.5063 - val_acc: 0.1000\n",
      "Epoch 151/250\n",
      "50000/50000 [==============================] - 678s - loss: 14.5063 - acc: 0.1000 - val_loss: 14.5063 - val_acc: 0.1000\n",
      "Epoch 152/250\n",
      "50000/50000 [==============================] - 664s - loss: 14.5063 - acc: 0.1000 - val_loss: 14.5063 - val_acc: 0.1000\n",
      "Epoch 153/250\n",
      "50000/50000 [==============================] - 652s - loss: 14.5063 - acc: 0.1000 - val_loss: 14.5063 - val_acc: 0.1000\n",
      "Epoch 154/250\n",
      "50000/50000 [==============================] - 579s - loss: 14.5063 - acc: 0.1000 - val_loss: 14.5063 - val_acc: 0.1000\n",
      "Epoch 155/250\n",
      "50000/50000 [==============================] - 556s - loss: 14.5063 - acc: 0.1000 - val_loss: 14.5063 - val_acc: 0.1000\n",
      "Epoch 156/250\n",
      "50000/50000 [==============================] - 579s - loss: 14.5063 - acc: 0.1000 - val_loss: 14.5063 - val_acc: 0.1000\n",
      "Epoch 157/250\n",
      "50000/50000 [==============================] - 554s - loss: 14.5063 - acc: 0.1000 - val_loss: 14.5063 - val_acc: 0.1000\n",
      "Epoch 158/250\n",
      "50000/50000 [==============================] - 565s - loss: 14.5063 - acc: 0.1000 - val_loss: 14.5063 - val_acc: 0.1000\n",
      "Epoch 159/250\n",
      "50000/50000 [==============================] - 582s - loss: 14.5063 - acc: 0.1000 - val_loss: 14.5063 - val_acc: 0.1000\n",
      "Epoch 160/250\n",
      "50000/50000 [==============================] - 507s - loss: 14.5063 - acc: 0.1000 - val_loss: 14.5063 - val_acc: 0.1000\n",
      "Epoch 161/250\n",
      "50000/50000 [==============================] - 544s - loss: 14.5063 - acc: 0.1000 - val_loss: 14.5063 - val_acc: 0.1000\n",
      "Epoch 162/250\n",
      "50000/50000 [==============================] - 539s - loss: 14.5063 - acc: 0.1000 - val_loss: 14.5063 - val_acc: 0.1000\n",
      "Epoch 163/250\n",
      "50000/50000 [==============================] - 604s - loss: 14.5063 - acc: 0.1000 - val_loss: 14.5063 - val_acc: 0.1000\n",
      "Epoch 164/250\n",
      "50000/50000 [==============================] - 545s - loss: 14.5063 - acc: 0.1000 - val_loss: 14.5063 - val_acc: 0.1000\n",
      "Epoch 165/250\n",
      "50000/50000 [==============================] - 544s - loss: 14.5063 - acc: 0.1000 - val_loss: 14.5063 - val_acc: 0.1000\n",
      "Epoch 166/250\n",
      "50000/50000 [==============================] - 553s - loss: 14.5063 - acc: 0.1000 - val_loss: 14.5063 - val_acc: 0.1000\n",
      "Epoch 167/250\n",
      "50000/50000 [==============================] - 540s - loss: 14.5063 - acc: 0.1000 - val_loss: 14.5063 - val_acc: 0.1000\n",
      "Epoch 168/250\n",
      "50000/50000 [==============================] - 554s - loss: 14.5063 - acc: 0.1000 - val_loss: 14.5063 - val_acc: 0.1000\n",
      "Epoch 169/250\n",
      "50000/50000 [==============================] - 567s - loss: 14.5063 - acc: 0.1000 - val_loss: 14.5063 - val_acc: 0.1000\n",
      "Epoch 170/250\n",
      "50000/50000 [==============================] - 557s - loss: 14.5063 - acc: 0.1000 - val_loss: 14.5063 - val_acc: 0.1000\n",
      "Epoch 171/250\n",
      "50000/50000 [==============================] - 558s - loss: 14.5063 - acc: 0.1000 - val_loss: 14.5063 - val_acc: 0.1000\n",
      "Epoch 172/250\n",
      "50000/50000 [==============================] - 573s - loss: 14.5063 - acc: 0.1000 - val_loss: 14.5063 - val_acc: 0.1000\n",
      "Epoch 173/250\n",
      "50000/50000 [==============================] - 645s - loss: 14.5063 - acc: 0.1000 - val_loss: 14.5063 - val_acc: 0.1000\n",
      "Epoch 174/250\n",
      "50000/50000 [==============================] - 621s - loss: 14.5063 - acc: 0.1000 - val_loss: 14.5063 - val_acc: 0.1000\n",
      "Epoch 175/250\n",
      "50000/50000 [==============================] - 540s - loss: 14.5063 - acc: 0.1000 - val_loss: 14.5063 - val_acc: 0.1000\n",
      "Epoch 176/250\n",
      "50000/50000 [==============================] - 479s - loss: 14.5063 - acc: 0.1000 - val_loss: 14.5063 - val_acc: 0.1000\n",
      "Epoch 177/250\n",
      "50000/50000 [==============================] - 499s - loss: 14.5063 - acc: 0.1000 - val_loss: 14.5063 - val_acc: 0.1000\n",
      "Epoch 178/250\n",
      "50000/50000 [==============================] - 508s - loss: 14.5063 - acc: 0.1000 - val_loss: 14.5063 - val_acc: 0.1000\n",
      "Epoch 179/250\n",
      "50000/50000 [==============================] - 490s - loss: 14.5063 - acc: 0.1000 - val_loss: 14.5063 - val_acc: 0.1000\n",
      "Epoch 180/250\n",
      "50000/50000 [==============================] - 488s - loss: 14.5063 - acc: 0.1000 - val_loss: 14.5063 - val_acc: 0.1000\n",
      "Epoch 181/250\n",
      "50000/50000 [==============================] - 517s - loss: 14.5063 - acc: 0.1000 - val_loss: 14.5063 - val_acc: 0.1000\n",
      "Epoch 182/250\n",
      "50000/50000 [==============================] - 482s - loss: 14.5063 - acc: 0.1000 - val_loss: 14.5063 - val_acc: 0.1000\n",
      "Epoch 183/250\n",
      "50000/50000 [==============================] - 483s - loss: 14.5063 - acc: 0.1000 - val_loss: 14.5063 - val_acc: 0.1000\n",
      "Epoch 184/250\n"
     ]
    },
    {
     "name": "stdout",
     "output_type": "stream",
     "text": [
      "50000/50000 [==============================] - 505s - loss: 14.5063 - acc: 0.1000 - val_loss: 14.5063 - val_acc: 0.1000\n",
      "Epoch 185/250\n",
      "50000/50000 [==============================] - 487s - loss: 14.5063 - acc: 0.1000 - val_loss: 14.5063 - val_acc: 0.1000\n",
      "Epoch 186/250\n",
      "50000/50000 [==============================] - 483s - loss: 14.5063 - acc: 0.1000 - val_loss: 14.5063 - val_acc: 0.1000\n",
      "Epoch 187/250\n",
      "50000/50000 [==============================] - 482s - loss: 14.5063 - acc: 0.1000 - val_loss: 14.5063 - val_acc: 0.1000\n",
      "Epoch 188/250\n",
      "50000/50000 [==============================] - 506s - loss: 14.5063 - acc: 0.1000 - val_loss: 14.5063 - val_acc: 0.1000\n",
      "Epoch 189/250\n",
      "50000/50000 [==============================] - 478s - loss: 14.5063 - acc: 0.1000 - val_loss: 14.5063 - val_acc: 0.1000\n",
      "Epoch 190/250\n",
      "50000/50000 [==============================] - 481s - loss: 14.5063 - acc: 0.1000 - val_loss: 14.5063 - val_acc: 0.1000\n",
      "Epoch 191/250\n",
      "50000/50000 [==============================] - 480s - loss: 14.5063 - acc: 0.1000 - val_loss: 14.5063 - val_acc: 0.1000\n",
      "Epoch 192/250\n",
      "50000/50000 [==============================] - 506s - loss: 14.5063 - acc: 0.1000 - val_loss: 14.5063 - val_acc: 0.1000\n",
      "Epoch 193/250\n",
      "50000/50000 [==============================] - 480s - loss: 14.5063 - acc: 0.1000 - val_loss: 14.5063 - val_acc: 0.1000\n",
      "Epoch 194/250\n",
      "50000/50000 [==============================] - 483s - loss: 14.5063 - acc: 0.1000 - val_loss: 14.5063 - val_acc: 0.1000\n",
      "Epoch 195/250\n",
      "50000/50000 [==============================] - 500s - loss: 14.5063 - acc: 0.1000 - val_loss: 14.5063 - val_acc: 0.1000\n",
      "Epoch 196/250\n",
      "50000/50000 [==============================] - 486s - loss: 14.5063 - acc: 0.1000 - val_loss: 14.5063 - val_acc: 0.1000\n",
      "Epoch 197/250\n",
      "50000/50000 [==============================] - 480s - loss: 14.5063 - acc: 0.1000 - val_loss: 14.5063 - val_acc: 0.1000\n",
      "Epoch 198/250\n",
      "50000/50000 [==============================] - 485s - loss: 14.5063 - acc: 0.1000 - val_loss: 14.5063 - val_acc: 0.1000\n",
      "Epoch 199/250\n",
      "50000/50000 [==============================] - 508s - loss: 14.5063 - acc: 0.1000 - val_loss: 14.5063 - val_acc: 0.1000\n",
      "Epoch 200/250\n",
      "50000/50000 [==============================] - 492s - loss: 14.5063 - acc: 0.1000 - val_loss: 14.5063 - val_acc: 0.1000\n",
      "Epoch 201/250\n",
      "50000/50000 [==============================] - 485s - loss: 14.5063 - acc: 0.1000 - val_loss: 14.5063 - val_acc: 0.1000\n",
      "Epoch 202/250\n",
      "50000/50000 [==============================] - 483s - loss: 14.5063 - acc: 0.1000 - val_loss: 14.5063 - val_acc: 0.1000\n",
      "Epoch 203/250\n",
      "50000/50000 [==============================] - 502s - loss: 14.5063 - acc: 0.1000 - val_loss: 14.5063 - val_acc: 0.1000\n",
      "Epoch 204/250\n",
      "50000/50000 [==============================] - 480s - loss: 14.5063 - acc: 0.1000 - val_loss: 14.5063 - val_acc: 0.1000\n",
      "Epoch 205/250\n",
      "50000/50000 [==============================] - 488s - loss: 14.5063 - acc: 0.1000 - val_loss: 14.5063 - val_acc: 0.1000\n",
      "Epoch 206/250\n",
      "50000/50000 [==============================] - 504s - loss: 14.5063 - acc: 0.1000 - val_loss: 14.5063 - val_acc: 0.1000\n",
      "Epoch 207/250\n",
      "50000/50000 [==============================] - 485s - loss: 14.5063 - acc: 0.1000 - val_loss: 14.5063 - val_acc: 0.1000\n",
      "Epoch 208/250\n",
      "50000/50000 [==============================] - 478s - loss: 14.5063 - acc: 0.1000 - val_loss: 14.5063 - val_acc: 0.1000\n",
      "Epoch 209/250\n",
      "50000/50000 [==============================] - 479s - loss: 14.5063 - acc: 0.1000 - val_loss: 14.5063 - val_acc: 0.1000\n",
      "Epoch 210/250\n",
      "50000/50000 [==============================] - 508s - loss: 14.5063 - acc: 0.1000 - val_loss: 14.5063 - val_acc: 0.1000\n",
      "Epoch 211/250\n",
      "50000/50000 [==============================] - 483s - loss: 14.5063 - acc: 0.1000 - val_loss: 14.5063 - val_acc: 0.1000\n",
      "Epoch 212/250\n",
      "50000/50000 [==============================] - 487s - loss: 14.5063 - acc: 0.1000 - val_loss: 14.5063 - val_acc: 0.1000\n",
      "Epoch 213/250\n",
      "50000/50000 [==============================] - 475s - loss: 14.5063 - acc: 0.1000 - val_loss: 14.5063 - val_acc: 0.1000\n",
      "Epoch 214/250\n",
      "50000/50000 [==============================] - 497s - loss: 14.5063 - acc: 0.1000 - val_loss: 14.5063 - val_acc: 0.1000\n",
      "Epoch 215/250\n",
      "50000/50000 [==============================] - 471s - loss: 14.5063 - acc: 0.1000 - val_loss: 14.5063 - val_acc: 0.1000\n",
      "Epoch 216/250\n",
      "50000/50000 [==============================] - 469s - loss: 14.5063 - acc: 0.1000 - val_loss: 14.5063 - val_acc: 0.1000\n",
      "Epoch 217/250\n",
      "50000/50000 [==============================] - 480s - loss: 14.5063 - acc: 0.1000 - val_loss: 14.5063 - val_acc: 0.1000\n",
      "Epoch 218/250\n",
      "50000/50000 [==============================] - 485s - loss: 14.5063 - acc: 0.1000 - val_loss: 14.5063 - val_acc: 0.1000\n",
      "Epoch 219/250\n",
      "50000/50000 [==============================] - 471s - loss: 14.5063 - acc: 0.1000 - val_loss: 14.5063 - val_acc: 0.1000\n",
      "Epoch 220/250\n",
      "50000/50000 [==============================] - 473s - loss: 14.5063 - acc: 0.1000 - val_loss: 14.5063 - val_acc: 0.1000\n",
      "Epoch 221/250\n",
      "50000/50000 [==============================] - 497s - loss: 14.5063 - acc: 0.1000 - val_loss: 14.5063 - val_acc: 0.1000\n",
      "Epoch 222/250\n",
      "50000/50000 [==============================] - 473s - loss: 14.5063 - acc: 0.1000 - val_loss: 14.5063 - val_acc: 0.1000\n",
      "Epoch 223/250\n",
      "50000/50000 [==============================] - 473s - loss: 14.5063 - acc: 0.1000 - val_loss: 14.5063 - val_acc: 0.1000\n",
      "Epoch 224/250\n",
      "50000/50000 [==============================] - 472s - loss: 14.5063 - acc: 0.1000 - val_loss: 14.5063 - val_acc: 0.1000\n",
      "Epoch 225/250\n",
      "50000/50000 [==============================] - 497s - loss: 14.5063 - acc: 0.1000 - val_loss: 14.5063 - val_acc: 0.1000\n",
      "Epoch 226/250\n",
      "50000/50000 [==============================] - 472s - loss: 14.5063 - acc: 0.1000 - val_loss: 14.5063 - val_acc: 0.1000\n",
      "Epoch 227/250\n",
      "50000/50000 [==============================] - 471s - loss: 14.5063 - acc: 0.1000 - val_loss: 14.5063 - val_acc: 0.1000\n",
      "Epoch 228/250\n",
      "50000/50000 [==============================] - 472s - loss: 14.5063 - acc: 0.1000 - val_loss: 14.5063 - val_acc: 0.1000\n",
      "Epoch 229/250\n",
      "50000/50000 [==============================] - 496s - loss: 14.5063 - acc: 0.1000 - val_loss: 14.5063 - val_acc: 0.1000\n",
      "Epoch 230/250\n",
      "50000/50000 [==============================] - 474s - loss: 14.5063 - acc: 0.1000 - val_loss: 14.5063 - val_acc: 0.1000\n",
      "Epoch 231/250\n",
      "50000/50000 [==============================] - 472s - loss: 14.5063 - acc: 0.1000 - val_loss: 14.5063 - val_acc: 0.1000\n",
      "Epoch 232/250\n",
      "50000/50000 [==============================] - 481s - loss: 14.5063 - acc: 0.1000 - val_loss: 14.5063 - val_acc: 0.1000\n",
      "Epoch 233/250\n",
      "50000/50000 [==============================] - 490s - loss: 14.5063 - acc: 0.1000 - val_loss: 14.5063 - val_acc: 0.1000\n",
      "Epoch 234/250\n",
      "50000/50000 [==============================] - 474s - loss: 14.5063 - acc: 0.1000 - val_loss: 14.5063 - val_acc: 0.1000\n",
      "Epoch 235/250\n",
      "50000/50000 [==============================] - 475s - loss: 14.5063 - acc: 0.1000 - val_loss: 14.5063 - val_acc: 0.1000\n",
      "Epoch 236/250\n",
      "50000/50000 [==============================] - 500s - loss: 14.5063 - acc: 0.1000 - val_loss: 14.5063 - val_acc: 0.1000\n",
      "Epoch 237/250\n",
      "50000/50000 [==============================] - 477s - loss: 14.5063 - acc: 0.1000 - val_loss: 14.5063 - val_acc: 0.1000\n",
      "Epoch 238/250\n",
      "50000/50000 [==============================] - 475s - loss: 14.5063 - acc: 0.1000 - val_loss: 14.5063 - val_acc: 0.1000\n",
      "Epoch 239/250\n",
      "50000/50000 [==============================] - 474s - loss: 14.5063 - acc: 0.1000 - val_loss: 14.5063 - val_acc: 0.1000\n",
      "Epoch 240/250\n",
      "50000/50000 [==============================] - 502s - loss: 14.5063 - acc: 0.1000 - val_loss: 14.5063 - val_acc: 0.1000\n",
      "Epoch 241/250\n",
      "50000/50000 [==============================] - 475s - loss: 14.5063 - acc: 0.1000 - val_loss: 14.5063 - val_acc: 0.1000\n",
      "Epoch 242/250\n",
      "50000/50000 [==============================] - 473s - loss: 14.5063 - acc: 0.1000 - val_loss: 14.5063 - val_acc: 0.1000\n",
      "Epoch 243/250\n",
      "50000/50000 [==============================] - 474s - loss: 14.5063 - acc: 0.1000 - val_loss: 14.5063 - val_acc: 0.1000\n",
      "Epoch 244/250\n",
      "50000/50000 [==============================] - 497s - loss: 14.5063 - acc: 0.1000 - val_loss: 14.5063 - val_acc: 0.1000\n",
      "Epoch 245/250\n"
     ]
    },
    {
     "name": "stdout",
     "output_type": "stream",
     "text": [
      "50000/50000 [==============================] - 476s - loss: 14.5063 - acc: 0.1000 - val_loss: 14.5063 - val_acc: 0.1000\n",
      "Epoch 246/250\n",
      "50000/50000 [==============================] - 729s - loss: 14.5063 - acc: 0.1000 - val_loss: 14.5063 - val_acc: 0.1000\n",
      "Epoch 247/250\n",
      "50000/50000 [==============================] - 838s - loss: 14.5063 - acc: 0.1000 - val_loss: 14.5063 - val_acc: 0.1000\n",
      "Epoch 248/250\n",
      "50000/50000 [==============================] - 811s - loss: 14.5063 - acc: 0.1000 - val_loss: 14.5063 - val_acc: 0.1000\n",
      "Epoch 249/250\n",
      "50000/50000 [==============================] - 839s - loss: 14.5063 - acc: 0.1000 - val_loss: 14.5063 - val_acc: 0.1000\n",
      "Epoch 250/250\n",
      "50000/50000 [==============================] - 806s - loss: 14.5063 - acc: 0.1000 - val_loss: 14.5063 - val_acc: 0.1000\n"
     ]
    },
    {
     "data": {
      "text/plain": [
       "<keras.callbacks.History at 0x26293410b38>"
      ]
     },
     "execution_count": 47,
     "metadata": {},
     "output_type": "execute_result"
    }
   ],
   "source": [
    "#Fitting the model\n",
    "model.fit(x_train, y_train_onehot, validation_data=(x_test, y_test_onehot), epochs=250, batch_size=100)"
   ]
  },
  {
   "cell_type": "code",
   "execution_count": 48,
   "metadata": {},
   "outputs": [
    {
     "name": "stdout",
     "output_type": "stream",
     "text": [
      "Model Accuracy = 0.1000\n"
     ]
    }
   ],
   "source": [
    "# Final evaluation of the model\n",
    "loss,accuracy = model.evaluate(x_test, y_test_onehot, verbose=0)\n",
    "print(\"Model Accuracy = {:.4f}\".format(accuracy))"
   ]
  },
  {
   "cell_type": "code",
   "execution_count": null,
   "metadata": {
    "collapsed": true
   },
   "outputs": [],
   "source": []
  }
 ],
 "metadata": {
  "kernelspec": {
   "display_name": "Python 3",
   "language": "python",
   "name": "python3"
  },
  "language_info": {
   "codemirror_mode": {
    "name": "ipython",
    "version": 3
   },
   "file_extension": ".py",
   "mimetype": "text/x-python",
   "name": "python",
   "nbconvert_exporter": "python",
   "pygments_lexer": "ipython3",
   "version": "3.7.6-final"
  }
 },
 "nbformat": 4,
 "nbformat_minor": 2
}