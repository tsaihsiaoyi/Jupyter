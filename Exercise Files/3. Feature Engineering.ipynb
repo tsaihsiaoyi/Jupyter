{
 "cells": [
  {
   "cell_type": "markdown",
   "metadata": {},
   "source": [
    "Import pandas"
   ]
  },
  {
   "cell_type": "code",
   "execution_count": 1,
   "metadata": {
    "collapsed": true
   },
   "outputs": [],
   "source": [
    "import pandas"
   ]
  },
  {
   "cell_type": "markdown",
   "metadata": {},
   "source": [
    "Check pandas version"
   ]
  },
  {
   "cell_type": "code",
   "execution_count": 2,
   "metadata": {},
   "outputs": [
    {
     "output_type": "stream",
     "name": "stdout",
     "text": "1.0.3\n"
    }
   ],
   "source": [
    "print(pandas.__version__)"
   ]
  },
  {
   "cell_type": "markdown",
   "metadata": {},
   "source": [
    "### Data Import"
   ]
  },
  {
   "cell_type": "markdown",
   "metadata": {},
   "source": [
    "Load a csv file"
   ]
  },
  {
   "cell_type": "code",
   "execution_count": 3,
   "metadata": {
    "collapsed": true
   },
   "outputs": [],
   "source": [
    "csv_file = pandas.read_csv('./data/feature_engineering.csv')"
   ]
  },
  {
   "cell_type": "markdown",
   "metadata": {},
   "source": [
    "Check the type of structure of csv_file"
   ]
  },
  {
   "cell_type": "code",
   "execution_count": 4,
   "metadata": {},
   "outputs": [
    {
     "output_type": "execute_result",
     "data": {
      "text/plain": "pandas.core.frame.DataFrame"
     },
     "metadata": {},
     "execution_count": 4
    }
   ],
   "source": [
    "type(csv_file)"
   ]
  },
  {
   "cell_type": "markdown",
   "metadata": {},
   "source": [
    "Now load html table using a url (requires internet connectivity)"
   ]
  },
  {
   "cell_type": "code",
   "execution_count": 5,
   "metadata": {
    "collapsed": true
   },
   "outputs": [],
   "source": [
    "url = 'http://www.fdic.gov/bank/individual/failed/banklist.html'\n",
    "\n",
    "dfs = pandas.read_html(url)"
   ]
  },
  {
   "cell_type": "code",
   "execution_count": 6,
   "metadata": {},
   "outputs": [
    {
     "output_type": "execute_result",
     "data": {
      "text/plain": "list"
     },
     "metadata": {},
     "execution_count": 6
    }
   ],
   "source": [
    "type(dfs)"
   ]
  },
  {
   "cell_type": "code",
   "execution_count": 7,
   "metadata": {},
   "outputs": [
    {
     "output_type": "execute_result",
     "data": {
      "text/plain": "    UserId\n0        1\n1        2\n2        3\n3        4\n4        5\n..     ...\n77      78\n78      79\n79      80\n80      81\n81      82\n\n[82 rows x 1 columns]",
      "text/html": "<div>\n<style scoped>\n    .dataframe tbody tr th:only-of-type {\n        vertical-align: middle;\n    }\n\n    .dataframe tbody tr th {\n        vertical-align: top;\n    }\n\n    .dataframe thead th {\n        text-align: right;\n    }\n</style>\n<table border=\"1\" class=\"dataframe\">\n  <thead>\n    <tr style=\"text-align: right;\">\n      <th></th>\n      <th>UserId</th>\n    </tr>\n  </thead>\n  <tbody>\n    <tr>\n      <th>0</th>\n      <td>1</td>\n    </tr>\n    <tr>\n      <th>1</th>\n      <td>2</td>\n    </tr>\n    <tr>\n      <th>2</th>\n      <td>3</td>\n    </tr>\n    <tr>\n      <th>3</th>\n      <td>4</td>\n    </tr>\n    <tr>\n      <th>4</th>\n      <td>5</td>\n    </tr>\n    <tr>\n      <th>...</th>\n      <td>...</td>\n    </tr>\n    <tr>\n      <th>77</th>\n      <td>78</td>\n    </tr>\n    <tr>\n      <th>78</th>\n      <td>79</td>\n    </tr>\n    <tr>\n      <th>79</th>\n      <td>80</td>\n    </tr>\n    <tr>\n      <th>80</th>\n      <td>81</td>\n    </tr>\n    <tr>\n      <th>81</th>\n      <td>82</td>\n    </tr>\n  </tbody>\n</table>\n<p>82 rows × 1 columns</p>\n</div>"
     },
     "metadata": {},
     "execution_count": 7
    }
   ],
   "source": [
    "csv_file"
   ]
  },
  {
   "cell_type": "markdown",
   "metadata": {},
   "source": [
    "Load the product data"
   ]
  },
  {
   "cell_type": "markdown",
   "metadata": {},
   "source": [
    "### Data Selection"
   ]
  },
  {
   "cell_type": "code",
   "execution_count": 8,
   "metadata": {
    "collapsed": true
   },
   "outputs": [],
   "source": [
    "product_df = pandas.read_csv('data/product_data.csv')"
   ]
  },
  {
   "cell_type": "markdown",
   "metadata": {},
   "source": [
    "Print the product data"
   ]
  },
  {
   "cell_type": "code",
   "execution_count": 9,
   "metadata": {},
   "outputs": [
    {
     "output_type": "execute_result",
     "data": {
      "text/plain": "   ProductID ProductName   Cost ShippingLocation SellerName\n0          1       LEDTV  32990            Delhi    ABC Pvt\n1          2     Printer   5990            Delhi    ABC Pvt\n2          3    Split AC  32050             Pune    XY Corp\n3          4   Microwave  12670           Mumbai    PQ Corp",
      "text/html": "<div>\n<style scoped>\n    .dataframe tbody tr th:only-of-type {\n        vertical-align: middle;\n    }\n\n    .dataframe tbody tr th {\n        vertical-align: top;\n    }\n\n    .dataframe thead th {\n        text-align: right;\n    }\n</style>\n<table border=\"1\" class=\"dataframe\">\n  <thead>\n    <tr style=\"text-align: right;\">\n      <th></th>\n      <th>ProductID</th>\n      <th>ProductName</th>\n      <th>Cost</th>\n      <th>ShippingLocation</th>\n      <th>SellerName</th>\n    </tr>\n  </thead>\n  <tbody>\n    <tr>\n      <th>0</th>\n      <td>1</td>\n      <td>LEDTV</td>\n      <td>32990</td>\n      <td>Delhi</td>\n      <td>ABC Pvt</td>\n    </tr>\n    <tr>\n      <th>1</th>\n      <td>2</td>\n      <td>Printer</td>\n      <td>5990</td>\n      <td>Delhi</td>\n      <td>ABC Pvt</td>\n    </tr>\n    <tr>\n      <th>2</th>\n      <td>3</td>\n      <td>Split AC</td>\n      <td>32050</td>\n      <td>Pune</td>\n      <td>XY Corp</td>\n    </tr>\n    <tr>\n      <th>3</th>\n      <td>4</td>\n      <td>Microwave</td>\n      <td>12670</td>\n      <td>Mumbai</td>\n      <td>PQ Corp</td>\n    </tr>\n  </tbody>\n</table>\n</div>"
     },
     "metadata": {},
     "execution_count": 9
    }
   ],
   "source": [
    "product_df"
   ]
  },
  {
   "cell_type": "markdown",
   "metadata": {},
   "source": [
    "Select a column"
   ]
  },
  {
   "cell_type": "code",
   "execution_count": 10,
   "metadata": {},
   "outputs": [
    {
     "output_type": "execute_result",
     "data": {
      "text/plain": "0     Delhi\n1     Delhi\n2      Pune\n3    Mumbai\nName: ShippingLocation, dtype: object"
     },
     "metadata": {},
     "execution_count": 10
    }
   ],
   "source": [
    "product_df['ShippingLocation']"
   ]
  },
  {
   "cell_type": "markdown",
   "metadata": {},
   "source": [
    "Select multiple column"
   ]
  },
  {
   "cell_type": "code",
   "execution_count": 11,
   "metadata": {},
   "outputs": [
    {
     "output_type": "execute_result",
     "data": {
      "text/plain": "  ProductName   Cost\n0       LEDTV  32990\n1     Printer   5990\n2    Split AC  32050\n3   Microwave  12670",
      "text/html": "<div>\n<style scoped>\n    .dataframe tbody tr th:only-of-type {\n        vertical-align: middle;\n    }\n\n    .dataframe tbody tr th {\n        vertical-align: top;\n    }\n\n    .dataframe thead th {\n        text-align: right;\n    }\n</style>\n<table border=\"1\" class=\"dataframe\">\n  <thead>\n    <tr style=\"text-align: right;\">\n      <th></th>\n      <th>ProductName</th>\n      <th>Cost</th>\n    </tr>\n  </thead>\n  <tbody>\n    <tr>\n      <th>0</th>\n      <td>LEDTV</td>\n      <td>32990</td>\n    </tr>\n    <tr>\n      <th>1</th>\n      <td>Printer</td>\n      <td>5990</td>\n    </tr>\n    <tr>\n      <th>2</th>\n      <td>Split AC</td>\n      <td>32050</td>\n    </tr>\n    <tr>\n      <th>3</th>\n      <td>Microwave</td>\n      <td>12670</td>\n    </tr>\n  </tbody>\n</table>\n</div>"
     },
     "metadata": {},
     "execution_count": 11
    }
   ],
   "source": [
    "listOfCols = ['ProductName','Cost']\n",
    "product_df[listOfCols]"
   ]
  },
  {
   "cell_type": "code",
   "execution_count": 12,
   "metadata": {},
   "outputs": [
    {
     "output_type": "execute_result",
     "data": {
      "text/plain": "  ProductName   Cost\n0       LEDTV  32990\n1     Printer   5990\n2    Split AC  32050\n3   Microwave  12670",
      "text/html": "<div>\n<style scoped>\n    .dataframe tbody tr th:only-of-type {\n        vertical-align: middle;\n    }\n\n    .dataframe tbody tr th {\n        vertical-align: top;\n    }\n\n    .dataframe thead th {\n        text-align: right;\n    }\n</style>\n<table border=\"1\" class=\"dataframe\">\n  <thead>\n    <tr style=\"text-align: right;\">\n      <th></th>\n      <th>ProductName</th>\n      <th>Cost</th>\n    </tr>\n  </thead>\n  <tbody>\n    <tr>\n      <th>0</th>\n      <td>LEDTV</td>\n      <td>32990</td>\n    </tr>\n    <tr>\n      <th>1</th>\n      <td>Printer</td>\n      <td>5990</td>\n    </tr>\n    <tr>\n      <th>2</th>\n      <td>Split AC</td>\n      <td>32050</td>\n    </tr>\n    <tr>\n      <th>3</th>\n      <td>Microwave</td>\n      <td>12670</td>\n    </tr>\n  </tbody>\n</table>\n</div>"
     },
     "metadata": {},
     "execution_count": 12
    }
   ],
   "source": [
    "product_df[['ProductName','Cost']]"
   ]
  },
  {
   "cell_type": "code",
   "execution_count": 13,
   "metadata": {},
   "outputs": [
    {
     "output_type": "execute_result",
     "data": {
      "text/plain": "ProductID                  3\nProductName         Split AC\nCost                   32050\nShippingLocation        Pune\nSellerName           XY Corp\nName: 2, dtype: object"
     },
     "metadata": {},
     "execution_count": 13
    }
   ],
   "source": [
    "#For selecting rows with index = 2\n",
    "index = 2\n",
    "product_df.loc[index]"
   ]
  },
  {
   "cell_type": "code",
   "execution_count": 14,
   "metadata": {},
   "outputs": [
    {
     "output_type": "execute_result",
     "data": {
      "text/plain": "   ProductID ProductName   Cost ShippingLocation SellerName\n0          1       LEDTV  32990            Delhi    ABC Pvt\n1          2     Printer   5990            Delhi    ABC Pvt\n2          3    Split AC  32050             Pune    XY Corp",
      "text/html": "<div>\n<style scoped>\n    .dataframe tbody tr th:only-of-type {\n        vertical-align: middle;\n    }\n\n    .dataframe tbody tr th {\n        vertical-align: top;\n    }\n\n    .dataframe thead th {\n        text-align: right;\n    }\n</style>\n<table border=\"1\" class=\"dataframe\">\n  <thead>\n    <tr style=\"text-align: right;\">\n      <th></th>\n      <th>ProductID</th>\n      <th>ProductName</th>\n      <th>Cost</th>\n      <th>ShippingLocation</th>\n      <th>SellerName</th>\n    </tr>\n  </thead>\n  <tbody>\n    <tr>\n      <th>0</th>\n      <td>1</td>\n      <td>LEDTV</td>\n      <td>32990</td>\n      <td>Delhi</td>\n      <td>ABC Pvt</td>\n    </tr>\n    <tr>\n      <th>1</th>\n      <td>2</td>\n      <td>Printer</td>\n      <td>5990</td>\n      <td>Delhi</td>\n      <td>ABC Pvt</td>\n    </tr>\n    <tr>\n      <th>2</th>\n      <td>3</td>\n      <td>Split AC</td>\n      <td>32050</td>\n      <td>Pune</td>\n      <td>XY Corp</td>\n    </tr>\n  </tbody>\n</table>\n</div>"
     },
     "metadata": {},
     "execution_count": 14
    }
   ],
   "source": [
    "#For selecting rows with index less than 2\n",
    "index = 2\n",
    "product_df.loc[:index]"
   ]
  },
  {
   "cell_type": "code",
   "execution_count": 15,
   "metadata": {},
   "outputs": [
    {
     "output_type": "execute_result",
     "data": {
      "text/plain": "   ProductID ProductName   Cost ShippingLocation SellerName\n0          1       LEDTV  32990            Delhi    ABC Pvt\n1          2     Printer   5990            Delhi    ABC Pvt",
      "text/html": "<div>\n<style scoped>\n    .dataframe tbody tr th:only-of-type {\n        vertical-align: middle;\n    }\n\n    .dataframe tbody tr th {\n        vertical-align: top;\n    }\n\n    .dataframe thead th {\n        text-align: right;\n    }\n</style>\n<table border=\"1\" class=\"dataframe\">\n  <thead>\n    <tr style=\"text-align: right;\">\n      <th></th>\n      <th>ProductID</th>\n      <th>ProductName</th>\n      <th>Cost</th>\n      <th>ShippingLocation</th>\n      <th>SellerName</th>\n    </tr>\n  </thead>\n  <tbody>\n    <tr>\n      <th>0</th>\n      <td>1</td>\n      <td>LEDTV</td>\n      <td>32990</td>\n      <td>Delhi</td>\n      <td>ABC Pvt</td>\n    </tr>\n    <tr>\n      <th>1</th>\n      <td>2</td>\n      <td>Printer</td>\n      <td>5990</td>\n      <td>Delhi</td>\n      <td>ABC Pvt</td>\n    </tr>\n  </tbody>\n</table>\n</div>"
     },
     "metadata": {},
     "execution_count": 15
    }
   ],
   "source": [
    "#Select top 2 rows\n",
    "row = 2\n",
    "product_df.iloc[:row]"
   ]
  },
  {
   "cell_type": "code",
   "execution_count": 16,
   "metadata": {},
   "outputs": [
    {
     "output_type": "execute_result",
     "data": {
      "text/plain": "   ProductID ProductName   Cost ShippingLocation SellerName\n2          3    Split AC  32050             Pune    XY Corp\n3          4   Microwave  12670           Mumbai    PQ Corp",
      "text/html": "<div>\n<style scoped>\n    .dataframe tbody tr th:only-of-type {\n        vertical-align: middle;\n    }\n\n    .dataframe tbody tr th {\n        vertical-align: top;\n    }\n\n    .dataframe thead th {\n        text-align: right;\n    }\n</style>\n<table border=\"1\" class=\"dataframe\">\n  <thead>\n    <tr style=\"text-align: right;\">\n      <th></th>\n      <th>ProductID</th>\n      <th>ProductName</th>\n      <th>Cost</th>\n      <th>ShippingLocation</th>\n      <th>SellerName</th>\n    </tr>\n  </thead>\n  <tbody>\n    <tr>\n      <th>2</th>\n      <td>3</td>\n      <td>Split AC</td>\n      <td>32050</td>\n      <td>Pune</td>\n      <td>XY Corp</td>\n    </tr>\n    <tr>\n      <th>3</th>\n      <td>4</td>\n      <td>Microwave</td>\n      <td>12670</td>\n      <td>Mumbai</td>\n      <td>PQ Corp</td>\n    </tr>\n  </tbody>\n</table>\n</div>"
     },
     "metadata": {},
     "execution_count": 16
    }
   ],
   "source": [
    "#Select bottom 2 rows\n",
    "row = 2\n",
    "product_df.iloc[-row:]"
   ]
  },
  {
   "cell_type": "code",
   "execution_count": 17,
   "metadata": {},
   "outputs": [
    {
     "output_type": "execute_result",
     "data": {
      "text/plain": "  ProductName   Cost ShippingLocation\n0       LEDTV  32990            Delhi\n1     Printer   5990            Delhi\n2    Split AC  32050             Pune\n3   Microwave  12670           Mumbai",
      "text/html": "<div>\n<style scoped>\n    .dataframe tbody tr th:only-of-type {\n        vertical-align: middle;\n    }\n\n    .dataframe tbody tr th {\n        vertical-align: top;\n    }\n\n    .dataframe thead th {\n        text-align: right;\n    }\n</style>\n<table border=\"1\" class=\"dataframe\">\n  <thead>\n    <tr style=\"text-align: right;\">\n      <th></th>\n      <th>ProductName</th>\n      <th>Cost</th>\n      <th>ShippingLocation</th>\n    </tr>\n  </thead>\n  <tbody>\n    <tr>\n      <th>0</th>\n      <td>LEDTV</td>\n      <td>32990</td>\n      <td>Delhi</td>\n    </tr>\n    <tr>\n      <th>1</th>\n      <td>Printer</td>\n      <td>5990</td>\n      <td>Delhi</td>\n    </tr>\n    <tr>\n      <th>2</th>\n      <td>Split AC</td>\n      <td>32050</td>\n      <td>Pune</td>\n    </tr>\n    <tr>\n      <th>3</th>\n      <td>Microwave</td>\n      <td>12670</td>\n      <td>Mumbai</td>\n    </tr>\n  </tbody>\n</table>\n</div>"
     },
     "metadata": {},
     "execution_count": 17
    }
   ],
   "source": [
    "#Select all rows with 3 columns\n",
    "product_df.iloc[:,1:4]"
   ]
  },
  {
   "cell_type": "code",
   "execution_count": 18,
   "metadata": {},
   "outputs": [
    {
     "output_type": "execute_result",
     "data": {
      "text/plain": "   ProductID ProductName   Cost ShippingLocation SellerName\n0          1       LEDTV  32990            Delhi    ABC Pvt\n2          3    Split AC  32050             Pune    XY Corp",
      "text/html": "<div>\n<style scoped>\n    .dataframe tbody tr th:only-of-type {\n        vertical-align: middle;\n    }\n\n    .dataframe tbody tr th {\n        vertical-align: top;\n    }\n\n    .dataframe thead th {\n        text-align: right;\n    }\n</style>\n<table border=\"1\" class=\"dataframe\">\n  <thead>\n    <tr style=\"text-align: right;\">\n      <th></th>\n      <th>ProductID</th>\n      <th>ProductName</th>\n      <th>Cost</th>\n      <th>ShippingLocation</th>\n      <th>SellerName</th>\n    </tr>\n  </thead>\n  <tbody>\n    <tr>\n      <th>0</th>\n      <td>1</td>\n      <td>LEDTV</td>\n      <td>32990</td>\n      <td>Delhi</td>\n      <td>ABC Pvt</td>\n    </tr>\n    <tr>\n      <th>2</th>\n      <td>3</td>\n      <td>Split AC</td>\n      <td>32050</td>\n      <td>Pune</td>\n      <td>XY Corp</td>\n    </tr>\n  </tbody>\n</table>\n</div>"
     },
     "metadata": {},
     "execution_count": 18
    }
   ],
   "source": [
    "product_df[product_df['Cost']>=30000]"
   ]
  },
  {
   "cell_type": "code",
   "execution_count": 19,
   "metadata": {},
   "outputs": [
    {
     "output_type": "execute_result",
     "data": {
      "text/plain": "   ProductID ProductName   Cost ShippingLocation SellerName\n0          1       LEDTV  32990            Delhi    ABC Pvt",
      "text/html": "<div>\n<style scoped>\n    .dataframe tbody tr th:only-of-type {\n        vertical-align: middle;\n    }\n\n    .dataframe tbody tr th {\n        vertical-align: top;\n    }\n\n    .dataframe thead th {\n        text-align: right;\n    }\n</style>\n<table border=\"1\" class=\"dataframe\">\n  <thead>\n    <tr style=\"text-align: right;\">\n      <th></th>\n      <th>ProductID</th>\n      <th>ProductName</th>\n      <th>Cost</th>\n      <th>ShippingLocation</th>\n      <th>SellerName</th>\n    </tr>\n  </thead>\n  <tbody>\n    <tr>\n      <th>0</th>\n      <td>1</td>\n      <td>LEDTV</td>\n      <td>32990</td>\n      <td>Delhi</td>\n      <td>ABC Pvt</td>\n    </tr>\n  </tbody>\n</table>\n</div>"
     },
     "metadata": {},
     "execution_count": 19
    }
   ],
   "source": [
    "product_df[(product_df['Cost']>=30000) & (product_df['ShippingLocation']=='Delhi') ]"
   ]
  },
  {
   "cell_type": "code",
   "execution_count": 20,
   "metadata": {},
   "outputs": [
    {
     "output_type": "execute_result",
     "data": {
      "text/plain": "   ProductID ProductName   Cost ShippingLocation SellerName\n0          1       LEDTV  32990            Delhi    ABC Pvt\n1          2     Printer   5990            Delhi    ABC Pvt\n2          3    Split AC  32050             Pune    XY Corp",
      "text/html": "<div>\n<style scoped>\n    .dataframe tbody tr th:only-of-type {\n        vertical-align: middle;\n    }\n\n    .dataframe tbody tr th {\n        vertical-align: top;\n    }\n\n    .dataframe thead th {\n        text-align: right;\n    }\n</style>\n<table border=\"1\" class=\"dataframe\">\n  <thead>\n    <tr style=\"text-align: right;\">\n      <th></th>\n      <th>ProductID</th>\n      <th>ProductName</th>\n      <th>Cost</th>\n      <th>ShippingLocation</th>\n      <th>SellerName</th>\n    </tr>\n  </thead>\n  <tbody>\n    <tr>\n      <th>0</th>\n      <td>1</td>\n      <td>LEDTV</td>\n      <td>32990</td>\n      <td>Delhi</td>\n      <td>ABC Pvt</td>\n    </tr>\n    <tr>\n      <th>1</th>\n      <td>2</td>\n      <td>Printer</td>\n      <td>5990</td>\n      <td>Delhi</td>\n      <td>ABC Pvt</td>\n    </tr>\n    <tr>\n      <th>2</th>\n      <td>3</td>\n      <td>Split AC</td>\n      <td>32050</td>\n      <td>Pune</td>\n      <td>XY Corp</td>\n    </tr>\n  </tbody>\n</table>\n</div>"
     },
     "metadata": {},
     "execution_count": 20
    }
   ],
   "source": [
    "product_df[(product_df['Cost']>=30000) | (product_df['ShippingLocation']=='Delhi') ]"
   ]
  },
  {
   "cell_type": "code",
   "execution_count": 21,
   "metadata": {},
   "outputs": [
    {
     "output_type": "execute_result",
     "data": {
      "text/plain": "   ProductID ProductName   Cost ShippingLocation SellerName\n1          2     Printer   5990            Delhi    ABC Pvt\n3          4   Microwave  12670           Mumbai    PQ Corp",
      "text/html": "<div>\n<style scoped>\n    .dataframe tbody tr th:only-of-type {\n        vertical-align: middle;\n    }\n\n    .dataframe tbody tr th {\n        vertical-align: top;\n    }\n\n    .dataframe thead th {\n        text-align: right;\n    }\n</style>\n<table border=\"1\" class=\"dataframe\">\n  <thead>\n    <tr style=\"text-align: right;\">\n      <th></th>\n      <th>ProductID</th>\n      <th>ProductName</th>\n      <th>Cost</th>\n      <th>ShippingLocation</th>\n      <th>SellerName</th>\n    </tr>\n  </thead>\n  <tbody>\n    <tr>\n      <th>1</th>\n      <td>2</td>\n      <td>Printer</td>\n      <td>5990</td>\n      <td>Delhi</td>\n      <td>ABC Pvt</td>\n    </tr>\n    <tr>\n      <th>3</th>\n      <td>4</td>\n      <td>Microwave</td>\n      <td>12670</td>\n      <td>Mumbai</td>\n      <td>PQ Corp</td>\n    </tr>\n  </tbody>\n</table>\n</div>"
     },
     "metadata": {},
     "execution_count": 21
    }
   ],
   "source": [
    "product_df[~(product_df['Cost']>=30000)]"
   ]
  },
  {
   "cell_type": "markdown",
   "metadata": {},
   "source": [
    "### Data Cleaning"
   ]
  },
  {
   "cell_type": "markdown",
   "metadata": {},
   "source": [
    "Renaming the columns"
   ]
  },
  {
   "cell_type": "code",
   "execution_count": 22,
   "metadata": {
    "collapsed": true
   },
   "outputs": [],
   "source": [
    "product_df= product_df.rename(columns={'Cost': 'price',\n",
    "    'shippingLocation': 'destination'})"
   ]
  },
  {
   "cell_type": "markdown",
   "metadata": {},
   "source": [
    "Insert a column with some value"
   ]
  },
  {
   "cell_type": "code",
   "execution_count": 23,
   "metadata": {
    "collapsed": true
   },
   "outputs": [],
   "source": [
    "product_df['NumberOfProduct'] = 1"
   ]
  },
  {
   "cell_type": "markdown",
   "metadata": {},
   "source": [
    "Checking for null values"
   ]
  },
  {
   "cell_type": "code",
   "execution_count": 24,
   "metadata": {},
   "outputs": [
    {
     "output_type": "execute_result",
     "data": {
      "text/plain": "   ProductID  ProductName  price  ShippingLocation  SellerName  \\\n0      False        False  False             False       False   \n1      False        False  False             False       False   \n2      False        False  False             False       False   \n3      False        False  False             False       False   \n\n   NumberOfProduct  \n0            False  \n1            False  \n2            False  \n3            False  ",
      "text/html": "<div>\n<style scoped>\n    .dataframe tbody tr th:only-of-type {\n        vertical-align: middle;\n    }\n\n    .dataframe tbody tr th {\n        vertical-align: top;\n    }\n\n    .dataframe thead th {\n        text-align: right;\n    }\n</style>\n<table border=\"1\" class=\"dataframe\">\n  <thead>\n    <tr style=\"text-align: right;\">\n      <th></th>\n      <th>ProductID</th>\n      <th>ProductName</th>\n      <th>price</th>\n      <th>ShippingLocation</th>\n      <th>SellerName</th>\n      <th>NumberOfProduct</th>\n    </tr>\n  </thead>\n  <tbody>\n    <tr>\n      <th>0</th>\n      <td>False</td>\n      <td>False</td>\n      <td>False</td>\n      <td>False</td>\n      <td>False</td>\n      <td>False</td>\n    </tr>\n    <tr>\n      <th>1</th>\n      <td>False</td>\n      <td>False</td>\n      <td>False</td>\n      <td>False</td>\n      <td>False</td>\n      <td>False</td>\n    </tr>\n    <tr>\n      <th>2</th>\n      <td>False</td>\n      <td>False</td>\n      <td>False</td>\n      <td>False</td>\n      <td>False</td>\n      <td>False</td>\n    </tr>\n    <tr>\n      <th>3</th>\n      <td>False</td>\n      <td>False</td>\n      <td>False</td>\n      <td>False</td>\n      <td>False</td>\n      <td>False</td>\n    </tr>\n  </tbody>\n</table>\n</div>"
     },
     "metadata": {},
     "execution_count": 24
    }
   ],
   "source": [
    "product_df.isnull()"
   ]
  },
  {
   "cell_type": "code",
   "execution_count": 25,
   "metadata": {},
   "outputs": [
    {
     "output_type": "execute_result",
     "data": {
      "text/plain": "0    False\n1    False\n2    False\n3    False\nName: price, dtype: bool"
     },
     "metadata": {},
     "execution_count": 25
    }
   ],
   "source": [
    "product_df['price'].isnull()"
   ]
  },
  {
   "cell_type": "markdown",
   "metadata": {},
   "source": [
    "Drop null values"
   ]
  },
  {
   "cell_type": "code",
   "execution_count": 26,
   "metadata": {},
   "outputs": [
    {
     "output_type": "execute_result",
     "data": {
      "text/plain": "   ProductID ProductName  price ShippingLocation SellerName  NumberOfProduct\n0          1       LEDTV  32990            Delhi    ABC Pvt                1\n1          2     Printer   5990            Delhi    ABC Pvt                1\n2          3    Split AC  32050             Pune    XY Corp                1\n3          4   Microwave  12670           Mumbai    PQ Corp                1",
      "text/html": "<div>\n<style scoped>\n    .dataframe tbody tr th:only-of-type {\n        vertical-align: middle;\n    }\n\n    .dataframe tbody tr th {\n        vertical-align: top;\n    }\n\n    .dataframe thead th {\n        text-align: right;\n    }\n</style>\n<table border=\"1\" class=\"dataframe\">\n  <thead>\n    <tr style=\"text-align: right;\">\n      <th></th>\n      <th>ProductID</th>\n      <th>ProductName</th>\n      <th>price</th>\n      <th>ShippingLocation</th>\n      <th>SellerName</th>\n      <th>NumberOfProduct</th>\n    </tr>\n  </thead>\n  <tbody>\n    <tr>\n      <th>0</th>\n      <td>1</td>\n      <td>LEDTV</td>\n      <td>32990</td>\n      <td>Delhi</td>\n      <td>ABC Pvt</td>\n      <td>1</td>\n    </tr>\n    <tr>\n      <th>1</th>\n      <td>2</td>\n      <td>Printer</td>\n      <td>5990</td>\n      <td>Delhi</td>\n      <td>ABC Pvt</td>\n      <td>1</td>\n    </tr>\n    <tr>\n      <th>2</th>\n      <td>3</td>\n      <td>Split AC</td>\n      <td>32050</td>\n      <td>Pune</td>\n      <td>XY Corp</td>\n      <td>1</td>\n    </tr>\n    <tr>\n      <th>3</th>\n      <td>4</td>\n      <td>Microwave</td>\n      <td>12670</td>\n      <td>Mumbai</td>\n      <td>PQ Corp</td>\n      <td>1</td>\n    </tr>\n  </tbody>\n</table>\n</div>"
     },
     "metadata": {},
     "execution_count": 26
    }
   ],
   "source": [
    "#Drop all rows having any null value\n",
    "product_df.dropna(axis=0)\n",
    "\n",
    "#Drop all columns having any null value\n",
    "product_df.dropna(axis=1)\n",
    "\n",
    "#Drop all rows having less than k null values\n",
    "product_df.dropna(axis=0,thresh=5)\n",
    "\n",
    "#Drop all columns having all null values\n",
    "product_df.dropna(axis=0,how='all')"
   ]
  },
  {
   "cell_type": "markdown",
   "metadata": {},
   "source": [
    "Replace values"
   ]
  },
  {
   "cell_type": "code",
   "execution_count": 27,
   "metadata": {},
   "outputs": [
    {
     "output_type": "execute_result",
     "data": {
      "text/plain": "   ProductID ProductName  price ShippingLocation SellerName  NumberOfProduct\n0          1       LEDTV  32990            Delhi    ABC Pvt                1\n1          2     Printer   5990            Delhi    ABC Pvt                1\n2          3    Split AC  32050             Pune    XY Corp                1\n3          4   Microwave  12670           Mumbai    PQ Corp                1",
      "text/html": "<div>\n<style scoped>\n    .dataframe tbody tr th:only-of-type {\n        vertical-align: middle;\n    }\n\n    .dataframe tbody tr th {\n        vertical-align: top;\n    }\n\n    .dataframe thead th {\n        text-align: right;\n    }\n</style>\n<table border=\"1\" class=\"dataframe\">\n  <thead>\n    <tr style=\"text-align: right;\">\n      <th></th>\n      <th>ProductID</th>\n      <th>ProductName</th>\n      <th>price</th>\n      <th>ShippingLocation</th>\n      <th>SellerName</th>\n      <th>NumberOfProduct</th>\n    </tr>\n  </thead>\n  <tbody>\n    <tr>\n      <th>0</th>\n      <td>1</td>\n      <td>LEDTV</td>\n      <td>32990</td>\n      <td>Delhi</td>\n      <td>ABC Pvt</td>\n      <td>1</td>\n    </tr>\n    <tr>\n      <th>1</th>\n      <td>2</td>\n      <td>Printer</td>\n      <td>5990</td>\n      <td>Delhi</td>\n      <td>ABC Pvt</td>\n      <td>1</td>\n    </tr>\n    <tr>\n      <th>2</th>\n      <td>3</td>\n      <td>Split AC</td>\n      <td>32050</td>\n      <td>Pune</td>\n      <td>XY Corp</td>\n      <td>1</td>\n    </tr>\n    <tr>\n      <th>3</th>\n      <td>4</td>\n      <td>Microwave</td>\n      <td>12670</td>\n      <td>Mumbai</td>\n      <td>PQ Corp</td>\n      <td>1</td>\n    </tr>\n  </tbody>\n</table>\n</div>"
     },
     "metadata": {},
     "execution_count": 27
    }
   ],
   "source": [
    "#Replace all occurrence of 0 with 1\n",
    "product_df.replace(0,1)"
   ]
  },
  {
   "cell_type": "markdown",
   "metadata": {},
   "source": [
    "Replace NA values"
   ]
  },
  {
   "cell_type": "code",
   "execution_count": 28,
   "metadata": {},
   "outputs": [
    {
     "output_type": "execute_result",
     "data": {
      "text/plain": "   ProductID ProductName  price ShippingLocation SellerName  NumberOfProduct\n0          1       LEDTV  32990            Delhi    ABC Pvt                1\n1          2     Printer   5990            Delhi    ABC Pvt                1\n2          3    Split AC  32050             Pune    XY Corp                1\n3          4   Microwave  12670           Mumbai    PQ Corp                1",
      "text/html": "<div>\n<style scoped>\n    .dataframe tbody tr th:only-of-type {\n        vertical-align: middle;\n    }\n\n    .dataframe tbody tr th {\n        vertical-align: top;\n    }\n\n    .dataframe thead th {\n        text-align: right;\n    }\n</style>\n<table border=\"1\" class=\"dataframe\">\n  <thead>\n    <tr style=\"text-align: right;\">\n      <th></th>\n      <th>ProductID</th>\n      <th>ProductName</th>\n      <th>price</th>\n      <th>ShippingLocation</th>\n      <th>SellerName</th>\n      <th>NumberOfProduct</th>\n    </tr>\n  </thead>\n  <tbody>\n    <tr>\n      <th>0</th>\n      <td>1</td>\n      <td>LEDTV</td>\n      <td>32990</td>\n      <td>Delhi</td>\n      <td>ABC Pvt</td>\n      <td>1</td>\n    </tr>\n    <tr>\n      <th>1</th>\n      <td>2</td>\n      <td>Printer</td>\n      <td>5990</td>\n      <td>Delhi</td>\n      <td>ABC Pvt</td>\n      <td>1</td>\n    </tr>\n    <tr>\n      <th>2</th>\n      <td>3</td>\n      <td>Split AC</td>\n      <td>32050</td>\n      <td>Pune</td>\n      <td>XY Corp</td>\n      <td>1</td>\n    </tr>\n    <tr>\n      <th>3</th>\n      <td>4</td>\n      <td>Microwave</td>\n      <td>12670</td>\n      <td>Mumbai</td>\n      <td>PQ Corp</td>\n      <td>1</td>\n    </tr>\n  </tbody>\n</table>\n</div>"
     },
     "metadata": {},
     "execution_count": 28
    }
   ],
   "source": [
    "#Fill all NA values,\n",
    "product_df.fillna(0)"
   ]
  },
  {
   "cell_type": "markdown",
   "metadata": {},
   "source": [
    "Grouping the data"
   ]
  },
  {
   "cell_type": "code",
   "execution_count": 29,
   "metadata": {},
   "outputs": [
    {
     "output_type": "execute_result",
     "data": {
      "text/plain": "<pandas.core.groupby.generic.DataFrameGroupBy object at 0x0000020D5C397D08>"
     },
     "metadata": {},
     "execution_count": 29
    }
   ],
   "source": [
    "#Grouping on data by SellerName\n",
    "product_df.groupby('SellerName')"
   ]
  },
  {
   "cell_type": "code",
   "execution_count": 30,
   "metadata": {
    "collapsed": true
   },
   "outputs": [],
   "source": [
    "#We can also group data based on multiple columns\n",
    "regiment_preScore = product_df.groupby(['SellerName','ShippingLocation'])"
   ]
  },
  {
   "cell_type": "code",
   "execution_count": 31,
   "metadata": {},
   "outputs": [
    {
     "output_type": "execute_result",
     "data": {
      "text/plain": "<pandas.core.groupby.generic.DataFrameGroupBy object at 0x0000020D5C35ECC8>"
     },
     "metadata": {},
     "execution_count": 31
    }
   ],
   "source": [
    "regiment_preScore"
   ]
  },
  {
   "cell_type": "markdown",
   "metadata": {},
   "source": [
    "Apply Statistics"
   ]
  },
  {
   "cell_type": "code",
   "execution_count": 32,
   "metadata": {},
   "outputs": [
    {
     "output_type": "execute_result",
     "data": {
      "text/plain": "SellerName\nABC Pvt    19490\nPQ Corp    12670\nXY Corp    32050\nName: price, dtype: int64"
     },
     "metadata": {},
     "execution_count": 32
    }
   ],
   "source": [
    "product_df['price'].groupby(product_df['SellerName']).mean()"
   ]
  },
  {
   "cell_type": "code",
   "execution_count": 33,
   "metadata": {},
   "outputs": [
    {
     "output_type": "execute_result",
     "data": {
      "text/plain": "SellerName\nABC Pvt    2\nPQ Corp    1\nXY Corp    1\nName: price, dtype: int64"
     },
     "metadata": {},
     "execution_count": 33
    }
   ],
   "source": [
    "product_df['price'].groupby(product_df['SellerName']).count()"
   ]
  },
  {
   "cell_type": "code",
   "execution_count": 34,
   "metadata": {},
   "outputs": [
    {
     "output_type": "execute_result",
     "data": {
      "text/plain": "SellerName\nABC Pvt     5990\nPQ Corp    12670\nXY Corp    32050\nName: price, dtype: int64"
     },
     "metadata": {},
     "execution_count": 34
    }
   ],
   "source": [
    "product_df['price'].groupby(product_df['SellerName']).min()"
   ]
  },
  {
   "cell_type": "code",
   "execution_count": 35,
   "metadata": {},
   "outputs": [
    {
     "output_type": "execute_result",
     "data": {
      "text/plain": "SellerName\nABC Pvt    19490\nPQ Corp    12670\nXY Corp    32050\nName: price, dtype: int64"
     },
     "metadata": {},
     "execution_count": 35
    }
   ],
   "source": [
    "product_df['price'].groupby(product_df['SellerName']).median()"
   ]
  },
  {
   "cell_type": "code",
   "execution_count": 36,
   "metadata": {},
   "outputs": [
    {
     "output_type": "execute_result",
     "data": {
      "text/plain": "SellerName\nABC Pvt    19091.883092\nPQ Corp             NaN\nXY Corp             NaN\nName: price, dtype: float64"
     },
     "metadata": {},
     "execution_count": 36
    }
   ],
   "source": [
    "product_df['price'].groupby(product_df['SellerName']).std()"
   ]
  },
  {
   "cell_type": "markdown",
   "metadata": {},
   "source": [
    "correlation"
   ]
  },
  {
   "cell_type": "code",
   "execution_count": 37,
   "metadata": {},
   "outputs": [
    {
     "output_type": "execute_result",
     "data": {
      "text/plain": "                 ProductID     price  NumberOfProduct\nProductID         1.000000 -0.329618              NaN\nprice            -0.329618  1.000000              NaN\nNumberOfProduct        NaN       NaN              NaN",
      "text/html": "<div>\n<style scoped>\n    .dataframe tbody tr th:only-of-type {\n        vertical-align: middle;\n    }\n\n    .dataframe tbody tr th {\n        vertical-align: top;\n    }\n\n    .dataframe thead th {\n        text-align: right;\n    }\n</style>\n<table border=\"1\" class=\"dataframe\">\n  <thead>\n    <tr style=\"text-align: right;\">\n      <th></th>\n      <th>ProductID</th>\n      <th>price</th>\n      <th>NumberOfProduct</th>\n    </tr>\n  </thead>\n  <tbody>\n    <tr>\n      <th>ProductID</th>\n      <td>1.000000</td>\n      <td>-0.329618</td>\n      <td>NaN</td>\n    </tr>\n    <tr>\n      <th>price</th>\n      <td>-0.329618</td>\n      <td>1.000000</td>\n      <td>NaN</td>\n    </tr>\n    <tr>\n      <th>NumberOfProduct</th>\n      <td>NaN</td>\n      <td>NaN</td>\n      <td>NaN</td>\n    </tr>\n  </tbody>\n</table>\n</div>"
     },
     "metadata": {},
     "execution_count": 37
    }
   ],
   "source": [
    "product_df.corr()"
   ]
  },
  {
   "cell_type": "markdown",
   "metadata": {},
   "source": [
    "Get Summary of DataFrame"
   ]
  },
  {
   "cell_type": "code",
   "execution_count": 38,
   "metadata": {},
   "outputs": [
    {
     "output_type": "execute_result",
     "data": {
      "text/plain": "       ProductID         price  NumberOfProduct\ncount   4.000000      4.000000              4.0\nmean    2.500000  20925.000000              1.0\nstd     1.290994  13669.053857              0.0\nmin     1.000000   5990.000000              1.0\n25%     1.750000  11000.000000              1.0\n50%     2.500000  22360.000000              1.0\n75%     3.250000  32285.000000              1.0\nmax     4.000000  32990.000000              1.0",
      "text/html": "<div>\n<style scoped>\n    .dataframe tbody tr th:only-of-type {\n        vertical-align: middle;\n    }\n\n    .dataframe tbody tr th {\n        vertical-align: top;\n    }\n\n    .dataframe thead th {\n        text-align: right;\n    }\n</style>\n<table border=\"1\" class=\"dataframe\">\n  <thead>\n    <tr style=\"text-align: right;\">\n      <th></th>\n      <th>ProductID</th>\n      <th>price</th>\n      <th>NumberOfProduct</th>\n    </tr>\n  </thead>\n  <tbody>\n    <tr>\n      <th>count</th>\n      <td>4.000000</td>\n      <td>4.000000</td>\n      <td>4.0</td>\n    </tr>\n    <tr>\n      <th>mean</th>\n      <td>2.500000</td>\n      <td>20925.000000</td>\n      <td>1.0</td>\n    </tr>\n    <tr>\n      <th>std</th>\n      <td>1.290994</td>\n      <td>13669.053857</td>\n      <td>0.0</td>\n    </tr>\n    <tr>\n      <th>min</th>\n      <td>1.000000</td>\n      <td>5990.000000</td>\n      <td>1.0</td>\n    </tr>\n    <tr>\n      <th>25%</th>\n      <td>1.750000</td>\n      <td>11000.000000</td>\n      <td>1.0</td>\n    </tr>\n    <tr>\n      <th>50%</th>\n      <td>2.500000</td>\n      <td>22360.000000</td>\n      <td>1.0</td>\n    </tr>\n    <tr>\n      <th>75%</th>\n      <td>3.250000</td>\n      <td>32285.000000</td>\n      <td>1.0</td>\n    </tr>\n    <tr>\n      <th>max</th>\n      <td>4.000000</td>\n      <td>32990.000000</td>\n      <td>1.0</td>\n    </tr>\n  </tbody>\n</table>\n</div>"
     },
     "metadata": {},
     "execution_count": 38
    }
   ],
   "source": [
    "product_df.describe()"
   ]
  },
  {
   "cell_type": "markdown",
   "metadata": {},
   "source": [
    "Sort values"
   ]
  },
  {
   "cell_type": "code",
   "execution_count": 39,
   "metadata": {},
   "outputs": [
    {
     "output_type": "execute_result",
     "data": {
      "text/plain": "   ProductID ProductName  price ShippingLocation SellerName  NumberOfProduct\n1          2     Printer   5990            Delhi    ABC Pvt                1\n3          4   Microwave  12670           Mumbai    PQ Corp                1\n2          3    Split AC  32050             Pune    XY Corp                1\n0          1       LEDTV  32990            Delhi    ABC Pvt                1",
      "text/html": "<div>\n<style scoped>\n    .dataframe tbody tr th:only-of-type {\n        vertical-align: middle;\n    }\n\n    .dataframe tbody tr th {\n        vertical-align: top;\n    }\n\n    .dataframe thead th {\n        text-align: right;\n    }\n</style>\n<table border=\"1\" class=\"dataframe\">\n  <thead>\n    <tr style=\"text-align: right;\">\n      <th></th>\n      <th>ProductID</th>\n      <th>ProductName</th>\n      <th>price</th>\n      <th>ShippingLocation</th>\n      <th>SellerName</th>\n      <th>NumberOfProduct</th>\n    </tr>\n  </thead>\n  <tbody>\n    <tr>\n      <th>1</th>\n      <td>2</td>\n      <td>Printer</td>\n      <td>5990</td>\n      <td>Delhi</td>\n      <td>ABC Pvt</td>\n      <td>1</td>\n    </tr>\n    <tr>\n      <th>3</th>\n      <td>4</td>\n      <td>Microwave</td>\n      <td>12670</td>\n      <td>Mumbai</td>\n      <td>PQ Corp</td>\n      <td>1</td>\n    </tr>\n    <tr>\n      <th>2</th>\n      <td>3</td>\n      <td>Split AC</td>\n      <td>32050</td>\n      <td>Pune</td>\n      <td>XY Corp</td>\n      <td>1</td>\n    </tr>\n    <tr>\n      <th>0</th>\n      <td>1</td>\n      <td>LEDTV</td>\n      <td>32990</td>\n      <td>Delhi</td>\n      <td>ABC Pvt</td>\n      <td>1</td>\n    </tr>\n  </tbody>\n</table>\n</div>"
     },
     "metadata": {},
     "execution_count": 39
    }
   ],
   "source": [
    "#Sort values by cost\n",
    "product_df.sort_values(by='price')"
   ]
  },
  {
   "cell_type": "code",
   "execution_count": 40,
   "metadata": {},
   "outputs": [
    {
     "output_type": "execute_result",
     "data": {
      "text/plain": "   ProductID ProductName  price ShippingLocation SellerName  NumberOfProduct\n0          1       LEDTV  32990            Delhi    ABC Pvt                1\n2          3    Split AC  32050             Pune    XY Corp                1\n3          4   Microwave  12670           Mumbai    PQ Corp                1\n1          2     Printer   5990            Delhi    ABC Pvt                1",
      "text/html": "<div>\n<style scoped>\n    .dataframe tbody tr th:only-of-type {\n        vertical-align: middle;\n    }\n\n    .dataframe tbody tr th {\n        vertical-align: top;\n    }\n\n    .dataframe thead th {\n        text-align: right;\n    }\n</style>\n<table border=\"1\" class=\"dataframe\">\n  <thead>\n    <tr style=\"text-align: right;\">\n      <th></th>\n      <th>ProductID</th>\n      <th>ProductName</th>\n      <th>price</th>\n      <th>ShippingLocation</th>\n      <th>SellerName</th>\n      <th>NumberOfProduct</th>\n    </tr>\n  </thead>\n  <tbody>\n    <tr>\n      <th>0</th>\n      <td>1</td>\n      <td>LEDTV</td>\n      <td>32990</td>\n      <td>Delhi</td>\n      <td>ABC Pvt</td>\n      <td>1</td>\n    </tr>\n    <tr>\n      <th>2</th>\n      <td>3</td>\n      <td>Split AC</td>\n      <td>32050</td>\n      <td>Pune</td>\n      <td>XY Corp</td>\n      <td>1</td>\n    </tr>\n    <tr>\n      <th>3</th>\n      <td>4</td>\n      <td>Microwave</td>\n      <td>12670</td>\n      <td>Mumbai</td>\n      <td>PQ Corp</td>\n      <td>1</td>\n    </tr>\n    <tr>\n      <th>1</th>\n      <td>2</td>\n      <td>Printer</td>\n      <td>5990</td>\n      <td>Delhi</td>\n      <td>ABC Pvt</td>\n      <td>1</td>\n    </tr>\n  </tbody>\n</table>\n</div>"
     },
     "metadata": {},
     "execution_count": 40
    }
   ],
   "source": [
    "#If we want to sort values in descending order\n",
    "product_df.sort_values(by='price',ascending=False)"
   ]
  },
  {
   "cell_type": "code",
   "execution_count": 41,
   "metadata": {},
   "outputs": [
    {
     "output_type": "execute_result",
     "data": {
      "text/plain": "   ProductID ProductName  price ShippingLocation SellerName  NumberOfProduct\n1          2     Printer   5990            Delhi    ABC Pvt                1\n0          1       LEDTV  32990            Delhi    ABC Pvt                1\n3          4   Microwave  12670           Mumbai    PQ Corp                1\n2          3    Split AC  32050             Pune    XY Corp                1",
      "text/html": "<div>\n<style scoped>\n    .dataframe tbody tr th:only-of-type {\n        vertical-align: middle;\n    }\n\n    .dataframe tbody tr th {\n        vertical-align: top;\n    }\n\n    .dataframe thead th {\n        text-align: right;\n    }\n</style>\n<table border=\"1\" class=\"dataframe\">\n  <thead>\n    <tr style=\"text-align: right;\">\n      <th></th>\n      <th>ProductID</th>\n      <th>ProductName</th>\n      <th>price</th>\n      <th>ShippingLocation</th>\n      <th>SellerName</th>\n      <th>NumberOfProduct</th>\n    </tr>\n  </thead>\n  <tbody>\n    <tr>\n      <th>1</th>\n      <td>2</td>\n      <td>Printer</td>\n      <td>5990</td>\n      <td>Delhi</td>\n      <td>ABC Pvt</td>\n      <td>1</td>\n    </tr>\n    <tr>\n      <th>0</th>\n      <td>1</td>\n      <td>LEDTV</td>\n      <td>32990</td>\n      <td>Delhi</td>\n      <td>ABC Pvt</td>\n      <td>1</td>\n    </tr>\n    <tr>\n      <th>3</th>\n      <td>4</td>\n      <td>Microwave</td>\n      <td>12670</td>\n      <td>Mumbai</td>\n      <td>PQ Corp</td>\n      <td>1</td>\n    </tr>\n    <tr>\n      <th>2</th>\n      <td>3</td>\n      <td>Split AC</td>\n      <td>32050</td>\n      <td>Pune</td>\n      <td>XY Corp</td>\n      <td>1</td>\n    </tr>\n  </tbody>\n</table>\n</div>"
     },
     "metadata": {},
     "execution_count": 41
    }
   ],
   "source": [
    "#We can also sort values by two or more features\n",
    "product_df.sort_values(by=['SellerName','price'])"
   ]
  },
  {
   "cell_type": "code",
   "execution_count": 42,
   "metadata": {},
   "outputs": [
    {
     "output_type": "execute_result",
     "data": {
      "text/plain": "ProductID            int64\nProductName         object\nprice                int64\nShippingLocation    object\nSellerName          object\nNumberOfProduct      int64\ndtype: object"
     },
     "metadata": {},
     "execution_count": 42
    }
   ],
   "source": [
    "product_df.dtypes"
   ]
  },
  {
   "cell_type": "code",
   "execution_count": 43,
   "metadata": {},
   "outputs": [
    {
     "output_type": "execute_result",
     "data": {
      "text/plain": "0    32990\n1     5990\n2    32050\n3    12670\nName: price, dtype: object"
     },
     "metadata": {},
     "execution_count": 43
    }
   ],
   "source": [
    "product_df['price'].astype(str)"
   ]
  },
  {
   "cell_type": "markdown",
   "metadata": {},
   "source": [
    "Apply functions"
   ]
  },
  {
   "cell_type": "code",
   "execution_count": 44,
   "metadata": {},
   "outputs": [
    {
     "output_type": "execute_result",
     "data": {
      "text/plain": "0     delhi\n1     delhi\n2      pune\n3    mumbai\nName: ShippingLocation, dtype: object"
     },
     "metadata": {},
     "execution_count": 44
    }
   ],
   "source": [
    "#Declare lambda function\n",
    "smallText =lambda x: x.lower()\n",
    "\n",
    "#Apply on any column of dataframe\n",
    "product_df['ShippingLocation'].apply(smallText)\n"
   ]
  },
  {
   "cell_type": "markdown",
   "metadata": {},
   "source": [
    "Normalizing categorical features"
   ]
  },
  {
   "cell_type": "markdown",
   "metadata": {},
   "source": [
    "Min Max Normalization"
   ]
  },
  {
   "cell_type": "code",
   "execution_count": 45,
   "metadata": {},
   "outputs": [
    {
     "output_type": "execute_result",
     "data": {
      "text/plain": "          0\n0  0.807843\n1  0.000000\n2  0.788235\n3  0.913725\n4  1.000000\n5  0.560784",
      "text/html": "<div>\n<style scoped>\n    .dataframe tbody tr th:only-of-type {\n        vertical-align: middle;\n    }\n\n    .dataframe tbody tr th {\n        vertical-align: top;\n    }\n\n    .dataframe thead th {\n        text-align: right;\n    }\n</style>\n<table border=\"1\" class=\"dataframe\">\n  <thead>\n    <tr style=\"text-align: right;\">\n      <th></th>\n      <th>0</th>\n    </tr>\n  </thead>\n  <tbody>\n    <tr>\n      <th>0</th>\n      <td>0.807843</td>\n    </tr>\n    <tr>\n      <th>1</th>\n      <td>0.000000</td>\n    </tr>\n    <tr>\n      <th>2</th>\n      <td>0.788235</td>\n    </tr>\n    <tr>\n      <th>3</th>\n      <td>0.913725</td>\n    </tr>\n    <tr>\n      <th>4</th>\n      <td>1.000000</td>\n    </tr>\n    <tr>\n      <th>5</th>\n      <td>0.560784</td>\n    </tr>\n  </tbody>\n</table>\n</div>"
     },
     "metadata": {},
     "execution_count": 45
    }
   ],
   "source": [
    "from sklearn import preprocessing\n",
    "\n",
    "data = {'price': [492, 286, 487, 519, 541, 429]}\n",
    "price_frame = pandas.DataFrame(data)\n",
    "\n",
    "min_max_normalizer = preprocessing.MinMaxScaler()\n",
    "scaled_data = min_max_normalizer.fit_transform(price_frame)\n",
    "price_frame_normalized = pandas.DataFrame(scaled_data)\n",
    "price_frame_normalized"
   ]
  },
  {
   "cell_type": "markdown",
   "metadata": {},
   "source": [
    "Z-Score Normalization"
   ]
  },
  {
   "cell_type": "code",
   "execution_count": 46,
   "metadata": {},
   "outputs": [
    {
     "output_type": "execute_result",
     "data": {
      "text/plain": "      price\n0  0.389694\n1 -2.042943\n2  0.330650\n3  0.708535\n4  0.968331\n5 -0.354268",
      "text/html": "<div>\n<style scoped>\n    .dataframe tbody tr th:only-of-type {\n        vertical-align: middle;\n    }\n\n    .dataframe tbody tr th {\n        vertical-align: top;\n    }\n\n    .dataframe thead th {\n        text-align: right;\n    }\n</style>\n<table border=\"1\" class=\"dataframe\">\n  <thead>\n    <tr style=\"text-align: right;\">\n      <th></th>\n      <th>price</th>\n    </tr>\n  </thead>\n  <tbody>\n    <tr>\n      <th>0</th>\n      <td>0.389694</td>\n    </tr>\n    <tr>\n      <th>1</th>\n      <td>-2.042943</td>\n    </tr>\n    <tr>\n      <th>2</th>\n      <td>0.330650</td>\n    </tr>\n    <tr>\n      <th>3</th>\n      <td>0.708535</td>\n    </tr>\n    <tr>\n      <th>4</th>\n      <td>0.968331</td>\n    </tr>\n    <tr>\n      <th>5</th>\n      <td>-0.354268</td>\n    </tr>\n  </tbody>\n</table>\n</div>"
     },
     "metadata": {},
     "execution_count": 46
    }
   ],
   "source": [
    "from sklearn import preprocessing\n",
    "\n",
    "data = {'price': [492, 286, 487, 519, 541, 429]}\n",
    "price_frame = pandas.DataFrame(data)\n",
    "\n",
    "min_max_normalizer = preprocessing.scale(price_frame)\n",
    "price_frame_normalized = pandas.DataFrame(min_max_normalizer,columns=['price'])\n",
    "price_frame_normalized"
   ]
  },
  {
   "cell_type": "markdown",
   "metadata": {},
   "source": [
    "Bin the data"
   ]
  },
  {
   "cell_type": "code",
   "execution_count": 47,
   "metadata": {},
   "outputs": [
    {
     "output_type": "execute_result",
     "data": {
      "text/plain": "    age          categories\n0    28      20 to 40 years\n1    27      20 to 40 years\n2    31      20 to 40 years\n3    31      20 to 40 years\n4    15  Less Than 20 years\n5    41      40 to 60 years\n6    61           60+ years\n7    26      20 to 40 years\n8    85           60+ years\n9     9  Less Than 20 years\n10   88           60+ years\n11   51      40 to 60 years\n12   26      20 to 40 years\n13   52      40 to 60 years\n14   19  Less Than 20 years",
      "text/html": "<div>\n<style scoped>\n    .dataframe tbody tr th:only-of-type {\n        vertical-align: middle;\n    }\n\n    .dataframe tbody tr th {\n        vertical-align: top;\n    }\n\n    .dataframe thead th {\n        text-align: right;\n    }\n</style>\n<table border=\"1\" class=\"dataframe\">\n  <thead>\n    <tr style=\"text-align: right;\">\n      <th></th>\n      <th>age</th>\n      <th>categories</th>\n    </tr>\n  </thead>\n  <tbody>\n    <tr>\n      <th>0</th>\n      <td>28</td>\n      <td>20 to 40 years</td>\n    </tr>\n    <tr>\n      <th>1</th>\n      <td>27</td>\n      <td>20 to 40 years</td>\n    </tr>\n    <tr>\n      <th>2</th>\n      <td>31</td>\n      <td>20 to 40 years</td>\n    </tr>\n    <tr>\n      <th>3</th>\n      <td>31</td>\n      <td>20 to 40 years</td>\n    </tr>\n    <tr>\n      <th>4</th>\n      <td>15</td>\n      <td>Less Than 20 years</td>\n    </tr>\n    <tr>\n      <th>5</th>\n      <td>41</td>\n      <td>40 to 60 years</td>\n    </tr>\n    <tr>\n      <th>6</th>\n      <td>61</td>\n      <td>60+ years</td>\n    </tr>\n    <tr>\n      <th>7</th>\n      <td>26</td>\n      <td>20 to 40 years</td>\n    </tr>\n    <tr>\n      <th>8</th>\n      <td>85</td>\n      <td>60+ years</td>\n    </tr>\n    <tr>\n      <th>9</th>\n      <td>9</td>\n      <td>Less Than 20 years</td>\n    </tr>\n    <tr>\n      <th>10</th>\n      <td>88</td>\n      <td>60+ years</td>\n    </tr>\n    <tr>\n      <th>11</th>\n      <td>51</td>\n      <td>40 to 60 years</td>\n    </tr>\n    <tr>\n      <th>12</th>\n      <td>26</td>\n      <td>20 to 40 years</td>\n    </tr>\n    <tr>\n      <th>13</th>\n      <td>52</td>\n      <td>40 to 60 years</td>\n    </tr>\n    <tr>\n      <th>14</th>\n      <td>19</td>\n      <td>Less Than 20 years</td>\n    </tr>\n  </tbody>\n</table>\n</div>"
     },
     "metadata": {},
     "execution_count": 47
    }
   ],
   "source": [
    "from sklearn import preprocessing\n",
    "\n",
    "data = {'age': [28,27,31,31,15,41,61,26,85,9,88,51,26,52,19]}\n",
    "age_frame = pandas.DataFrame(data)\n",
    "\n",
    "bins = [0, 20, 40, 60, 100]\n",
    "group_names = ['Less Than 20 years', '20 to 40 years', '40 to 60 years', '60+ years']\n",
    "\n",
    "age_frame['categories'] = pandas.cut(age_frame['age'], bins, labels=group_names)\n",
    "age_frame"
   ]
  },
  {
   "cell_type": "markdown",
   "metadata": {},
   "source": [
    "Convert Categorical variable to numeric"
   ]
  },
  {
   "cell_type": "code",
   "execution_count": 48,
   "metadata": {},
   "outputs": [
    {
     "output_type": "execute_result",
     "data": {
      "text/plain": "array([0, 2, 1, 0], dtype=int64)"
     },
     "metadata": {},
     "execution_count": 48
    }
   ],
   "source": [
    "from sklearn import preprocessing\n",
    "\n",
    "encoder = preprocessing.LabelEncoder()\n",
    "encoder.fit_transform([\"Delhi\", \"Pune\", \"Mumbai\", \"Delhi\"])"
   ]
  },
  {
   "cell_type": "code",
   "execution_count": 49,
   "metadata": {},
   "outputs": [
    {
     "output_type": "execute_result",
     "data": {
      "text/plain": "array(['Pune', 'Mumbai', 'Mumbai', 'Delhi'], dtype='<U6')"
     },
     "metadata": {},
     "execution_count": 49
    }
   ],
   "source": [
    "encoder.inverse_transform([2,1,1,0])"
   ]
  },
  {
   "cell_type": "code",
   "execution_count": 50,
   "metadata": {},
   "outputs": [
    {
     "output_type": "execute_result",
     "data": {
      "text/plain": "    Less Than 20 years  20 to 40 years  40 to 60 years  60+ years\n0                    0               1               0          0\n1                    0               1               0          0\n2                    0               1               0          0\n3                    0               1               0          0\n4                    1               0               0          0\n5                    0               0               1          0\n6                    0               0               0          1\n7                    0               1               0          0\n8                    0               0               0          1\n9                    1               0               0          0\n10                   0               0               0          1\n11                   0               0               1          0\n12                   0               1               0          0\n13                   0               0               1          0\n14                   1               0               0          0",
      "text/html": "<div>\n<style scoped>\n    .dataframe tbody tr th:only-of-type {\n        vertical-align: middle;\n    }\n\n    .dataframe tbody tr th {\n        vertical-align: top;\n    }\n\n    .dataframe thead th {\n        text-align: right;\n    }\n</style>\n<table border=\"1\" class=\"dataframe\">\n  <thead>\n    <tr style=\"text-align: right;\">\n      <th></th>\n      <th>Less Than 20 years</th>\n      <th>20 to 40 years</th>\n      <th>40 to 60 years</th>\n      <th>60+ years</th>\n    </tr>\n  </thead>\n  <tbody>\n    <tr>\n      <th>0</th>\n      <td>0</td>\n      <td>1</td>\n      <td>0</td>\n      <td>0</td>\n    </tr>\n    <tr>\n      <th>1</th>\n      <td>0</td>\n      <td>1</td>\n      <td>0</td>\n      <td>0</td>\n    </tr>\n    <tr>\n      <th>2</th>\n      <td>0</td>\n      <td>1</td>\n      <td>0</td>\n      <td>0</td>\n    </tr>\n    <tr>\n      <th>3</th>\n      <td>0</td>\n      <td>1</td>\n      <td>0</td>\n      <td>0</td>\n    </tr>\n    <tr>\n      <th>4</th>\n      <td>1</td>\n      <td>0</td>\n      <td>0</td>\n      <td>0</td>\n    </tr>\n    <tr>\n      <th>5</th>\n      <td>0</td>\n      <td>0</td>\n      <td>1</td>\n      <td>0</td>\n    </tr>\n    <tr>\n      <th>6</th>\n      <td>0</td>\n      <td>0</td>\n      <td>0</td>\n      <td>1</td>\n    </tr>\n    <tr>\n      <th>7</th>\n      <td>0</td>\n      <td>1</td>\n      <td>0</td>\n      <td>0</td>\n    </tr>\n    <tr>\n      <th>8</th>\n      <td>0</td>\n      <td>0</td>\n      <td>0</td>\n      <td>1</td>\n    </tr>\n    <tr>\n      <th>9</th>\n      <td>1</td>\n      <td>0</td>\n      <td>0</td>\n      <td>0</td>\n    </tr>\n    <tr>\n      <th>10</th>\n      <td>0</td>\n      <td>0</td>\n      <td>0</td>\n      <td>1</td>\n    </tr>\n    <tr>\n      <th>11</th>\n      <td>0</td>\n      <td>0</td>\n      <td>1</td>\n      <td>0</td>\n    </tr>\n    <tr>\n      <th>12</th>\n      <td>0</td>\n      <td>1</td>\n      <td>0</td>\n      <td>0</td>\n    </tr>\n    <tr>\n      <th>13</th>\n      <td>0</td>\n      <td>0</td>\n      <td>1</td>\n      <td>0</td>\n    </tr>\n    <tr>\n      <th>14</th>\n      <td>1</td>\n      <td>0</td>\n      <td>0</td>\n      <td>0</td>\n    </tr>\n  </tbody>\n</table>\n</div>"
     },
     "metadata": {},
     "execution_count": 50
    }
   ],
   "source": [
    "dummy_frame = pandas.get_dummies(age_frame.categories)\n",
    "dummy_frame"
   ]
  },
  {
   "cell_type": "code",
   "execution_count": 51,
   "metadata": {},
   "outputs": [
    {
     "output_type": "execute_result",
     "data": {
      "text/plain": "         Dates\n0   2017-07-06\n1   2017-07-07\n2   2017-07-08\n3   2017-07-09\n4   2017-07-10\n..         ...\n161 2017-12-14\n162 2017-12-15\n163 2017-12-16\n164 2017-12-17\n165 2017-12-18\n\n[166 rows x 1 columns]",
      "text/html": "<div>\n<style scoped>\n    .dataframe tbody tr th:only-of-type {\n        vertical-align: middle;\n    }\n\n    .dataframe tbody tr th {\n        vertical-align: top;\n    }\n\n    .dataframe thead th {\n        text-align: right;\n    }\n</style>\n<table border=\"1\" class=\"dataframe\">\n  <thead>\n    <tr style=\"text-align: right;\">\n      <th></th>\n      <th>Dates</th>\n    </tr>\n  </thead>\n  <tbody>\n    <tr>\n      <th>0</th>\n      <td>2017-07-06</td>\n    </tr>\n    <tr>\n      <th>1</th>\n      <td>2017-07-07</td>\n    </tr>\n    <tr>\n      <th>2</th>\n      <td>2017-07-08</td>\n    </tr>\n    <tr>\n      <th>3</th>\n      <td>2017-07-09</td>\n    </tr>\n    <tr>\n      <th>4</th>\n      <td>2017-07-10</td>\n    </tr>\n    <tr>\n      <th>...</th>\n      <td>...</td>\n    </tr>\n    <tr>\n      <th>161</th>\n      <td>2017-12-14</td>\n    </tr>\n    <tr>\n      <th>162</th>\n      <td>2017-12-15</td>\n    </tr>\n    <tr>\n      <th>163</th>\n      <td>2017-12-16</td>\n    </tr>\n    <tr>\n      <th>164</th>\n      <td>2017-12-17</td>\n    </tr>\n    <tr>\n      <th>165</th>\n      <td>2017-12-18</td>\n    </tr>\n  </tbody>\n</table>\n<p>166 rows × 1 columns</p>\n</div>"
     },
     "metadata": {},
     "execution_count": 51
    }
   ],
   "source": [
    "import pandas\n",
    "startDate = '2017-07-06'\n",
    "endDate = '2017-12-18'\n",
    "Dates = pandas.DataFrame(pandas.date_range(startDate, endDate),columns=['Dates'])\n",
    "Dates"
   ]
  },
  {
   "cell_type": "code",
   "execution_count": 52,
   "metadata": {},
   "outputs": [
    {
     "output_type": "error",
     "ename": "AttributeError",
     "evalue": "'Timestamp' object has no attribute 'weekday_name'",
     "traceback": [
      "\u001b[1;31m---------------------------------------------------------------------------\u001b[0m",
      "\u001b[1;31mAttributeError\u001b[0m                            Traceback (most recent call last)",
      "\u001b[1;32m<ipython-input-52-dfc68eadc2cc>\u001b[0m in \u001b[0;36m<module>\u001b[1;34m\u001b[0m\n\u001b[0;32m      2\u001b[0m \u001b[0mDates\u001b[0m\u001b[1;33m[\u001b[0m\u001b[1;34m'day'\u001b[0m\u001b[1;33m]\u001b[0m \u001b[1;33m=\u001b[0m \u001b[0mDates\u001b[0m\u001b[1;33m[\u001b[0m\u001b[1;34m'Dates'\u001b[0m\u001b[1;33m]\u001b[0m\u001b[1;33m.\u001b[0m\u001b[0mmap\u001b[0m\u001b[1;33m(\u001b[0m\u001b[1;32mlambda\u001b[0m \u001b[0mx\u001b[0m\u001b[1;33m:\u001b[0m\u001b[0mx\u001b[0m\u001b[1;33m.\u001b[0m\u001b[0mday\u001b[0m\u001b[1;33m)\u001b[0m\u001b[1;33m\u001b[0m\u001b[1;33m\u001b[0m\u001b[0m\n\u001b[0;32m      3\u001b[0m \u001b[0mDates\u001b[0m\u001b[1;33m[\u001b[0m\u001b[1;34m'month'\u001b[0m\u001b[1;33m]\u001b[0m \u001b[1;33m=\u001b[0m \u001b[0mDates\u001b[0m\u001b[1;33m[\u001b[0m\u001b[1;34m'Dates'\u001b[0m\u001b[1;33m]\u001b[0m\u001b[1;33m.\u001b[0m\u001b[0mmap\u001b[0m\u001b[1;33m(\u001b[0m\u001b[1;32mlambda\u001b[0m \u001b[0mx\u001b[0m\u001b[1;33m:\u001b[0m\u001b[0mx\u001b[0m\u001b[1;33m.\u001b[0m\u001b[0mmonth\u001b[0m\u001b[1;33m)\u001b[0m\u001b[1;33m\u001b[0m\u001b[1;33m\u001b[0m\u001b[0m\n\u001b[1;32m----> 4\u001b[1;33m \u001b[0mDates\u001b[0m\u001b[1;33m[\u001b[0m\u001b[1;34m'da_of_week'\u001b[0m\u001b[1;33m]\u001b[0m \u001b[1;33m=\u001b[0m \u001b[0mDates\u001b[0m\u001b[1;33m[\u001b[0m\u001b[1;34m'Dates'\u001b[0m\u001b[1;33m]\u001b[0m\u001b[1;33m.\u001b[0m\u001b[0mmap\u001b[0m\u001b[1;33m(\u001b[0m\u001b[1;32mlambda\u001b[0m \u001b[0mx\u001b[0m\u001b[1;33m:\u001b[0m\u001b[0mx\u001b[0m\u001b[1;33m.\u001b[0m\u001b[0mweekday_name\u001b[0m\u001b[1;33m)\u001b[0m\u001b[1;33m\u001b[0m\u001b[1;33m\u001b[0m\u001b[0m\n\u001b[0m\u001b[0;32m      5\u001b[0m \u001b[0mDates\u001b[0m\u001b[1;33m[\u001b[0m\u001b[1;34m'is_weekend'\u001b[0m\u001b[1;33m]\u001b[0m \u001b[1;33m=\u001b[0m \u001b[0mDates\u001b[0m\u001b[1;33m[\u001b[0m\u001b[1;34m'Dates'\u001b[0m\u001b[1;33m]\u001b[0m\u001b[1;33m.\u001b[0m\u001b[0mmap\u001b[0m\u001b[1;33m(\u001b[0m\u001b[1;32mlambda\u001b[0m \u001b[0mx\u001b[0m\u001b[1;33m:\u001b[0m\u001b[0mnumpy\u001b[0m\u001b[1;33m.\u001b[0m\u001b[0mis_busday\u001b[0m\u001b[1;33m(\u001b[0m\u001b[0mx\u001b[0m\u001b[1;33m,\u001b[0m \u001b[0mweekmask\u001b[0m\u001b[1;33m=\u001b[0m\u001b[1;34m'1111100'\u001b[0m \u001b[1;33m)\u001b[0m\u001b[1;33m)\u001b[0m\u001b[1;33m\u001b[0m\u001b[1;33m\u001b[0m\u001b[0m\n\u001b[0;32m      6\u001b[0m \u001b[0mDates\u001b[0m\u001b[1;33m\u001b[0m\u001b[1;33m\u001b[0m\u001b[0m\n",
      "\u001b[1;32mD:\\Anaconda3\\lib\\site-packages\\pandas\\core\\series.py\u001b[0m in \u001b[0;36mmap\u001b[1;34m(self, arg, na_action)\u001b[0m\n\u001b[0;32m   3628\u001b[0m         \u001b[0mdtype\u001b[0m\u001b[1;33m:\u001b[0m \u001b[0mobject\u001b[0m\u001b[1;33m\u001b[0m\u001b[1;33m\u001b[0m\u001b[0m\n\u001b[0;32m   3629\u001b[0m         \"\"\"\n\u001b[1;32m-> 3630\u001b[1;33m         \u001b[0mnew_values\u001b[0m \u001b[1;33m=\u001b[0m \u001b[0msuper\u001b[0m\u001b[1;33m(\u001b[0m\u001b[1;33m)\u001b[0m\u001b[1;33m.\u001b[0m\u001b[0m_map_values\u001b[0m\u001b[1;33m(\u001b[0m\u001b[0marg\u001b[0m\u001b[1;33m,\u001b[0m \u001b[0mna_action\u001b[0m\u001b[1;33m=\u001b[0m\u001b[0mna_action\u001b[0m\u001b[1;33m)\u001b[0m\u001b[1;33m\u001b[0m\u001b[1;33m\u001b[0m\u001b[0m\n\u001b[0m\u001b[0;32m   3631\u001b[0m         \u001b[1;32mreturn\u001b[0m \u001b[0mself\u001b[0m\u001b[1;33m.\u001b[0m\u001b[0m_constructor\u001b[0m\u001b[1;33m(\u001b[0m\u001b[0mnew_values\u001b[0m\u001b[1;33m,\u001b[0m \u001b[0mindex\u001b[0m\u001b[1;33m=\u001b[0m\u001b[0mself\u001b[0m\u001b[1;33m.\u001b[0m\u001b[0mindex\u001b[0m\u001b[1;33m)\u001b[0m\u001b[1;33m.\u001b[0m\u001b[0m__finalize__\u001b[0m\u001b[1;33m(\u001b[0m\u001b[0mself\u001b[0m\u001b[1;33m)\u001b[0m\u001b[1;33m\u001b[0m\u001b[1;33m\u001b[0m\u001b[0m\n\u001b[0;32m   3632\u001b[0m \u001b[1;33m\u001b[0m\u001b[0m\n",
      "\u001b[1;32mD:\\Anaconda3\\lib\\site-packages\\pandas\\core\\base.py\u001b[0m in \u001b[0;36m_map_values\u001b[1;34m(self, mapper, na_action)\u001b[0m\n\u001b[0;32m   1143\u001b[0m \u001b[1;33m\u001b[0m\u001b[0m\n\u001b[0;32m   1144\u001b[0m         \u001b[1;31m# mapper is a function\u001b[0m\u001b[1;33m\u001b[0m\u001b[1;33m\u001b[0m\u001b[1;33m\u001b[0m\u001b[0m\n\u001b[1;32m-> 1145\u001b[1;33m         \u001b[0mnew_values\u001b[0m \u001b[1;33m=\u001b[0m \u001b[0mmap_f\u001b[0m\u001b[1;33m(\u001b[0m\u001b[0mvalues\u001b[0m\u001b[1;33m,\u001b[0m \u001b[0mmapper\u001b[0m\u001b[1;33m)\u001b[0m\u001b[1;33m\u001b[0m\u001b[1;33m\u001b[0m\u001b[0m\n\u001b[0m\u001b[0;32m   1146\u001b[0m \u001b[1;33m\u001b[0m\u001b[0m\n\u001b[0;32m   1147\u001b[0m         \u001b[1;32mreturn\u001b[0m \u001b[0mnew_values\u001b[0m\u001b[1;33m\u001b[0m\u001b[1;33m\u001b[0m\u001b[0m\n",
      "\u001b[1;32mpandas\\_libs\\lib.pyx\u001b[0m in \u001b[0;36mpandas._libs.lib.map_infer\u001b[1;34m()\u001b[0m\n",
      "\u001b[1;32m<ipython-input-52-dfc68eadc2cc>\u001b[0m in \u001b[0;36m<lambda>\u001b[1;34m(x)\u001b[0m\n\u001b[0;32m      2\u001b[0m \u001b[0mDates\u001b[0m\u001b[1;33m[\u001b[0m\u001b[1;34m'day'\u001b[0m\u001b[1;33m]\u001b[0m \u001b[1;33m=\u001b[0m \u001b[0mDates\u001b[0m\u001b[1;33m[\u001b[0m\u001b[1;34m'Dates'\u001b[0m\u001b[1;33m]\u001b[0m\u001b[1;33m.\u001b[0m\u001b[0mmap\u001b[0m\u001b[1;33m(\u001b[0m\u001b[1;32mlambda\u001b[0m \u001b[0mx\u001b[0m\u001b[1;33m:\u001b[0m\u001b[0mx\u001b[0m\u001b[1;33m.\u001b[0m\u001b[0mday\u001b[0m\u001b[1;33m)\u001b[0m\u001b[1;33m\u001b[0m\u001b[1;33m\u001b[0m\u001b[0m\n\u001b[0;32m      3\u001b[0m \u001b[0mDates\u001b[0m\u001b[1;33m[\u001b[0m\u001b[1;34m'month'\u001b[0m\u001b[1;33m]\u001b[0m \u001b[1;33m=\u001b[0m \u001b[0mDates\u001b[0m\u001b[1;33m[\u001b[0m\u001b[1;34m'Dates'\u001b[0m\u001b[1;33m]\u001b[0m\u001b[1;33m.\u001b[0m\u001b[0mmap\u001b[0m\u001b[1;33m(\u001b[0m\u001b[1;32mlambda\u001b[0m \u001b[0mx\u001b[0m\u001b[1;33m:\u001b[0m\u001b[0mx\u001b[0m\u001b[1;33m.\u001b[0m\u001b[0mmonth\u001b[0m\u001b[1;33m)\u001b[0m\u001b[1;33m\u001b[0m\u001b[1;33m\u001b[0m\u001b[0m\n\u001b[1;32m----> 4\u001b[1;33m \u001b[0mDates\u001b[0m\u001b[1;33m[\u001b[0m\u001b[1;34m'da_of_week'\u001b[0m\u001b[1;33m]\u001b[0m \u001b[1;33m=\u001b[0m \u001b[0mDates\u001b[0m\u001b[1;33m[\u001b[0m\u001b[1;34m'Dates'\u001b[0m\u001b[1;33m]\u001b[0m\u001b[1;33m.\u001b[0m\u001b[0mmap\u001b[0m\u001b[1;33m(\u001b[0m\u001b[1;32mlambda\u001b[0m \u001b[0mx\u001b[0m\u001b[1;33m:\u001b[0m\u001b[0mx\u001b[0m\u001b[1;33m.\u001b[0m\u001b[0mweekday_name\u001b[0m\u001b[1;33m)\u001b[0m\u001b[1;33m\u001b[0m\u001b[1;33m\u001b[0m\u001b[0m\n\u001b[0m\u001b[0;32m      5\u001b[0m \u001b[0mDates\u001b[0m\u001b[1;33m[\u001b[0m\u001b[1;34m'is_weekend'\u001b[0m\u001b[1;33m]\u001b[0m \u001b[1;33m=\u001b[0m \u001b[0mDates\u001b[0m\u001b[1;33m[\u001b[0m\u001b[1;34m'Dates'\u001b[0m\u001b[1;33m]\u001b[0m\u001b[1;33m.\u001b[0m\u001b[0mmap\u001b[0m\u001b[1;33m(\u001b[0m\u001b[1;32mlambda\u001b[0m \u001b[0mx\u001b[0m\u001b[1;33m:\u001b[0m\u001b[0mnumpy\u001b[0m\u001b[1;33m.\u001b[0m\u001b[0mis_busday\u001b[0m\u001b[1;33m(\u001b[0m\u001b[0mx\u001b[0m\u001b[1;33m,\u001b[0m \u001b[0mweekmask\u001b[0m\u001b[1;33m=\u001b[0m\u001b[1;34m'1111100'\u001b[0m \u001b[1;33m)\u001b[0m\u001b[1;33m)\u001b[0m\u001b[1;33m\u001b[0m\u001b[1;33m\u001b[0m\u001b[0m\n\u001b[0;32m      6\u001b[0m \u001b[0mDates\u001b[0m\u001b[1;33m\u001b[0m\u001b[1;33m\u001b[0m\u001b[0m\n",
      "\u001b[1;31mAttributeError\u001b[0m: 'Timestamp' object has no attribute 'weekday_name'"
     ]
    }
   ],
   "source": [
    "import numpy\n",
    "Dates['day'] = Dates['Dates'].map(lambda x:x.day)\n",
    "Dates['month'] = Dates['Dates'].map(lambda x:x.month)\n",
    "Dates['da_of_week'] = Dates['Dates'].map(lambda x:x.weekday_name)\n",
    "Dates['is_weekend'] = Dates['Dates'].map(lambda x:numpy.is_busday(x, weekmask='1111100' ))\n",
    "Dates"
   ]
  },
  {
   "cell_type": "code",
   "execution_count": 53,
   "metadata": {},
   "outputs": [
    {
     "output_type": "execute_result",
     "data": {
      "text/plain": "   bad  condition  delivery  great  nice  product  shiiping  was\n0    0          0         0      0     1        1         0    0\n1    1          1         0      0     0        0         0    0\n2    1          0         0      0     0        0         1    1\n3    0          0         1      1     0        0         0    0",
      "text/html": "<div>\n<style scoped>\n    .dataframe tbody tr th:only-of-type {\n        vertical-align: middle;\n    }\n\n    .dataframe tbody tr th {\n        vertical-align: top;\n    }\n\n    .dataframe thead th {\n        text-align: right;\n    }\n</style>\n<table border=\"1\" class=\"dataframe\">\n  <thead>\n    <tr style=\"text-align: right;\">\n      <th></th>\n      <th>bad</th>\n      <th>condition</th>\n      <th>delivery</th>\n      <th>great</th>\n      <th>nice</th>\n      <th>product</th>\n      <th>shiiping</th>\n      <th>was</th>\n    </tr>\n  </thead>\n  <tbody>\n    <tr>\n      <th>0</th>\n      <td>0</td>\n      <td>0</td>\n      <td>0</td>\n      <td>0</td>\n      <td>1</td>\n      <td>1</td>\n      <td>0</td>\n      <td>0</td>\n    </tr>\n    <tr>\n      <th>1</th>\n      <td>1</td>\n      <td>1</td>\n      <td>0</td>\n      <td>0</td>\n      <td>0</td>\n      <td>0</td>\n      <td>0</td>\n      <td>0</td>\n    </tr>\n    <tr>\n      <th>2</th>\n      <td>1</td>\n      <td>0</td>\n      <td>0</td>\n      <td>0</td>\n      <td>0</td>\n      <td>0</td>\n      <td>1</td>\n      <td>1</td>\n    </tr>\n    <tr>\n      <th>3</th>\n      <td>0</td>\n      <td>0</td>\n      <td>1</td>\n      <td>1</td>\n      <td>0</td>\n      <td>0</td>\n      <td>0</td>\n      <td>0</td>\n    </tr>\n  </tbody>\n</table>\n</div>"
     },
     "metadata": {},
     "execution_count": 53
    }
   ],
   "source": [
    "from sklearn.feature_extraction.text import CountVectorizer\n",
    "comments=['nice product',\n",
    "         'bad condition',\n",
    "         'shiiping was bad',\n",
    "         'great delivery']\n",
    "count_vect = CountVectorizer()\n",
    "X_train_counts = count_vect.fit_transform(comments)\n",
    "word_frame = pandas.DataFrame(X_train_counts.toarray())\n",
    "\n",
    "#Get all column name and integer index mapping\n",
    "word_dict = dict((v, k) for k, v in count_vect.vocabulary_.items())\n",
    "\n",
    "#Now replace integer column names with words\n",
    "word_frame = word_frame.rename(columns=word_dict)\n",
    "word_frame"
   ]
  },
  {
   "cell_type": "code",
   "execution_count": 54,
   "metadata": {},
   "outputs": [
    {
     "output_type": "execute_result",
     "data": {
      "text/plain": "        bad  condition  delivery     great      nice   product  shiiping  \\\n0  0.000000   0.000000  0.000000  0.000000  0.707107  0.707107  0.000000   \n1  0.619130   0.785288  0.000000  0.000000  0.000000  0.000000  0.000000   \n2  0.486934   0.000000  0.000000  0.000000  0.000000  0.000000  0.617614   \n3  0.000000   0.000000  0.707107  0.707107  0.000000  0.000000  0.000000   \n\n        was  \n0  0.000000  \n1  0.000000  \n2  0.617614  \n3  0.000000  ",
      "text/html": "<div>\n<style scoped>\n    .dataframe tbody tr th:only-of-type {\n        vertical-align: middle;\n    }\n\n    .dataframe tbody tr th {\n        vertical-align: top;\n    }\n\n    .dataframe thead th {\n        text-align: right;\n    }\n</style>\n<table border=\"1\" class=\"dataframe\">\n  <thead>\n    <tr style=\"text-align: right;\">\n      <th></th>\n      <th>bad</th>\n      <th>condition</th>\n      <th>delivery</th>\n      <th>great</th>\n      <th>nice</th>\n      <th>product</th>\n      <th>shiiping</th>\n      <th>was</th>\n    </tr>\n  </thead>\n  <tbody>\n    <tr>\n      <th>0</th>\n      <td>0.000000</td>\n      <td>0.000000</td>\n      <td>0.000000</td>\n      <td>0.000000</td>\n      <td>0.707107</td>\n      <td>0.707107</td>\n      <td>0.000000</td>\n      <td>0.000000</td>\n    </tr>\n    <tr>\n      <th>1</th>\n      <td>0.619130</td>\n      <td>0.785288</td>\n      <td>0.000000</td>\n      <td>0.000000</td>\n      <td>0.000000</td>\n      <td>0.000000</td>\n      <td>0.000000</td>\n      <td>0.000000</td>\n    </tr>\n    <tr>\n      <th>2</th>\n      <td>0.486934</td>\n      <td>0.000000</td>\n      <td>0.000000</td>\n      <td>0.000000</td>\n      <td>0.000000</td>\n      <td>0.000000</td>\n      <td>0.617614</td>\n      <td>0.617614</td>\n    </tr>\n    <tr>\n      <th>3</th>\n      <td>0.000000</td>\n      <td>0.000000</td>\n      <td>0.707107</td>\n      <td>0.707107</td>\n      <td>0.000000</td>\n      <td>0.000000</td>\n      <td>0.000000</td>\n      <td>0.000000</td>\n    </tr>\n  </tbody>\n</table>\n</div>"
     },
     "metadata": {},
     "execution_count": 54
    }
   ],
   "source": [
    "from sklearn.feature_extraction.text import TfidfVectorizer\n",
    "\n",
    "tfidf_transformer = TfidfVectorizer()\n",
    "#tfidf_transformer.fit(X_train_counts)\n",
    "X_train_tfidf = tfidf_transformer.fit_transform(comments)\n",
    "\n",
    "word_frame = pandas.DataFrame(X_train_tfidf.toarray())\n",
    "\n",
    "#Get all column name and integer index mapping\n",
    "word_dict = dict((v, k) for k, v in tfidf_transformer.vocabulary_.items())\n",
    "\n",
    "#Now replace integer column names with words\n",
    "word_frame = word_frame.rename(columns=word_dict)\n",
    "\n",
    "word_frame"
   ]
  },
  {
   "cell_type": "markdown",
   "metadata": {},
   "source": [
    "Dimentionality Reduction"
   ]
  },
  {
   "cell_type": "code",
   "execution_count": 55,
   "metadata": {},
   "outputs": [
    {
     "output_type": "execute_result",
     "data": {
      "text/plain": "array([[ 5.36362256e-01, -7.07106781e-01,  7.51836139e-17,\n         5.09893376e-17],\n       [-5.36362256e-01, -6.96319551e-16, -5.90984029e-01,\n         5.09893376e-17],\n       [-5.36362256e-01, -7.66186799e-16,  5.90984029e-01,\n         5.09893376e-17],\n       [ 5.36362256e-01,  7.07106781e-01,  3.49246184e-17,\n         5.09893376e-17]])"
     },
     "metadata": {},
     "execution_count": 55
    }
   ],
   "source": [
    "from sklearn.decomposition import PCA\n",
    "pca = PCA()\n",
    "pca.fit_transform(word_frame)"
   ]
  }
 ],
 "metadata": {
  "kernelspec": {
   "display_name": "Python 3",
   "language": "python",
   "name": "python3"
  },
  "language_info": {
   "codemirror_mode": {
    "name": "ipython",
    "version": 3
   },
   "file_extension": ".py",
   "mimetype": "text/x-python",
   "name": "python",
   "nbconvert_exporter": "python",
   "pygments_lexer": "ipython3",
   "version": "3.7.6-final"
  }
 },
 "nbformat": 4,
 "nbformat_minor": 2
}