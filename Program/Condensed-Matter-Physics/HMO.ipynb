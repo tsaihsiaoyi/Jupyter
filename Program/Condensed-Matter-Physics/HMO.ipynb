{
 "cells": [
  {
   "cell_type": "code",
   "execution_count": 1,
   "metadata": {},
   "outputs": [],
   "source": [
    "import sympy as sp"
   ]
  },
  {
   "cell_type": "code",
   "execution_count": 2,
   "metadata": {},
   "outputs": [],
   "source": [
    "x=sp.symbols('x')\n",
    "c1,c2,c3,c4,c5,c6=sp.symbols('c1 c2 c3 c4 c5 c6')\n",
    "c=sp.Matrix([c1,c2,c3,c4,c5,c6])\n",
    "M=sp.Matrix([\n",
    "    [x,1,0,0,0,1],\n",
    "    [1,x,1,0,0,0],\n",
    "    [0,1,x,1,0,0],\n",
    "    [0,0,1,x,1,0],\n",
    "    [0,0,0,1,x,1],\n",
    "    [1,0,0,0,1,x]\n",
    "    ])"
   ]
  },
  {
   "cell_type": "code",
   "execution_count": 21,
   "metadata": {},
   "outputs": [
    {
     "output_type": "execute_result",
     "data": {
      "text/plain": [
       "[-2, -1, -1, 1, 1, 2]"
      ]
     },
     "metadata": {},
     "execution_count": 21
    }
   ],
   "source": [
    "poly=M.det().as_poly()\n",
    "res=poly.all_roots()\n",
    "res"
   ]
  },
  {
   "cell_type": "code",
   "execution_count": 22,
   "metadata": {},
   "outputs": [],
   "source": [
    "mc=M*c"
   ]
  },
  {
   "cell_type": "code",
   "execution_count": 32,
   "metadata": {},
   "outputs": [],
   "source": [
    "ans=sp.solve([mc[0],mc[1],mc[2],mc[3],mc[4],c1**2+c2**2+c3**2+c4**2+c5**2+c6**2-1],[c1,c2,c3,c4,c5,c6])"
   ]
  },
  {
   "cell_type": "code",
   "execution_count": 33,
   "metadata": {},
   "outputs": [
    {
     "output_type": "stream",
     "name": "stdout",
     "text": [
      "-2 [sqrt(6)/6, sqrt(6)/6, sqrt(6)/6, sqrt(6)/6, sqrt(6)/6, sqrt(6)/6]\n-1 [-sqrt(3)/6, sqrt(3)/6, sqrt(3)/3, sqrt(3)/6, -sqrt(3)/6, -sqrt(3)/3]\n-1 [-sqrt(3)/6, sqrt(3)/6, sqrt(3)/3, sqrt(3)/6, -sqrt(3)/6, -sqrt(3)/3]\n1 [-sqrt(3)/6, -sqrt(3)/6, sqrt(3)/3, -sqrt(3)/6, -sqrt(3)/6, sqrt(3)/3]\n1 [-sqrt(3)/6, -sqrt(3)/6, sqrt(3)/3, -sqrt(3)/6, -sqrt(3)/6, sqrt(3)/3]\n2 [sqrt(6)/6, -sqrt(6)/6, sqrt(6)/6, -sqrt(6)/6, sqrt(6)/6, -sqrt(6)/6]\n"
     ]
    }
   ],
   "source": [
    "for i in res:\n",
    "    print(i,[j.subs({x:i}) for j in ans[1]])"
   ]
  },
  {
   "cell_type": "code",
   "execution_count": 34,
   "metadata": {},
   "outputs": [
    {
     "output_type": "stream",
     "name": "stdout",
     "text": [
      "-2 [-sqrt(6)/6, -sqrt(6)/6, -sqrt(6)/6, -sqrt(6)/6, -sqrt(6)/6, -sqrt(6)/6]\n-1 [sqrt(3)/6, -sqrt(3)/6, -sqrt(3)/3, -sqrt(3)/6, sqrt(3)/6, sqrt(3)/3]\n-1 [sqrt(3)/6, -sqrt(3)/6, -sqrt(3)/3, -sqrt(3)/6, sqrt(3)/6, sqrt(3)/3]\n1 [sqrt(3)/6, sqrt(3)/6, -sqrt(3)/3, sqrt(3)/6, sqrt(3)/6, -sqrt(3)/3]\n1 [sqrt(3)/6, sqrt(3)/6, -sqrt(3)/3, sqrt(3)/6, sqrt(3)/6, -sqrt(3)/3]\n2 [-sqrt(6)/6, sqrt(6)/6, -sqrt(6)/6, sqrt(6)/6, -sqrt(6)/6, sqrt(6)/6]\n"
     ]
    }
   ],
   "source": [
    "for i in res:\n",
    "    print(i,[j.subs({x:i}) for j in ans[0]])"
   ]
  },
  {
   "cell_type": "code",
   "execution_count": 35,
   "metadata": {},
   "outputs": [
    {
     "output_type": "execute_result",
     "data": {
      "text/plain": [
       "[((2 - x**2)*sqrt(1/(x**6 - 4*x**4 + 3*x**2 + 12)),\n",
       "  x*sqrt(1/(x**6 - 4*x**4 + 3*x**2 + 12)),\n",
       "  -2*sqrt(1/(x**6 - 4*x**4 + 3*x**2 + 12)),\n",
       "  x*sqrt(1/(x**6 - 4*x**4 + 3*x**2 + 12)),\n",
       "  (2 - x**2)*sqrt(1/(x**6 - 4*x**4 + 3*x**2 + 12)),\n",
       "  x*(x**2 - 3)*sqrt(1/(x**6 - 4*x**4 + 3*x**2 + 12))),\n",
       " ((x**2 - 2)*sqrt(1/(x**6 - 4*x**4 + 3*x**2 + 12)),\n",
       "  -x*sqrt(1/(x**6 - 4*x**4 + 3*x**2 + 12)),\n",
       "  2*sqrt(1/(x**6 - 4*x**4 + 3*x**2 + 12)),\n",
       "  -x*sqrt(1/(x**6 - 4*x**4 + 3*x**2 + 12)),\n",
       "  (x**2 - 2)*sqrt(1/(x**6 - 4*x**4 + 3*x**2 + 12)),\n",
       "  -x*(x**2 - 3)*sqrt(1/(x**6 - 4*x**4 + 3*x**2 + 12)))]"
      ]
     },
     "metadata": {},
     "execution_count": 35
    }
   ],
   "source": [
    "ans"
   ]
  },
  {
   "cell_type": "code",
   "execution_count": null,
   "metadata": {},
   "outputs": [],
   "source": []
  }
 ],
 "metadata": {
  "kernelspec": {
   "display_name": "Python 3",
   "language": "python",
   "name": "python3"
  },
  "language_info": {
   "codemirror_mode": {
    "name": "ipython",
    "version": 3
   },
   "file_extension": ".py",
   "mimetype": "text/x-python",
   "name": "python",
   "nbconvert_exporter": "python",
   "pygments_lexer": "ipython3",
   "version": "3.7.9-final"
  }
 },
 "nbformat": 4,
 "nbformat_minor": 2
}